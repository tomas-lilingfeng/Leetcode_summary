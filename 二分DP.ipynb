{
 "cells": [
  {
   "cell_type": "markdown",
   "metadata": {},
   "source": [
    "## 题目：179. 最大数\n",
    "#### 给定一组非负整数，重新排列它们的顺序使之组成一个最大的整数。"
   ]
  },
  {
   "cell_type": "markdown",
   "metadata": {},
   "source": [
    "####  输入: [10,2]\n",
    "#### 输出: 210"
   ]
  },
  {
   "cell_type": "markdown",
   "metadata": {},
   "source": [
    "#### 解题思路：这种解法对于两个数字a和b来说，如果将其都转为字符串，如果ab > ba，则a排在前面，比如9和34，由于934>349，所以9排在前面，再比如说30和3，由于303<330，所以3排在30的前面。按照这种规则对原数组进行排序后，将每个数字转化为字符串再连接起来就是最终结果。代码如下："
   ]
  },
  {
   "cell_type": "code",
   "execution_count": null,
   "metadata": {},
   "outputs": [],
   "source": [
    "class Solution {\n",
    "public:\n",
    "    // string largestNumber(vector<int>& nums) {\n",
    "    //     string res;\n",
    "    //     sort(nums.begin(),nums.end(),[](int a,int b){\n",
    "    //         return to_string(a)+to_string(b)>to_string(b)+to_string(a);\n",
    "    //     });\n",
    "    //     for(int i=0;i<nums.size();++i){\n",
    "    //         res+=to_string(nums[i]);\n",
    "    //     }\n",
    "    //     return res[0]=='0'?\"0\":res;\n",
    "    // }\n",
    "    \n",
    "    string largestNumber(vector<int>& nums){\n",
    "        //时间复杂度为O(nlogn),空间复杂度为O(n)\n",
    "        string res;\n",
    "        quick_sort(nums,0,nums.size());\n",
    "        for(int i=0;i<nums.size();++i)\n",
    "            res+=to_string(nums[i]);\n",
    "        \n",
    "        return res[0]=='0'?\"0\":res;\n",
    "        \n",
    "    }\n",
    "    void quick_sort(vector<int> &nums,int b,int e){\n",
    "        if(b<e-1){\n",
    "            int lb=b,rb=e-1;\n",
    "            while(lb<rb){\n",
    "                while(vail(nums[rb],nums[b])&&lb<rb)\n",
    "                    rb--;\n",
    "                while(vail(nums[b],nums[lb])&&lb<rb)\n",
    "                    lb++;\n",
    "                swap(nums[lb],nums[rb]);\n",
    "            }\n",
    "            swap(nums[b],nums[lb]);\n",
    "            quick_sort(nums,b,lb);\n",
    "            quick_sort(nums,lb+1,e);\n",
    "        }\n",
    "    }\n",
    "    \n",
    "    bool vail(int a,int b){\n",
    "        return to_string(a)+to_string(b)<=to_string(b)+to_string(a);\n",
    "    }\n",
    "    \n",
    "    \n",
    "};"
   ]
  },
  {
   "cell_type": "markdown",
   "metadata": {},
   "source": [
    "####  总结：熟悉STL可以很方便的完成一些排序比较的功能，要不然就熟练掌握排序，查找等一些基本的算法。"
   ]
  },
  {
   "cell_type": "markdown",
   "metadata": {},
   "source": [
    "******"
   ]
  },
  {
   "cell_type": "markdown",
   "metadata": {},
   "source": [
    "## 题目：300. 最长上升子序列"
   ]
  },
  {
   "cell_type": "markdown",
   "metadata": {},
   "source": [
    "#### 给定一个无序的整数数组，找到其中最长上升子序列的长度。"
   ]
  },
  {
   "cell_type": "markdown",
   "metadata": {},
   "source": [
    "#### 输入: [10,9,2,5,3,7,101,18]\n",
    "#### 输出: 4 \n",
    "#### 解释: 最长的上升子序列是$[2,3,7,101]$ ，它的长度是 4。"
   ]
  },
  {
   "cell_type": "markdown",
   "metadata": {},
   "source": [
    "####  动态规划Dynamic Programming的解法，这种解法的时间复杂度为$O(n^2)$，类似brute force的解法，我们维护一个一维dp数组，其中dp[i]表示以nums[i]为结尾的最长递增子串的长度，对于每一个nums[i]，我们从第一个数再搜索到i，如果发现某个数小于nums[i]，我们更新dp[i]，更新方法为dp[i] = max(dp[i], dp[j] + 1)，即比较当前dp[i]的值和那个小于num[i]的数的dp值加1的大小，我们就这样不断的更新dp数组，到最后dp数组中最大的值就是我们要返回的LIS的长度，参见代码如下："
   ]
  },
  {
   "cell_type": "code",
   "execution_count": null,
   "metadata": {},
   "outputs": [],
   "source": [
    "class Solution {\n",
    "public:\n",
    "    int lengthOfLIS(vector<int>& nums) {\n",
    "        //时间复杂度为O(n^2),空间复杂度为O(n)\n",
    "        vector<int> dp(nums.size(),1);\n",
    "        int res=0;\n",
    "        for(int i=0;i<nums.size();++i){\n",
    "            for(int j=0;j<i;++j){\n",
    "                if(nums[i]>nums[j]){\n",
    "                    dp[i]=max(dp[i],dp[j]+1); //找到以nums[i]为结尾的LIS长度并写入对应dp[i]中。\n",
    "                    \n",
    "                }\n",
    "            }\n",
    "            res=max(res,dp[i]);\n",
    "        }\n",
    "        return res;\n",
    "        \n",
    "        \n",
    "    }\n",
    "    \n",
    "};"
   ]
  },
  {
   "cell_type": "markdown",
   "metadata": {},
   "source": [
    "#### 总结：熟练掌握动态规划相关问题。本题改进方案可以将第二层的遍历改为二分查找，这样时间复杂度就会降为$O(nlogn)$"
   ]
  },
  {
   "cell_type": "markdown",
   "metadata": {},
   "source": [
    "*****"
   ]
  },
  {
   "cell_type": "markdown",
   "metadata": {},
   "source": [
    "## 二分查找："
   ]
  },
  {
   "cell_type": "markdown",
   "metadata": {},
   "source": [
    "### 非递归的实现："
   ]
  },
  {
   "cell_type": "code",
   "execution_count": null,
   "metadata": {},
   "outputs": [],
   "source": [
    "\n",
    "int binarySearch(vector<int> &nums,int value){\n",
    "    if(nums.empty())\n",
    "        return -1;\n",
    "    int left=0;\n",
    "    int right=nums.size()-1;\n",
    "    while(left<=right){\n",
    "        int mid=left+(right-left)/2;\n",
    "        if(nums[mid]==value)\n",
    "            return mid;\n",
    "        else if(nums[mid]>value)\n",
    "            right=mid-1;\n",
    "        else\n",
    "            left=mid+1;\n",
    "            \n",
    "    }\n",
    "    return -1;\n",
    "}"
   ]
  },
  {
   "cell_type": "markdown",
   "metadata": {},
   "source": [
    "### 递归实现："
   ]
  },
  {
   "cell_type": "code",
   "execution_count": null,
   "metadata": {},
   "outputs": [],
   "source": [
    "int binarySearch(vector<int> &nums,int left,int right,int value){\n",
    "    if(nums.empty()||left>right)\n",
    "        return -1;\n",
    "    int mid=left+(right-left)/2;\n",
    "    if(nums[mid]==value)\n",
    "        return mid;\n",
    "    else if(nums[mid]>value)\n",
    "        binarySearch(nums,left,mid-1,value);\n",
    "    else\n",
    "        binarySearch(nums,mid+1,right,value);\n",
    "\n",
    "}"
   ]
  },
  {
   "cell_type": "code",
   "execution_count": null,
   "metadata": {},
   "outputs": [],
   "source": []
  },
  {
   "cell_type": "code",
   "execution_count": null,
   "metadata": {},
   "outputs": [],
   "source": []
  },
  {
   "cell_type": "code",
   "execution_count": null,
   "metadata": {},
   "outputs": [],
   "source": []
  },
  {
   "cell_type": "code",
   "execution_count": null,
   "metadata": {},
   "outputs": [],
   "source": []
  }
 ],
 "metadata": {
  "kernelspec": {
   "display_name": "C++11",
   "language": "C++11",
   "name": "xeus-cling-cpp11"
  },
  "language_info": {
   "codemirror_mode": "text/x-c++src",
   "file_extension": ".cpp",
   "mimetype": "text/x-c++src",
   "name": "c++",
   "version": "-std=c++11"
  }
 },
 "nbformat": 4,
 "nbformat_minor": 2
}
