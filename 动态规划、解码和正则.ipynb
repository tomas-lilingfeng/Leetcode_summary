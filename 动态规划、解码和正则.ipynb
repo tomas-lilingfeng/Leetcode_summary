{
 "cells": [
  {
   "cell_type": "markdown",
   "metadata": {},
   "source": [
    "## 416. 分割等和子集\n",
    "\n",
    "给定一个只包含正整数的非空数组。是否可以将这个数组分割成两个子集，使得两个子集的元素和相等。\n",
    "\n",
    "注意:\n",
    "\n",
    "每个数组中的元素不会超过 100\n",
    "数组的大小不会超过 200\n",
    "示例 1:\n",
    "\n",
    "输入: [1, 5, 11, 5]\n",
    "\n",
    "输出: true\n",
    "\n",
    "解释: 数组可以分割成 [1, 5, 5] 和 [11].\n",
    " \n",
    "\n",
    "示例 2:\n",
    "\n",
    "输入: [1, 2, 3, 5]\n",
    "\n",
    "输出: false\n",
    "\n",
    "解释: 数组不能分割成两个元素和相等的子集.\n"
   ]
  },
  {
   "cell_type": "markdown",
   "metadata": {},
   "source": [
    "总结：动态规划的思想，找到一个子集的和为0.5*sum(nums);所以target=0.5*accumulate(nums.begin(),nume.end(),0)\n",
    "关键要找出状态转移方程"
   ]
  },
  {
   "cell_type": "code",
   "execution_count": null,
   "metadata": {},
   "outputs": [],
   "source": [
    "class Solution {\n",
    "public:\n",
    "    bool canPartition(vector<int>& nums) {\n",
    "        //时间复杂度O(n^2)，空间复杂度O(n)\n",
    "        int sum=accumulate(nums.begin(),nums.end(),0);\n",
    "        int target=sum>>1;\n",
    "        if(sum%2==1)return false;\n",
    "        vector<bool> dp(target+1,false);\n",
    "        \n",
    "        dp[0]=true;//初始状态！！！\n",
    "        \n",
    "        for(int num:nums){\n",
    "            for(int i=target;i>=num;--i){\n",
    "                dp[i]=dp[i]||dp[i-num];  // 状态转移方程        \n",
    "            }\n",
    "        }\n",
    "        return dp[target];\n",
    "    }\n",
    "};"
   ]
  },
  {
   "cell_type": "markdown",
   "metadata": {},
   "source": [
    "## 91. 解码方法\n",
    "\n",
    "一条包含字母 A-Z 的消息通过以下方式进行了编码：\n",
    "\n",
    "'A' -> 1\n",
    "'B' -> 2\n",
    "...\n",
    "'Z' -> 26\n",
    "给定一个只包含数字的非空字符串，请计算解码方法的总数。\n",
    "\n",
    "示例 1:\n",
    "\n",
    "输入: \"12\"\n",
    "输出: 2\n",
    "解释: 它可以解码为 \"AB\"（1 2）或者 \"L\"（12）。\n",
    "示例 2:\n",
    "\n",
    "输入: \"226\"\n",
    "输出: 3\n",
    "解释: 它可以解码为 \"BZ\" (2 26), \"VF\" (22 6), 或者 \"BBF\" (2 2 6) 。\n",
    "\n"
   ]
  },
  {
   "cell_type": "markdown",
   "metadata": {},
   "source": [
    "总结：类似于爬楼梯（斐波拉其数列）；要搞清楚所有的可能性，下一条情况较多，需要画图来辅助查漏补缺。"
   ]
  },
  {
   "cell_type": "code",
   "execution_count": null,
   "metadata": {},
   "outputs": [],
   "source": [
    "class Solution {\n",
    "public:\n",
    "    int numDecodings(string s) {\n",
    "        if(s.empty()||s[0]=='0')\n",
    "            return 0;\n",
    "        vector<int> dp(s.size()+1,0);\n",
    "        dp[0]=1;\n",
    "        for(int i=1;i<dp.size();++i){\n",
    "            dp[i]=(s[i-1]=='0')?0:dp[i-1];\n",
    "            if(i>1&&(s[i-2]=='1'||(s[i-2]=='2'&&s[i-1]<='6'))){\n",
    "                dp[i]+=dp[i-2];\n",
    "            }\n",
    "        }\n",
    "        return dp.back();\n",
    "    }\n",
    "};"
   ]
  },
  {
   "cell_type": "markdown",
   "metadata": {},
   "source": [
    "## 639. 解码方法 2\n",
    "\n",
    "一条包含字母 A-Z 的消息通过以下的方式进行了编码：\n",
    "\n",
    "'A' -> 1\n",
    "'B' -> 2\n",
    "...\n",
    "'Z' -> 26\n",
    "除了上述的条件以外，现在加密字符串可以包含字符 '*'了，字符'*'可以被当做1到9当中的任意一个数字。\n",
    "\n",
    "给定一条包含数字和字符'*'的加密信息，请确定解码方法的总数。\n",
    "\n",
    "同时，由于结果值可能会相当的大，所以你应当对10^9 + 7取模。（翻译者标注：此处取模主要是为了防止溢出）\n",
    "\n",
    "示例 1 :\n",
    "\n",
    "输入: \"*\"\n",
    "输出: 9\n",
    "解释: 加密的信息可以被解密为: \"A\", \"B\", \"C\", \"D\", \"E\", \"F\", \"G\", \"H\", \"I\".\n",
    "示例 2 :\n",
    "\n",
    "输入: \"1*\"\n",
    "输出: 9 + 9 = 18（翻译者标注：这里1*可以分解为1,* 或者当做1*来处理，所以结果是9+9=18）\n",
    "说明 :\n",
    "\n",
    "输入的字符串长度范围是 [1, 105]。\n",
    "输入的字符串只会包含字符 '*' 和 数字'0' - '9'。\n",
    "\n"
   ]
  },
  {
   "cell_type": "code",
   "execution_count": null,
   "metadata": {},
   "outputs": [],
   "source": [
    "class Solution {\n",
    "public:\n",
    "    int numDecodings(string s) {\n",
    "        int M=1e9+7; \n",
    "        if(s.empty()||s[0]=='0') return 0;\n",
    "        vector<long> dp(s.size()+1,0);\n",
    "        dp[0]=1;\n",
    "        if(s[0]=='*') dp[1]=9;\n",
    "        else dp[1]=1;\n",
    "        for(int i=2;i<dp.size();++i){\n",
    "                if(s[i-1]=='0'){\n",
    "                    if(s[i-2]=='1'||s[i-2]=='2') dp[i]=dp[i-2];\n",
    "                    else if(s[i-2]=='*') dp[i]+=2*dp[i-2];\n",
    "                    else return 0;\n",
    "                }\n",
    "            else if(s[i-1]=='*'){\n",
    "                dp[i]+=9*dp[i-1];\n",
    "                if(s[i-2]=='1') dp[i]+=9*dp[i-2];\n",
    "                else if(s[i-2]=='2') dp[i]+=6*dp[i-2];\n",
    "                else if(s[i-2]=='*') dp[i]+=15*dp[i-2];\n",
    "            }\n",
    "            else{\n",
    "                dp[i]+=dp[i-1];\n",
    "                if(s[i-2]=='1'||(s[i-2]=='2'&&s[i-1]<='6'))  dp[i]+=dp[i-2];\n",
    "                else if(s[i-2]=='*') dp[i]+=(s[i-1]<='6')?(2*dp[i-2]):dp[i-2];   \n",
    "            }   \n",
    "            dp[i]%=M;\n",
    "        }\n",
    "        return dp.back();\n",
    "    }\n",
    "};"
   ]
  },
  {
   "cell_type": "markdown",
   "metadata": {},
   "source": [
    "## 10. 正则表达式匹配\n",
    "\n",
    "给你一个字符串 s 和一个字符规律 p，请你来实现一个支持 '.' 和 '*' 的正则表达式匹配。\n",
    "\n",
    "'.' 匹配任意单个字符\n",
    "'*' 匹配零个或多个前面的那一个元素\n",
    "所谓匹配，是要涵盖 整个 字符串 s的，而不是部分字符串。\n",
    "\n",
    "说明:\n",
    "\n",
    "s 可能为空，且只包含从 a-z 的小写字母。\n",
    "p 可能为空，且只包含从 a-z 的小写字母，以及字符 . 和 *。\n",
    "示例 1:\n",
    "\n",
    "输入:\n",
    "s = \"aa\"\n",
    "p = \"a\"\n",
    "输出: false\n",
    "解释: \"a\" 无法匹配 \"aa\" 整个字符串。\n",
    "示例 2:\n",
    "\n",
    "输入:\n",
    "s = \"aa\"\n",
    "p = \"a*\"\n",
    "输出: true\n",
    "解释: 因为 '*' 代表可以匹配零个或多个前面的那一个元素, 在这里前面的元素就是 'a'。因此，字符串 \"aa\" 可被视为 'a' 重复了一次。\n",
    "\n"
   ]
  },
  {
   "cell_type": "markdown",
   "metadata": {},
   "source": [
    "- 若p为空，若s也为空，返回true，反之返回false。\n",
    "\n",
    "- 若p的长度为1，若s长度也为1，且相同或是p为'.'则返回true，反之返回false。\n",
    "\n",
    "- 若p的第二个字符不为*，若此时s为空返回false，否则判断首字符是否匹配，且从各自的第二个字符开始调用递归函数匹配。\n",
    "\n",
    "- 若p的第二个字符为*，进行下列循环，条件是若s不为空且首字符匹配（包括p[0]为点），调用递归函数匹配s和去掉前两个字符的p（这样做的原因是假设此时的星号的作用是让前面的字符出现0次，验证是否匹配），若匹配返回true，否则s去掉首字母（因为此时首字母匹配了，我们可以去掉s的首字母，而p由于星号的作用，可以有任意个首字母，所以不需要去掉），继续进行循环。\n",
    "\n",
    "- 返回调用递归函数匹配s和去掉前两个字符的p的结果（这么做的原因是处理星号无法匹配的内容，比如s=\"ab\", p=\"a*b\"，直接进入while循环后，我们发现\"ab\"和\"b\"不匹配，所以s变成\"b\"，那么此时跳出循环后，就到最后的return来比较\"b\"和\"b\"了，返回true。再举个例子，比如s=\"\", p=\"a*\"，由于s为空，不会进入任何的if和while，只能到最后的return来比较了，返回true，正确）。"
   ]
  },
  {
   "cell_type": "code",
   "execution_count": null,
   "metadata": {},
   "outputs": [],
   "source": [
    "class Solution {\n",
    "public:\n",
    "    bool isMatch(string s, string p) {\n",
    "        if(p.empty())\n",
    "            return s.empty();\n",
    "        if(p.size()==1)\n",
    "            return (s.size()==1&&(s[0]==p[0]||p[0]=='.'));\n",
    "        if(p[1]!='*'){\n",
    "            if(s.empty())\n",
    "                return false;\n",
    "            return (s[0]==p[0]||p[0]=='.')&&isMatch(s.substr(1),p.substr(1));\n",
    "        }\n",
    "        while(!s.empty()&&(s[0]==p[0]||p[0]=='.')){\n",
    "            if(isMatch(s,p.substr(2)))\n",
    "                return true;\n",
    "            s=s.substr(1);\n",
    "        }\n",
    "        return isMatch(s,p.substr(2)); \n",
    "                \n",
    "    }\n",
    "    \n",
    "};"
   ]
  },
  {
   "cell_type": "code",
   "execution_count": null,
   "metadata": {},
   "outputs": [],
   "source": []
  },
  {
   "cell_type": "code",
   "execution_count": null,
   "metadata": {},
   "outputs": [],
   "source": []
  },
  {
   "cell_type": "code",
   "execution_count": null,
   "metadata": {},
   "outputs": [],
   "source": []
  },
  {
   "cell_type": "code",
   "execution_count": null,
   "metadata": {},
   "outputs": [],
   "source": []
  },
  {
   "cell_type": "code",
   "execution_count": null,
   "metadata": {},
   "outputs": [],
   "source": []
  },
  {
   "cell_type": "code",
   "execution_count": null,
   "metadata": {},
   "outputs": [],
   "source": []
  },
  {
   "cell_type": "code",
   "execution_count": null,
   "metadata": {},
   "outputs": [],
   "source": []
  },
  {
   "cell_type": "code",
   "execution_count": null,
   "metadata": {},
   "outputs": [],
   "source": []
  },
  {
   "cell_type": "code",
   "execution_count": null,
   "metadata": {},
   "outputs": [],
   "source": []
  },
  {
   "cell_type": "code",
   "execution_count": null,
   "metadata": {},
   "outputs": [],
   "source": []
  },
  {
   "cell_type": "code",
   "execution_count": null,
   "metadata": {},
   "outputs": [],
   "source": []
  },
  {
   "cell_type": "code",
   "execution_count": null,
   "metadata": {},
   "outputs": [],
   "source": []
  },
  {
   "cell_type": "code",
   "execution_count": null,
   "metadata": {},
   "outputs": [],
   "source": []
  }
 ],
 "metadata": {
  "kernelspec": {
   "display_name": "C++11",
   "language": "C++11",
   "name": "xeus-cling-cpp11"
  },
  "language_info": {
   "codemirror_mode": "text/x-c++src",
   "file_extension": ".cpp",
   "mimetype": "text/x-c++src",
   "name": "c++",
   "version": "-std=c++11"
  }
 },
 "nbformat": 4,
 "nbformat_minor": 2
}
