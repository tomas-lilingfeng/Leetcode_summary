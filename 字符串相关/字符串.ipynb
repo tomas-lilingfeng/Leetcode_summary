{
 "cells": [
  {
   "cell_type": "markdown",
   "metadata": {},
   "source": [
    "## 8. 字符串转换整数 (atoi)\n",
    "请你来实现一个 atoi 函数，使其能将字符串转换成整数。\n",
    "\n",
    "首先，该函数会根据需要丢弃无用的开头空格字符，直到寻找到第一个非空格的字符为止。\n",
    "\n",
    "当我们寻找到的第一个非空字符为正或者负号时，则将该符号与之后面尽可能多的连续数字组合起来，作为该整数的正负号；假如第一个非空字符是数字，则直接将其与之后连续的数字字符组合起来，形成整数。\n",
    "\n",
    "该字符串除了有效的整数部分之后也可能会存在多余的字符，这些字符可以被忽略，它们对于函数不应该造成影响。\n",
    "\n",
    "注意：假如该字符串中的第一个非空格字符不是一个有效整数字符、字符串为空或字符串仅包含空白字符时，则你的函数不需要进行转换。\n",
    "\n",
    "在任何情况下，若函数不能进行有效的转换时，请返回 0。\n",
    "\n",
    "说明：\n",
    "\n",
    "假设我们的环境只能存储 32 位大小的有符号整数，那么其数值范围为 [−231, 231 − 1]。如果数值超过这个范围，qing返回 INT_MAX (231 − 1) 或 INT_MIN (−231) 。\n",
    "\n",
    "示例 1:\n",
    "\n",
    "输入: \"42\" 输出: 42 示例 2:\n",
    "\n",
    "输入: \" -42\" 输出: -42 解释: 第一个非空白字符为 '-', 它是一个负号。 我们尽可能将负号与后面所有连续出现的数字组合起来，最后得到 -42 。"
   ]
  },
  {
   "cell_type": "code",
   "execution_count": null,
   "metadata": {},
   "outputs": [],
   "source": [
    "class Solution {\n",
    "public:\n",
    "    int myAtoi(string str) {\n",
    "        if(str.empty())\n",
    "            return 0;\n",
    "        int sign=1,res=0,i=0,n=str.size();\n",
    "        while(i<n&&str[i]==' ')\n",
    "            ++i;\n",
    "        if(i<n&&(str[i]=='+'||str[i]=='-'))\n",
    "            sign=(str[i++]=='-')?-1:1;\n",
    "        while(i<n&&str[i]>='0'&&str[i]<='9'){\n",
    "            if(res>INT_MAX/10||(res==INT_MAX/10&&str[i]-'0'>7)){\n",
    "                return sign==1?INT_MAX:INT_MIN;\n",
    "            }\n",
    "            res=10*res+(str[i++]-'0');\n",
    "        }\n",
    "        return res;\n",
    "    }\n",
    "};"
   ]
  },
  {
   "cell_type": "markdown",
   "metadata": {},
   "source": [
    "## 20. 有效的括号\n",
    "给定一个只包括 '('，')'，'{'，'}'，'['，']' 的字符串，判断字符串是否有效。\n",
    "有效字符串需满足：\n",
    "\n",
    "左括号必须用相同类型的右括号闭合。 左括号必须以正确的顺序闭合。 注意空字符串可被认为是有效字符串。\n",
    "\n",
    "输入: \"()\"\n",
    "输出: true"
   ]
  },
  {
   "cell_type": "code",
   "execution_count": null,
   "metadata": {},
   "outputs": [],
   "source": [
    "class Solution {\n",
    "public:\n",
    "    bool isValid(string s) {\n",
    "        //时间复杂度O(n)，空间复杂度O(n)\n",
    "        stack<char> st;\n",
    "       \n",
    "        for(int i=0;i<s.size();i++){\n",
    "            \n",
    "            if(s[i]=='('||s[i]=='['||s[i]=='{')\n",
    "                st.push(s[i]);\n",
    "            else{\n",
    "                if(st.empty())\n",
    "                    return false;\n",
    "                if((s[i]==')'&&st.top()!='(')||(s[i]==']'&&st.top()!='[')||(s[i]=='}'&&st.top()!='{'))\n",
    "                    return false;\n",
    "                st.pop();\n",
    "            }\n",
    "            \n",
    "        }\n",
    "        return st.empty();\n",
    "    }\n",
    "};"
   ]
  },
  {
   "cell_type": "markdown",
   "metadata": {},
   "source": [
    "## 44. 通配符匹配\n",
    "给定一个字符串 (s) 和一个字符模式 (p) ，实现一个支持 '?' 和 '*' 的通配符匹配。\n",
    "\n",
    "'?' 可以匹配任何单个字符。 '*' 可以匹配任意字符串（包括空字符串）。 两个字符串完全匹配才算匹配成功。\n",
    "\n",
    "说明:\n",
    "\n",
    "s 可能为空，且只包含从 a-z 的小写字母。 p 可能为空，且只包含从 a-z 的小写字母，以及字符 ? 和 *。\n",
    "\n",
    "示例 1:\n",
    "输入: s = \"aa\" p = \"a\" 输出: false 解释: \"a\" 无法匹配 \"aa\" 整个字符串。"
   ]
  },
  {
   "cell_type": "code",
   "execution_count": null,
   "metadata": {},
   "outputs": [],
   "source": [
    "class Solution {\n",
    "public:\n",
    "    bool isMatch(string s, string p) {\n",
    "        int i=0,j=0,istar=-1,jstar=-1;\n",
    "        while(i<s.size()){\n",
    "            if(s[i]==p[j] || p[j]=='?'){    //当对应的字符相同或p的字符为'?'时，s和p的指针都指向下一个位置\n",
    "                i++;  j++;\n",
    "            }\n",
    "            else if(p[j]=='*'){      //如果p的字符为'*'时，通过istar和jstar来记录*匹配的位置，且j指向下一个位置直到不是*号为止  \n",
    "                istar=i;  \n",
    "                jstar=j;\n",
    "                ++j;\n",
    "            }\n",
    "            else if(istar>=0){     // 当出现了*，且s[i]和p[j]不能匹配时，只能认为s[i]与p[j-1]那个*号匹配\n",
    "                istar++;    //此时记录下S当前字符与*匹配的位置\n",
    "                i=istar;        \n",
    "                j=jstar+1;     //此时p的指针指向*下一个位置\n",
    "            }\n",
    "            else  return false;     //当没有出现*且s[i]!=p[j]&&p[j]!='?'时，匹配失败\n",
    "        }\n",
    "        while(j<p.size()&&p[j]=='*')  ++j;   //检查p是否还有未匹配的非*字符\n",
    "        return j==p.size();   \n",
    "    \n",
    "    \n",
    "    \n",
    "    \n",
    "    }   \n",
    "};"
   ]
  },
  {
   "cell_type": "markdown",
   "metadata": {},
   "source": [
    "## 65. 有效数字\n",
    "验证给定的字符串是否可以解释为十进制数字。\n",
    "\n",
    "例如:\n",
    "\n",
    "\"0\" => true \" 0.1 \" => true \"abc\" => false \"1 a\" => false \"2e10\" => true \" -90e3 \" => true \" 1e\" => false \"e3\" => false \" 6e-1\" => true \" 99e2.5 \" => false \"53.5e93\" => true \" --6 \" => false \"-+3\" => false \"95a54e53\" => false\n",
    "\n",
    "说明: 我们有意将问题陈述地比较模糊。在实现代码之前，你应当事先思考所有可能的情况。这里给出一份可能存在于有效十进制数字中的字符列表：\n",
    "\n",
    "数字 0-9 指数 - \"e\" 正/负号 - \"+\"/\"-\" 小数点 - \".\" 当然，在输入中，这些字符的上下文也很重要。"
   ]
  },
  {
   "cell_type": "code",
   "execution_count": null,
   "metadata": {},
   "outputs": [],
   "source": [
    "class Solution {\n",
    "public:\n",
    "    bool isNumber(string s) {\n",
    "         int len = s.size();\n",
    "        int left = 0, right = len - 1;\n",
    "        bool eExisted = false,dotExisted = false, digitExisited = false;\n",
    "        while (s[left] == ' ') ++left;\n",
    "        while (s[right] == ' ') --right;//跳过左右空格\n",
    "        if (left >= right && (s[left] < '0' || s[left] > '9')) return false;  //如果只有一个非数字字符或者没有字符返回false\n",
    "        //对首字符作判断，若为dot 标记，为数字作标记，若还不是+或-则返回false\n",
    "        if (s[left] == '.') dotExisted = true;\n",
    "        else if (s[left] >= '0' && s[left] <= '9') digitExisited = true;     \n",
    "        else if (s[left] != '+' && s[left] != '-') return false;    \n",
    "        //对中间字段处理\n",
    "        for (int i = left + 1; i <= right - 1; ++i) {\n",
    "            if (s[i] >= '0' && s[i] <= '9') digitExisited = true;//若为数字，标记 \n",
    "            else if (s[i] == 'e' || s[i] == 'E') { //若为E\n",
    "                if (!eExisted && s[i - 1] != '+' && s[i - 1] != '-' && digitExisited) eExisted = true;//E之前不能为+，-必须是数字\n",
    "                else return false;  //若第二个字符不是数字和E||e则返回false\n",
    "            } \n",
    "            else if (s[i] == '+' || s[i] == '-') { //若为+-，则之前必须为E\n",
    "                if (s[i - 1] != 'e' && s[i - 1] != 'E') return false;                  \n",
    "            } \n",
    "            else if (s[i] == '.') { //若为dot，必须是第一次出现且没有E\n",
    "                if (!dotExisted && !eExisted) dotExisted = true;\n",
    "                else return false;\n",
    "            }\n",
    "            else return false;\n",
    "        }\n",
    "        //对尾部字段处理，最后一个字符只能为数字或dot\n",
    "        if (s[right] >= '0' && s[right] <= '9') return true;   \n",
    "        else if (s[right] == '.' && !dotExisted && !eExisted && digitExisited) return true; //若为dot,前面必须没有dot,且必须是数字没有E\n",
    "        else return false;\n",
    "    }\n",
    "};"
   ]
  },
  {
   "cell_type": "markdown",
   "metadata": {},
   "source": [
    "## 387. 字符串中的第一个唯一字符\n",
    "给定一个字符串，找到它的第一个不重复的字符，并返回它的索引。如果不存在，则返回 -1。\n",
    "\n",
    "案例:\n",
    "\n",
    "s = \"leetcode\" 返回 0.\n",
    "\n",
    "s = \"loveleetcode\", 返回 2. 注意事项：您可以假定该字符串只包含小写字母。"
   ]
  },
  {
   "cell_type": "code",
   "execution_count": null,
   "metadata": {},
   "outputs": [],
   "source": [
    "建立哈希表，对S字符串中的每个字符计数，找到第一个计数为1的字符"
   ]
  },
  {
   "cell_type": "code",
   "execution_count": null,
   "metadata": {},
   "outputs": [],
   "source": [
    "class Solution {\n",
    "public:\n",
    "    int firstUniqChar(string s) {\n",
    "        //时间复杂度O(n)，空间复杂度O(n)\n",
    "        unordered_map<char,int> m;\n",
    "        for(auto a :s)\n",
    "            ++m[a];\n",
    "        for(int i=0;i<s.size();i++){\n",
    "            if(m[s[i]]==1)\n",
    "                return i;\n",
    "        }\n",
    "        return -1;\n",
    "        \n",
    "    }\n",
    "};"
   ]
  },
  {
   "cell_type": "markdown",
   "metadata": {},
   "source": [
    "## 467. 环绕字符串中唯一的子字符串\n",
    "把字符串 s 看作是“abcdefghijklmnopqrstuvwxyz”的无限环绕字符串，所以 s 看起来是这样的：\"...zabcdefghijklmnopqrstuvwxyzabcdefghijklmnopqrstuvwxyzabcd....\". \n",
    "\n",
    "现在我们有了另一个字符串 p 。你需要的是找出 s 中有多少个唯一的 p 的非空子串，尤其是当你的输入是字符串 p ，你需要输出字符串 s 中 p 的不同的非空子串的数目。 \n",
    "\n",
    "注意: p 仅由小写的英文字母组成，p 的大小可能超过 10000。\n",
    "\n"
   ]
  },
  {
   "cell_type": "markdown",
   "metadata": {},
   "source": [
    " 看abcd这个字符串，以d结尾的子字符串有abcd, bcd, cd, d，那么我们可以发现bcd或者cd这些以d结尾的字符串的子字符串都包含在abcd中，那么我们知道以某个字符结束的最大字符串包含其他以该字符结束的字符串的所有子字符串\n",
    "- 转换为分别求出以每个字符(a-z)为结束字符的最长连续字符串就行了，我们用一个数组cnt记录下来，最后在求出数组cnt的所有数字之和就是我们要的结果啦"
   ]
  },
  {
   "cell_type": "code",
   "execution_count": null,
   "metadata": {},
   "outputs": [],
   "source": [
    "class Solution {\n",
    "public:\n",
    "    int findSubstringInWraproundString(string p) {\n",
    "        vector<int>cnt(26,0);\n",
    "        int len=0;\n",
    "        for(int i=0;i<p.size();++i){\n",
    "            if(i>0&&(p[i]==p[i-1]+1||p[i-1]==p[i]+25)){\n",
    "                len++;\n",
    "            }\n",
    "            else\n",
    "                len=1;\n",
    "            cnt[p[i]-'a']=max(cnt[p[i]-'a'],len);\n",
    "        }\n",
    "        return accumulate(cnt.begin(),cnt.end(),0);\n",
    "    }\n",
    "};"
   ]
  },
  {
   "cell_type": "markdown",
   "metadata": {},
   "source": [
    "## 567. 字符串的排列\n",
    "给定两个字符串 s1 和 s2，写一个函数来判断 s2 是否包含 s1 的排列。\n",
    "\n",
    "换句话说，第一个字符串的排列之一是第二个字符串的子串。\n",
    "\n",
    "示例1:\n",
    "\n",
    "输入: s1 = \"ab\" s2 = \"eidbaooo\" 输出: True 解释: s2 包含 s1 的排列之一 (\"ba\").\n",
    "\n",
    "示例2:\n",
    "\n",
    "输入: s1= \"ab\" s2 = \"eidboaoo\" 输出: False\n",
    "\n",
    "注意：\n",
    "\n",
    "输入的字符串只包含小写字母 两个字符串的长度都在 [1, 10,000] 之间"
   ]
  },
  {
   "cell_type": "markdown",
   "metadata": {},
   "source": [
    "思路：建立哈希表，维护一个大小等于S1的滑动窗口，比较S1的哈希表和滑动窗口内的哈希表是否相等"
   ]
  },
  {
   "cell_type": "code",
   "execution_count": null,
   "metadata": {},
   "outputs": [],
   "source": [
    "class Solution {\n",
    "public:\n",
    "    bool checkInclusion(string s1, string s2) {\n",
    "        //时间复杂度O(n)，空间复杂度O(n)\n",
    "        vector<int> m1(128),m2(128);\n",
    "        int n1=s1.size(),n2=s2.size();\n",
    "        if(n2<n1)\n",
    "            return false;\n",
    "        for(int i=0; i<n1;i++){\n",
    "            ++m1[s1[i]];\n",
    "            ++m2[s2[i]];\n",
    "        }\n",
    "        if(m1==m2)\n",
    "            return true;\n",
    "        for(int i=n1;i<n2;i++){\n",
    "            ++m2[s2[i]];\n",
    "            --m2[s2[i-n1]];\n",
    "            if(m1==m2)\n",
    "                return true;\n",
    "        }\n",
    "        return false;\n",
    "        \n",
    "    }\n",
    "};"
   ]
  },
  {
   "cell_type": "markdown",
   "metadata": {},
   "source": [
    "##  76. 最小覆盖子串\n",
    "给你一个字符串 S、一个字符串 T，请在字符串 S 里面找出：包含 T 所有字母的最小子串。\n",
    "\n",
    "示例：\n",
    "\n",
    "输入: S = \"ADOBECODEBANC\", T = \"ABC\"\n",
    "输出: \"BANC\"\n",
    "说明：\n",
    "\n",
    "- 如果 S 中不存这样的子串，则返回空字符串 \"\"。\n",
    "- 如果 S 中存在这样的子串，我们保证它是唯一的答案。\n",
    "\n"
   ]
  },
  {
   "cell_type": "markdown",
   "metadata": {},
   "source": [
    "解题思路：\n",
    "- 我们最开始先扫描一遍T，把对应的字符及其出现的次数存到 HashMap 中。\n",
    "\n",
    "- 然后开始遍历S，就把遍历到的字母对应的 HashMap 中的 value 减一，如果减1后仍大于等于0，cnt 自增1。\n",
    "\n",
    "- 如果 cnt 等于T串长度时，开始循环，纪录一个字串并更新最小字串值。然后将子窗口的左边界向右移，如果某个移除掉的字母是T串中不可缺少的字母，那么 cnt 自减1，表示此时T串并没有完全匹配。"
   ]
  },
  {
   "cell_type": "code",
   "execution_count": null,
   "metadata": {},
   "outputs": [],
   "source": [
    "class Solution {\n",
    "public:\n",
    "    string minWindow(string s, string t) {\n",
    "        //时间复杂度O(n^2)，空间复杂度O(n)\n",
    "        string res=\"\";\n",
    "        unordered_map<char,int> m;\n",
    "        int left=0,cnt=0,minlen=INT_MAX;\n",
    "        for(auto a:t)\n",
    "            ++m[a];\n",
    "        for(int i=0;i<s.size();++i){\n",
    "            if(--m[s[i]]>=0)\n",
    "                cnt++;\n",
    "            while(cnt==t.size()){\n",
    "                if(minlen>i-left+1){  //维护一个最小长度minlen\n",
    "                    minlen=i-left+1;\n",
    "                    res=s.substr(left,minlen);\n",
    "                }\n",
    "                if(++m[s[left]]>0)\n",
    "                    --cnt;\n",
    "                ++left;\n",
    "                \n",
    "            }\n",
    "        }\n",
    "        return res;\n",
    "        \n",
    "        \n",
    "    }\n",
    "};"
   ]
  },
  {
   "cell_type": "markdown",
   "metadata": {},
   "source": [
    "## 1023. 驼峰式匹配\n",
    "如果我们可以将小写字母插入模式串 pattern 得到待查询项 query，那么待查询项与给定模式串匹配。（我们可以在任何位置插入每个字符，也可以插入 0 个字符。）\n",
    "\n",
    "给定待查询列表 queries，和模式串 pattern，返回由布尔值组成的答案列表 answer。只有在待查项 queries[i] 与模式串 pattern 匹配时， answer[i] 才为 true，否则为 false。\n",
    "\n",
    "示例 1：\n",
    "\n",
    "输入：queries = [\"FooBar\",\"FooBarTest\",\"FootBall\",\"FrameBuffer\",\"ForceFeedBack\"], pattern = \"FB\" 输出：[true,false,true,true,false] 示例： \"FooBar\" 可以这样生成：\"F\" + \"oo\" + \"B\" + \"ar\"。 \"FootBall\" 可以这样生成：\"F\" + \"oot\" + \"B\" + \"all\". \"FrameBuffer\" 可以这样生成：\"F\" + \"rame\" + \"B\" + \"uffer\"."
   ]
  },
  {
   "cell_type": "code",
   "execution_count": null,
   "metadata": {},
   "outputs": [],
   "source": [
    "class Solution {\n",
    "public:\n",
    "    vector<bool> camelMatch(vector<string>& queries, string pattern) {\n",
    "        vector<bool> res;\n",
    "        int n=pattern.size();\n",
    "        for(auto q:queries){\n",
    "                bool isValid=true;\n",
    "                int cur=0;\n",
    "                for(int j=0;j<q.size();j++){\n",
    "                        if(cur<n&&pattern[cur]==q[j])\n",
    "                                cur++;\n",
    "                        else if(q[j]<'a'||q[j]>'z'){\n",
    "                                isValid=false;\n",
    "                                break;\n",
    "                        }   \n",
    "                }\n",
    "                res.push_back(isValid&&n==cur?true:false);\n",
    "        }\n",
    "        return res;\n",
    "    }\n",
    "};"
   ]
  },
  {
   "cell_type": "code",
   "execution_count": null,
   "metadata": {},
   "outputs": [],
   "source": []
  },
  {
   "cell_type": "code",
   "execution_count": null,
   "metadata": {},
   "outputs": [],
   "source": []
  },
  {
   "cell_type": "code",
   "execution_count": null,
   "metadata": {},
   "outputs": [],
   "source": []
  },
  {
   "cell_type": "code",
   "execution_count": null,
   "metadata": {},
   "outputs": [],
   "source": []
  },
  {
   "cell_type": "code",
   "execution_count": null,
   "metadata": {},
   "outputs": [],
   "source": []
  },
  {
   "cell_type": "code",
   "execution_count": null,
   "metadata": {},
   "outputs": [],
   "source": []
  },
  {
   "cell_type": "code",
   "execution_count": null,
   "metadata": {},
   "outputs": [],
   "source": []
  },
  {
   "cell_type": "code",
   "execution_count": null,
   "metadata": {},
   "outputs": [],
   "source": []
  }
 ],
 "metadata": {
  "kernelspec": {
   "display_name": "C++11",
   "language": "C++11",
   "name": "xeus-cling-cpp11"
  },
  "language_info": {
   "codemirror_mode": "text/x-c++src",
   "file_extension": ".cpp",
   "mimetype": "text/x-c++src",
   "name": "c++",
   "version": "-std=c++11"
  }
 },
 "nbformat": 4,
 "nbformat_minor": 2
}
