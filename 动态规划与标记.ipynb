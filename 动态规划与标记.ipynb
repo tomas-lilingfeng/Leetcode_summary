{
 "cells": [
  {
   "cell_type": "markdown",
   "metadata": {},
   "source": [
    "## 322. 零钱兑换\n",
    "\n",
    "给定不同面额的硬币 coins 和一个总金额 amount。编写一个函数来计算可以凑成总金额所需的最少的硬币个数。如果没有任何一种硬币组合能组成总金额，返回 -1。\n",
    "\n",
    "示例 1:\n",
    "\n",
    "输入: coins = [1, 2, 5], amount = 11\n",
    "输出: 3 \n",
    "解释: 11 = 5 + 5 + 1\n",
    "示例 2:\n",
    "\n",
    "输入: coins = [2], amount = 3\n",
    "输出: -1\n",
    "说明:\n",
    "你可以认为每种硬币的数量是无限的。\n",
    "\n"
   ]
  },
  {
   "cell_type": "code",
   "execution_count": null,
   "metadata": {},
   "outputs": [],
   "source": [
    "class Solution {\n",
    "public:\n",
    "    int coinChange(vector<int>& coins, int amount) {\n",
    "        //时间复杂度O(mn)，空间复杂度O(n)\n",
    "        vector<int> dp(amount+1,amount+1);\n",
    "        dp[0]=0;\n",
    "        for(int i=1;i<=amount;++i){\n",
    "            for(int j=0;j<coins.size();j++){\n",
    "                if(coins[j]<=i){\n",
    "                    dp[i]=min(dp[i],dp[i-coins[j]]+1);  //动态规划：寻找减去一个硬币的数量+1（dp[i-coins[j]]+1） 的最小值   \n",
    "\n",
    "                }\n",
    "            }\n",
    "        }\n",
    "        return (dp[amount]>amount)?-1:dp[amount];\n",
    "    }\n",
    "};"
   ]
  },
  {
   "cell_type": "markdown",
   "metadata": {},
   "source": [
    "## 518. 零钱兑换 II\n",
    "\n",
    "给定不同面额的硬币和一个总金额。写出函数来计算可以凑成总金额的硬币组合数。假设每一种面额的硬币有无限个。 \n",
    "\n",
    " \n",
    "\n",
    "示例 1:\n",
    "\n",
    "输入: amount = 5, coins = [1, 2, 5]\n",
    "输出: 4\n",
    "解释: 有四种方式可以凑成总金额:\n",
    "5=5\n",
    "5=2+2+1\n",
    "5=2+1+1+1\n",
    "5=1+1+1+1+1\n",
    "示例 2:\n",
    "\n",
    "输入: amount = 3, coins = [2]\n",
    "输出: 0\n",
    "解释: 只用面额2的硬币不能凑成总金额3。\n",
    "示例 3:\n",
    "\n",
    "输入: amount = 10, coins = [10] \n",
    "输出: 1\n",
    " \n"
   ]
  },
  {
   "cell_type": "code",
   "execution_count": null,
   "metadata": {},
   "outputs": [],
   "source": [
    "class Solution {\n",
    "public:\n",
    "    int change(int amount, vector<int>& coins) {\n",
    "        //时间复杂度O(mn)，空间复杂度O(n)\n",
    "        vector<int> dp(amount+1,0);\n",
    "        dp[0]=1;\n",
    "        for(auto a:coins){\n",
    "            for(int i=a;i<=amount;++i){   //注意循环的次序，最外层循环是遍历硬币类型\n",
    "                dp[i]+=dp[i-a];  \n",
    "            }\n",
    "        }\n",
    "        \n",
    "        return dp[amount];\n",
    "        \n",
    "    }\n",
    "};"
   ]
  },
  {
   "cell_type": "markdown",
   "metadata": {},
   "source": [
    "## 200. 岛屿数量\n",
    "\n",
    "给定一个由 '1'（陆地）和 '0'（水）组成的的二维网格，计算岛屿的数量。一个岛被水包围，并且它是通过水平方向或垂直方向上相邻的陆地连接而成的。你可以假设网格的四个边均被水包围。\n",
    "\n",
    "示例 1:\n",
    "\n",
    "输入:\n",
    "11110\n",
    "11010\n",
    "11000\n",
    "00000\n",
    "\n",
    "输出: 1\n",
    "示例 2:\n",
    "\n",
    "输入:\n",
    "11000\n",
    "11000\n",
    "00100\n",
    "00011\n",
    "\n",
    "输出: 3\n",
    "\n"
   ]
  },
  {
   "cell_type": "code",
   "execution_count": null,
   "metadata": {},
   "outputs": [],
   "source": [
    "class Solution {\n",
    "public:\n",
    "    int numIslands(vector<vector<char>>& grid) {\n",
    "        if(grid.empty())\n",
    "            return 0;\n",
    "        int m=grid.size(),n=grid[0].size();\n",
    "        int count=0;\n",
    "        for(int i=0;i<m;i++){\n",
    "            for(int j=0;j<n;j++){\n",
    "                if(grid[i][j]=='1' ){\n",
    "                    isirland(grid,i,j);\n",
    "                    count++;\n",
    "                }\n",
    "            }\n",
    "        }\n",
    "        return count;\n",
    "    }\n",
    "    void isirland(vector<vector<char>>& grid,int i,int j){  //当找到岛屿时，用递归来将岛屿作标记\n",
    "        grid[i][j]='s';\n",
    "        if(i+1<grid.size()&&grid[i+1][j]=='1')\n",
    "            isirland(grid,i+1,j);\n",
    "        if(i-1>=0&&grid[i-1][j]=='1')\n",
    "            isirland(grid,i-1,j);\n",
    "        if(j+1<grid[0].size() && grid[i][j+1]=='1')\n",
    "            isirland(grid,i,j+1);\n",
    "        if(j-1>=0 && grid[i][j-1]=='1')\n",
    "            isirland(grid,i,j-1);\n",
    "    }\n",
    "};\n"
   ]
  },
  {
   "cell_type": "code",
   "execution_count": null,
   "metadata": {},
   "outputs": [],
   "source": []
  },
  {
   "cell_type": "code",
   "execution_count": null,
   "metadata": {},
   "outputs": [],
   "source": []
  },
  {
   "cell_type": "code",
   "execution_count": null,
   "metadata": {},
   "outputs": [],
   "source": []
  },
  {
   "cell_type": "code",
   "execution_count": null,
   "metadata": {},
   "outputs": [],
   "source": []
  },
  {
   "cell_type": "code",
   "execution_count": null,
   "metadata": {},
   "outputs": [],
   "source": []
  },
  {
   "cell_type": "code",
   "execution_count": null,
   "metadata": {},
   "outputs": [],
   "source": []
  },
  {
   "cell_type": "code",
   "execution_count": null,
   "metadata": {},
   "outputs": [],
   "source": []
  },
  {
   "cell_type": "code",
   "execution_count": null,
   "metadata": {},
   "outputs": [],
   "source": []
  },
  {
   "cell_type": "code",
   "execution_count": null,
   "metadata": {},
   "outputs": [],
   "source": []
  },
  {
   "cell_type": "code",
   "execution_count": null,
   "metadata": {},
   "outputs": [],
   "source": []
  }
 ],
 "metadata": {
  "kernelspec": {
   "display_name": "C++11",
   "language": "C++11",
   "name": "xeus-cling-cpp11"
  },
  "language_info": {
   "codemirror_mode": "text/x-c++src",
   "file_extension": ".cpp",
   "mimetype": "text/x-c++src",
   "name": "c++",
   "version": "-std=c++11"
  }
 },
 "nbformat": 4,
 "nbformat_minor": 2
}
