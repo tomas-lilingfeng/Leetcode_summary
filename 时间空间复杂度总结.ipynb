{
 "cells": [
  {
   "cell_type": "markdown",
   "metadata": {},
   "source": [
    "# 一.时间复杂度"
   ]
  },
  {
   "cell_type": "markdown",
   "metadata": {},
   "source": [
    "## 描述的是增长趋势而不是具体的某个数值"
   ]
  },
  {
   "cell_type": "markdown",
   "metadata": {},
   "source": [
    "#### 如 $x$ 与 $x^3$ 相比较：\n",
    "####          从增长趋势看，毫无疑问是$x^3$ 增长远快于 $x$\n",
    "####          如果比较具体数值  $10^3<6666$"
   ]
  },
  {
   "cell_type": "markdown",
   "metadata": {},
   "source": [
    "## 时间频度"
   ]
  },
  {
   "cell_type": "markdown",
   "metadata": {},
   "source": [
    "####   一个算法执行所耗费的时间，从理论上是不能算出来的，必须上机运行测试才能知道。但我们不可能也没有必要对每个算法都上机测试，只需知道哪个算法花费的时间多，哪个算法花费的时间少就可以了。并且一个算法花费的时间与算法中语句的执行次数成正比例，哪个算法中语句执行次数多，它花费时间就多。一个算法中的语句执行次数称为语句频度或时间频度。                            记为$T(n)$"
   ]
  },
  {
   "cell_type": "markdown",
   "metadata": {},
   "source": [
    "## 时间复杂度"
   ]
  },
  {
   "cell_type": "markdown",
   "metadata": {},
   "source": [
    "####    在刚才提到的时间频度中，$n$称为问题的规模，当$n$不断变化时，时间频度$T(n)$也会不断变化。但有时我们想知道它变化时呈现什么规律。为此，我们引入时间复杂度概念。 一般情况下，算法中基本操作重复执行的次数是问题规模$n$的某个函数，用$T(n)$表示，若有某个辅助函数$f(n)$,使得当$n$趋近于无穷大时，$\\frac{T(n)}{f(n)}$的极限值为不等于零的常数，则称$f(n)$是$T(n)$的同数量级函数。记作$T(n)=Ｏ(f(n))$,称$Ｏ(f(n))$ 为算法的渐进时间复杂度，简称时间复杂度。"
   ]
  },
  {
   "cell_type": "markdown",
   "metadata": {},
   "source": [
    "## 常见的时间复杂度量级有：\n",
    "#### 常数阶$O(1)$:无论代码执行了多少行，只要是没有循环等复杂结构，那这个代码的时间复杂度就都是O(1)\n",
    "#### 对数阶$O(logN)$:典型的如二分查找，当查找一个有序序列能够以$1/k$的比例排除掉不符合条件的元素时，即对于$n$个元素，每次能排除$1/k$的比例的元素\n",
    "#### 线性阶$O(n)$：一遍循环\n",
    "#### 线性对数阶$O(nlogN)$：线性对数阶$O(nlogN)$ 其实非常容易理解，将时间复杂度为$O(logn)$的代码循环$N$遍的话，那么它的时间复杂度就是 $n * O(logN)$，也就是了$O(nlogN)$。\n",
    "#### 平方阶$O(n^2)$:平方阶$O(n²)$ 就更容易理解了，如果把$ O(n)$ 的代码再嵌套循环一遍，它的时间复杂度就是 $O(n^2)$ 了。\n",
    "#### 立方阶$O(n^3)$:三层$n$循环嵌套\n",
    "#### K次方阶$O(n^k)$：:$k$层$n$循环嵌套\n",
    "#### 指数阶$O(2^n)$:如斐波拉契数列暴力递归求解  \n",
    "     def Fibonaccil(n):\n",
    "        if(n<1)：return 0;\n",
    "        if(n==1||n==2）:return 1;\n",
    "        return Fibonaccil(n-1)+Fibonaccil(n-2)"
   ]
  },
  {
   "cell_type": "markdown",
   "metadata": {},
   "source": [
    "# 二.空间复杂度"
   ]
  },
  {
   "cell_type": "markdown",
   "metadata": {},
   "source": [
    "#### 一个程序的空间复杂度是指运行完一个程序所需内存的大小。利用程序的空间复杂度，可以对程序的运行所需要的内存多少有个预先估计。一个程序执行时除了需要存储空间和存储本身所使用的指令、常数、变量和输入数据外，还需要一些对数据进行操作的工作单元和存储一些为现实计算所需信息的辅助空间。程序执行时所需存储空间包括以下两部分。"
   ]
  },
  {
   "cell_type": "markdown",
   "metadata": {},
   "source": [
    "## 固定部分\n",
    "#### 这部分空间的大小与输入/输出的数据的个数多少、数值无关。主要包括指令空间（即代码空间）、数据空间（常量、简单变量）等所占的空间。这部分属于静态空间。"
   ]
  },
  {
   "cell_type": "markdown",
   "metadata": {},
   "source": [
    "## 可变空间\n",
    "#### 这部分空间的主要包括动态分配的空间，以及递归栈所需的空间等。这部分的空间大小与算法有关。"
   ]
  },
  {
   "cell_type": "code",
   "execution_count": null,
   "metadata": {},
   "outputs": [],
   "source": []
  },
  {
   "cell_type": "code",
   "execution_count": null,
   "metadata": {},
   "outputs": [],
   "source": []
  },
  {
   "cell_type": "code",
   "execution_count": null,
   "metadata": {},
   "outputs": [],
   "source": []
  }
 ],
 "metadata": {
  "kernelspec": {
   "display_name": "Python 3",
   "language": "python",
   "name": "python3"
  },
  "language_info": {
   "codemirror_mode": {
    "name": "ipython",
    "version": 3
   },
   "file_extension": ".py",
   "mimetype": "text/x-python",
   "name": "python",
   "nbconvert_exporter": "python",
   "pygments_lexer": "ipython3",
   "version": "3.7.4"
  }
 },
 "nbformat": 4,
 "nbformat_minor": 2
}
