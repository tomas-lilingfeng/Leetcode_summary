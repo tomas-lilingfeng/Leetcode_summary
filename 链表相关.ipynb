{
 "cells": [
  {
   "cell_type": "markdown",
   "metadata": {},
   "source": [
    "## 题目：203. 移除链表元素\n",
    "#### 删除链表中等于给定值 val 的所有节点。\n",
    "\n",
    "#### 输入: 1->2->6->3->4->5->6, val = 6\n",
    "#### 输出: 1->2->3->4->5\n"
   ]
  },
  {
   "cell_type": "markdown",
   "metadata": {},
   "source": [
    "#### 这道移除链表元素是链表的基本操作之一，没有太大的难度，就是考察了基本的链表遍历和设置指针的知识点，我们只需定义几个辅助指针，然后遍历原链表，遇到与给定值相同的元素，将该元素的前后连个节点连接起来，然后删除该元素即可，要注意的是还是需要在链表开头加上一个p node，具体实现参见代码如下："
   ]
  },
  {
   "cell_type": "code",
   "execution_count": null,
   "metadata": {},
   "outputs": [],
   "source": [
    "/**\n",
    " * Definition for singly-linked list.\n",
    " * struct ListNode {\n",
    " *     int val;\n",
    " *     ListNode *next;\n",
    " *     ListNode(int x) : val(x), next(NULL) {}\n",
    " * };\n",
    " */\n",
    "class Solution {\n",
    "public:\n",
    "    ListNode* removeElements(ListNode* head, int val) {\n",
    "        //时间复杂度O(n)，空间复杂度O(1)\n",
    "        ListNode *p=new ListNode(-1);\n",
    "        p->next=head;\n",
    "        ListNode *cur=p->next;\n",
    "        ListNode *pre=p;\n",
    "        while(cur!=NULL){\n",
    "            if(cur->val==val){\n",
    "                cur=cur->next;\n",
    "                pre->next=cur;\n",
    "            }\n",
    "            else{\n",
    "                pre=cur;\n",
    "                cur=cur->next;\n",
    "            }\n",
    "            \n",
    "        }\n",
    "        return p->next;\n",
    "    }\n",
    "};"
   ]
  },
  {
   "cell_type": "code",
   "execution_count": null,
   "metadata": {},
   "outputs": [],
   "source": []
  },
  {
   "cell_type": "markdown",
   "metadata": {},
   "source": [
    "## 160. 相交链表\n",
    "#### 编写一个程序，找到两个单链表相交的起始节点。"
   ]
  },
  {
   "cell_type": "markdown",
   "metadata": {},
   "source": [
    "#### 输入：intersectVal = 8, listA = [4,1,8,4,5], listB = [5,0,1,8,4,5], skipA = 2, skipB = 3\n",
    "#### 输出：Reference of the node with value = 8\n",
    "#### 输入解释：相交节点的值为 8 （注意，如果两个列表相交则不能为 0）。从各自的表头开始算起，链表 A 为 [4,1,8,4,5]，链表 B 为 [5,0,1,8,4,5]。在 A 中，相交节点前有 2 个节点；在 B 中，相交节点前有 3 个节点。\n"
   ]
  },
  {
   "cell_type": "markdown",
   "metadata": {},
   "source": [
    "#### 虽然题目中强调了链表中不存在环，但是我们可以用环的思想来做，我们让两条链表分别从各自的开头开始往后遍历，当其中一条遍历到末尾时，我们跳到另一个条链表的开头继续遍历。两个指针最终会相等，而且只有两种情况，一种情况是在交点处相遇，另一种情况是在各自的末尾的空节点处相等。为什么一定会相等呢，因为两个指针走过的路程相同，是两个链表的长度之和，所以一定会相等。参见代码如下："
   ]
  },
  {
   "cell_type": "code",
   "execution_count": null,
   "metadata": {},
   "outputs": [],
   "source": [
    "/**\n",
    " * Definition for singly-linked list.\n",
    " * struct ListNode {\n",
    " *     int val;\n",
    " *     ListNode *next;\n",
    " *     ListNode(int x) : val(x), next(NULL) {}\n",
    " * };\n",
    " */\n",
    "class Solution {\n",
    "public:\n",
    "    ListNode *getIntersectionNode(ListNode *headA, ListNode *headB) {\n",
    "        //时间复杂度O(n)，空间复杂度O(1)\n",
    "        if(!headA||!headB)\n",
    "            return NULL;\n",
    "        ListNode *a=headA,*b=headB;\n",
    "        while(a!=b){             //使a,b指针走的路程相同，有且只有在交点相遇\n",
    "            a=a?a->next:headB;\n",
    "            b=b?b->next:headA;\n",
    "        }\n",
    "        return a;\n",
    "    }\n",
    "};"
   ]
  },
  {
   "cell_type": "markdown",
   "metadata": {},
   "source": [
    "## 题目：23. 合并K个排序链表\n",
    "#### 合并 k 个排序链表，返回合并后的排序链表。请分析和描述算法的复杂度。"
   ]
  },
  {
   "cell_type": "markdown",
   "metadata": {},
   "source": [
    "#### 输入:\n",
    "$[\n",
    "  1->4->5,\n",
    "  1->3->4,\n",
    "  2->6\n",
    "]$\n",
    "#### 输出: 1->1->2->3->4->4->5->6"
   ]
  },
  {
   "cell_type": "markdown",
   "metadata": {},
   "source": [
    "#### 这里就需要用到分治法 Divide and Conquer Approach。简单来说就是不停的对半划分，比如k个链表先划分为合并两个k/2个链表的任务，再不停的往下划分，直到划分成只有一个或两个链表的任务，开始合并。举个例子来说比如合并6个链表，那么按照分治法，我们首先分别合并0和3，1和4，2和5。这样下一次只需合并3个链表，我们再合并1和3，最后和2合并就可以了。代码中的k是通过 (n+1)/2 计算的，这里为啥要加1呢，这是为了当n为奇数的时候，k能始终从后半段开始，比如当n=5时，那么此时k=3，则0和3合并，1和4合并，最中间的2空出来。当n是偶数的时候，加1也不会有影响，比如当n=4时，此时k=2，那么0和2合并，1和3合并,参见代码如下："
   ]
  },
  {
   "cell_type": "code",
   "execution_count": null,
   "metadata": {},
   "outputs": [],
   "source": [
    "/**\n",
    " * Definition for singly-linked list.\n",
    " * struct ListNode {\n",
    " *     int val;\n",
    " *     ListNode *next;\n",
    " *     ListNode(int x) : val(x), next(NULL) {}\n",
    " * };\n",
    " */\n",
    "class Solution {\n",
    "public:\n",
    "    ListNode* mergeKLists(vector<ListNode*>& lists) {\n",
    "        //时间复杂度O(nlogn)，空间复杂度O(1)\n",
    "        if(lists.empty())\n",
    "            return NULL;\n",
    "        int n=lists.size();\n",
    "        while(n>1){\n",
    "            int k=(n+1)/2;\n",
    "            for(int i=0;i<n/2;++i){\n",
    "                lists[i]=mergeTwoLists(lists[i],lists[i+k]);\n",
    "            }\n",
    "            n=k;\n",
    "        }\n",
    "        return lists[0];\n",
    "    }\n",
    "    \n",
    "    ListNode* mergeTwoLists(ListNode* l1,ListNode* l2){\n",
    "        ListNode* p=new ListNode(-1),*cur=p;\n",
    "        while(l1&&l2){\n",
    "            if(l1->val<l2->val){\n",
    "                cur->next=l1;\n",
    "                l1=l1->next;\n",
    "            }\n",
    "            else{\n",
    "                cur->next=l2;\n",
    "                l2=l2->next;\n",
    "            }\n",
    "            cur=cur->next;\n",
    "        }\n",
    "        cur->next=l1?l1:l2;\n",
    "        return p->next;\n",
    "    }\n",
    "    \n",
    "    \n",
    "};"
   ]
  },
  {
   "cell_type": "markdown",
   "metadata": {},
   "source": [
    "#### 总结：这几道题都是和链表相关的题目，额外有分治和链表有环的思路，分治思想还是比较重要的，感觉和二分查找有点类似，都是每次能成比例（1/2）的排除当前部分。"
   ]
  },
  {
   "cell_type": "code",
   "execution_count": null,
   "metadata": {},
   "outputs": [],
   "source": []
  },
  {
   "cell_type": "code",
   "execution_count": null,
   "metadata": {},
   "outputs": [],
   "source": []
  },
  {
   "cell_type": "code",
   "execution_count": null,
   "metadata": {},
   "outputs": [],
   "source": []
  },
  {
   "cell_type": "code",
   "execution_count": null,
   "metadata": {},
   "outputs": [],
   "source": []
  },
  {
   "cell_type": "code",
   "execution_count": null,
   "metadata": {},
   "outputs": [],
   "source": []
  },
  {
   "cell_type": "code",
   "execution_count": null,
   "metadata": {},
   "outputs": [],
   "source": []
  },
  {
   "cell_type": "code",
   "execution_count": null,
   "metadata": {},
   "outputs": [],
   "source": []
  },
  {
   "cell_type": "code",
   "execution_count": null,
   "metadata": {},
   "outputs": [],
   "source": []
  },
  {
   "cell_type": "code",
   "execution_count": null,
   "metadata": {},
   "outputs": [],
   "source": []
  },
  {
   "cell_type": "code",
   "execution_count": null,
   "metadata": {},
   "outputs": [],
   "source": []
  },
  {
   "cell_type": "code",
   "execution_count": null,
   "metadata": {},
   "outputs": [],
   "source": []
  }
 ],
 "metadata": {
  "kernelspec": {
   "display_name": "C++11",
   "language": "C++11",
   "name": "xeus-cling-cpp11"
  },
  "language_info": {
   "codemirror_mode": "text/x-c++src",
   "file_extension": ".cpp",
   "mimetype": "text/x-c++src",
   "name": "c++",
   "version": "-std=c++11"
  }
 },
 "nbformat": 4,
 "nbformat_minor": 2
}
