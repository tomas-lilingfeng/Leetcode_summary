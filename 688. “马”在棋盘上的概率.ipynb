{
 "cells": [
  {
   "cell_type": "markdown",
   "metadata": {},
   "source": [
    "## 688. “马”在棋盘上的概率\n",
    "\n"
   ]
  },
  {
   "cell_type": "markdown",
   "metadata": {},
   "source": [
    " 已知一个 NxN 的国际象棋棋盘，棋盘的行号和列号都是从 0 开始。即最左上角的格子记为 (0, 0)，最右下角的记为 (N-1, N-1)。 \n",
    "\n",
    "现有一个 “马”（也译作 “骑士”）位于 (r, c) ，并打算进行 K 次移动。 \n",
    "\n",
    "如下图所示，国际象棋的 “马” 每一步先沿水平或垂直方向移动 2 个格子，然后向与之相垂直的方向再移动 1 个格子，共有 8 个可选的位置。\n",
    "\n",
    " \n",
    "\n",
    "\n",
    "\n",
    " \n",
    "\n",
    "现在 “马” 每一步都从可选的位置（包括棋盘外部的）中独立随机地选择一个进行移动，直到移动了 K 次或跳到了棋盘外面。\n",
    "\n",
    "求移动结束后，“马” 仍留在棋盘上的概率。\n",
    "\n",
    " \n",
    "\n",
    "示例：\n",
    "\n",
    "输入: 3, 2, 0, 0\n",
    "输出: 0.0625\n",
    "解释: \n",
    "输入的数据依次为 N, K, r, c\n",
    "第 1 步时，有且只有 2 种走法令 “马” 可以留在棋盘上（跳到（1,2）或（2,1））。对于以上的两种情况，各自在第2步均有且只有2种走法令 “马” 仍然留在棋盘上。\n",
    "所以 “马” 在结束后仍在棋盘上的概率为 0.0625。\n",
    " \n",
    "\n",
    "注意：\n",
    "\n",
    "N 的取值范围为 [1, 25]\n",
    "K 的取值范围为 [0, 100]\n",
    "开始时，“马” 总是位于棋盘上\n",
    "\n"
   ]
  },
  {
   "cell_type": "code",
   "execution_count": null,
   "metadata": {},
   "outputs": [],
   "source": [
    "class Solution {\n",
    "public:\n",
    "    double knightProbability(int N, int K, int r, int c) {\n",
    "        if(K==0)\n",
    "            return 1;\n",
    "        vector<vector<double>> dp(N,vector<double>(N,1));//表示在棋盘（i,j）位置走完当前步骤还留在棋盘上的走法总和\n",
    "        vector<vector<int>> dirs{{-1,-2},{-2,-1},{-2,1},{-1,2},{1,2},{2,1},{2,-1},{1,-2}};\n",
    "        for(int m=0;m<K;m++){\n",
    "            vector<vector<double>> t(N,vector<double>(N,0));\n",
    "            for(int i=0;i<N;i++){\n",
    "                for(int j=0;j<N;j++){\n",
    "                    for(auto dir:dirs){\n",
    "                        int x=i+dir[0],y=j+dir[1];   \n",
    "                        if(x<0||x>=N||y<0||y>=N)  //查看是否dir走法是否在棋盘上\n",
    "                            continue;\n",
    "                        t[i][j]+=dp[x][y];//更新dp\n",
    "                    }\n",
    "                }\n",
    "            }\n",
    "            dp=t;\n",
    "        }\n",
    "        return dp[r][c]/pow(8,K);\n",
    "    }\n",
    "};"
   ]
  },
  {
   "cell_type": "code",
   "execution_count": null,
   "metadata": {},
   "outputs": [],
   "source": []
  }
 ],
 "metadata": {
  "kernelspec": {
   "display_name": "C++11",
   "language": "C++11",
   "name": "xeus-cling-cpp11"
  },
  "language_info": {
   "codemirror_mode": "text/x-c++src",
   "file_extension": ".cpp",
   "mimetype": "text/x-c++src",
   "name": "c++",
   "version": "-std=c++11"
  }
 },
 "nbformat": 4,
 "nbformat_minor": 2
}
