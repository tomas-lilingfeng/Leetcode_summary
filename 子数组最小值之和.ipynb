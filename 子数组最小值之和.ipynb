{
 "cells": [
  {
   "cell_type": "markdown",
   "metadata": {},
   "source": [
    "# 总结：注意907题：动态规划和寻找规律可解，要熟悉二叉树递归和动态规划。"
   ]
  },
  {
   "cell_type": "markdown",
   "metadata": {},
   "source": [
    "## 907. 子数组的最小值之和\n",
    "给定一个整数数组 A，找到 min(B) 的总和，其中 B 的范围为 A 的每个（连续）子数组。\n",
    "\n",
    "由于答案可能很大，因此返回答案模 10^9 + 7。\n",
    "\n",
    " \n",
    "\n",
    "示例：\n",
    "\n",
    "输入：[3,1,2,4]\n",
    "输出：17\n",
    "解释：\n",
    "子数组为 [3]，[1]，[2]，[4]，[3,1]，[1,2]，[2,4]，[3,1,2]，[1,2,4]，[3,1,2,4]。 \n",
    "最小值为 3，1，2，4，1，1，2，1，1，1，和为 17。\n",
    " \n",
    "\n",
    "提示：\n",
    "\n",
    "- 1 <= A <= 30000\n",
    "- 1 <= A[i] <= 30000\n",
    " \n",
    "\n"
   ]
  },
  {
   "cell_type": "markdown",
   "metadata": {},
   "source": [
    "考虑从A中的每个元素A[i]，如果求出包含A[i]并以A[i]为最小元素的所有子数组个数n[i]，则元素A[i]对答案ans的贡献为n[i]*A[i]，那么我们可以先求包含A[i]并以A[i]为最小元素的最长子数组，如果A[i]左边第一个小于A[i]的元素为A[left]，A[i]右边第一个小于A[i]的元素为A[right]，则包含A[i]并以A[i]为最小元素的最长子数组为A[left+1:right]，满足以A[i]为最小元素的所有子数组个数n[i] = (i-left)*(right-i)。我们用left[i]表示A[i]左边第一个小于A[i]元素的位置，用right[i]表示A[i]右边第一个小于A[i]元素的位置，left数组初始值为-1，right数组初始值为len(A)，求解left和right可以用单调栈来实现，可以两遍遍历，也可以一遍遍历，更优化的写法还可以一边遍历一边求解ans。\n",
    " "
   ]
  },
  {
   "cell_type": "code",
   "execution_count": null,
   "metadata": {},
   "outputs": [],
   "source": [
    "class Solution {\n",
    "public:\n",
    "    int sumSubarrayMins(vector<int>& A) {\n",
    "        long long res = 0;\n",
    "        int mod = 1000000007;\n",
    "        stack<int> s;\n",
    "        A.insert(A.begin(),0);\n",
    "        A.push_back(0);\n",
    "        for(int i = 0;i<A.size();++i){\n",
    "            while(!s.empty() && A[s.top()] > A[i]){\n",
    "                int j = s.top();\n",
    "                s.pop();\n",
    "                int k = s.top();\n",
    "                res += A[j]*(i-j)*(j-k);\n",
    "            }\n",
    "            s.push(i);\n",
    "            res = res%mod;\n",
    "        }\n",
    "        return res;\n",
    "    }\n",
    "};"
   ]
  },
  {
   "cell_type": "code",
   "execution_count": null,
   "metadata": {},
   "outputs": [],
   "source": []
  },
  {
   "cell_type": "code",
   "execution_count": null,
   "metadata": {},
   "outputs": [],
   "source": []
  },
  {
   "cell_type": "markdown",
   "metadata": {},
   "source": [
    "## 813. 最大平均值和的分组\n",
    "\n",
    "我们将给定的数组 A 分成 K 个相邻的非空子数组 ，我们的分数由每个子数组内的平均值的总和构成。计算我们所能得到的最大分数是多少。\n",
    "\n",
    "注意我们必须使用 A 数组中的每一个数进行分组，并且分数不一定需要是整数。\n",
    "\n",
    "示例:\n",
    "输入: \n",
    "A = [9,1,2,3,9]\n",
    "K = 3\n",
    "输出: 20\n",
    "解释: \n",
    "A 的最优分组是[9], [1, 2, 3], [9]. 得到的分数是 9 + (1 + 2 + 3) / 3 + 9 = 20.\n",
    "我们也可以把 A 分成[9, 1], [2], [3, 9].\n",
    "这样的分组得到的分数为 5 + 2 + 6 = 13, 但不是最大值.\n",
    "说明:\n",
    "\n",
    "1 <= A.length <= 100.\n",
    "1 <= A[i] <= 10000.\n",
    "1 <= K <= A.length.\n",
    "答案误差在 10^-6 内被视为是正确的。\n",
    " "
   ]
  },
  {
   "cell_type": "code",
   "execution_count": null,
   "metadata": {},
   "outputs": [],
   "source": [
    "class Solution {\n",
    "public:\n",
    "    double largestSumOfAverages(vector<int>& A, int K) {\n",
    "          /**\n",
    "        dp[i][k]表示前i个数构成k个子数组时的最大平均值, 那么对于所有 0 <= j <= i-1\n",
    "        dp[i][k] = Math.max(dp[i][k], dp[j][k-1] + (A[j+1] + ... + A[i+1]) / (i-j))\n",
    "        **/\n",
    "        int n=A.size();\n",
    "        vector<double> sum(n+1);\n",
    "        vector<vector<double>> dp(n+1,vector<double>(K+1));\n",
    "        for(int i=1;i<=n;i++){\n",
    "            sum[i]=sum[i-1]+A[i-1];\n",
    "            dp[i][1]=sum[i]/i;\n",
    "        }\n",
    "        for(int i=1;i<=n;++i){\n",
    "            for(int k=2;k<=K;++k){\n",
    "                for(int j=0;j<i;++j){\n",
    "                    dp[i][k]=max(dp[i][k],dp[j][k-1]+(sum[i]-sum[j])/(i-j));//找准状态转移方程\n",
    "                }\n",
    "            }\n",
    "        }\n",
    "        return dp[n][K];\n",
    "    }\n",
    "};"
   ]
  },
  {
   "cell_type": "markdown",
   "metadata": {},
   "source": [
    "## 236. 二叉树的最近公共祖先\n",
    "给定一个二叉树, 找到该树中两个指定节点的最近公共祖先。\n",
    "\n",
    "百度百科中最近公共祖先的定义为：“对于有根树 T 的两个结点 p、q，最近公共祖先表示为一个结点 x，满足 x 是 p、q 的祖先且 x 的深度尽可能大（一个节点也可以是它自己的祖先）。”\n",
    "\n",
    "例如，给定如下二叉树:  root = [3,5,1,6,2,0,8,null,null,7,4]\n",
    "\n",
    "示例 1:\n",
    "\n",
    "输入: root = [3,5,1,6,2,0,8,null,null,7,4], p = 5, q = 1\n",
    "输出: 3\n",
    "解释: 节点 5 和节点 1 的最近公共祖先是节点 3。\n",
    "示例 2:\n",
    "\n",
    "输入: root = [3,5,1,6,2,0,8,null,null,7,4], p = 5, q = 4\n",
    "输出: 5\n",
    "解释: 节点 5 和节点 4 的最近公共祖先是节点 5。因为根据定义最近公共祖先节点可以为节点本身。\n",
    "\n"
   ]
  },
  {
   "cell_type": "code",
   "execution_count": null,
   "metadata": {},
   "outputs": [],
   "source": [
    "/**\n",
    " * Definition for a binary tree node.\n",
    " * struct TreeNode {\n",
    " *     int val;\n",
    " *     TreeNode *left;\n",
    " *     TreeNode *right;\n",
    " *     TreeNode(int x) : val(x), left(NULL), right(NULL) {}\n",
    " * };\n",
    " */\n",
    "class Solution {\n",
    "public:\n",
    "    TreeNode* lowestCommonAncestor(TreeNode* root, TreeNode* p, TreeNode* q) {\n",
    "        if(p==root||q==root||!root){\n",
    "                return root;\n",
    "        }\n",
    "        TreeNode *left=lowestCommonAncestor(root->left,p,q);\n",
    "        TreeNode *right=lowestCommonAncestor(root->right,p,q);\n",
    "         if(left&&right)\n",
    "                 return root;\n",
    "         return left?left:right;\n",
    "    }\n",
    "};"
   ]
  },
  {
   "cell_type": "code",
   "execution_count": null,
   "metadata": {},
   "outputs": [],
   "source": []
  },
  {
   "cell_type": "code",
   "execution_count": null,
   "metadata": {},
   "outputs": [],
   "source": []
  },
  {
   "cell_type": "code",
   "execution_count": null,
   "metadata": {},
   "outputs": [],
   "source": []
  },
  {
   "cell_type": "code",
   "execution_count": null,
   "metadata": {},
   "outputs": [],
   "source": []
  },
  {
   "cell_type": "code",
   "execution_count": null,
   "metadata": {},
   "outputs": [],
   "source": []
  },
  {
   "cell_type": "code",
   "execution_count": null,
   "metadata": {},
   "outputs": [],
   "source": []
  },
  {
   "cell_type": "code",
   "execution_count": null,
   "metadata": {},
   "outputs": [],
   "source": []
  },
  {
   "cell_type": "code",
   "execution_count": null,
   "metadata": {},
   "outputs": [],
   "source": []
  },
  {
   "cell_type": "code",
   "execution_count": null,
   "metadata": {},
   "outputs": [],
   "source": []
  },
  {
   "cell_type": "code",
   "execution_count": null,
   "metadata": {},
   "outputs": [],
   "source": []
  }
 ],
 "metadata": {
  "kernelspec": {
   "display_name": "C++11",
   "language": "C++11",
   "name": "xeus-cling-cpp11"
  },
  "language_info": {
   "codemirror_mode": "text/x-c++src",
   "file_extension": ".cpp",
   "mimetype": "text/x-c++src",
   "name": "c++",
   "version": "-std=c++11"
  }
 },
 "nbformat": 4,
 "nbformat_minor": 2
}
