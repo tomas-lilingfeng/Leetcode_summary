{
 "cells": [
  {
   "cell_type": "markdown",
   "metadata": {},
   "source": [
    "### 总结：利用好二叉搜索树的性质，即root->左子树 < root  < root->右子树 ：（中序遍历是升序）\n",
    "### 递归三要素：1、明确递归终止条件；（基线条件）2、给出递归终止时的处理办法；（递归条件）3、提取重复的逻辑，缩小问题规模。"
   ]
  },
  {
   "cell_type": "markdown",
   "metadata": {},
   "source": [
    "## 101. 对称二叉树"
   ]
  },
  {
   "cell_type": "markdown",
   "metadata": {},
   "source": [
    "#### 给定一个二叉树，检查它是否是镜像对称的。\n",
    "\n",
    "例如，二叉树 [1,2,2,3,4,4,3] 是对称的。\n",
    "\n"
   ]
  },
  {
   "attachments": {
    "image.png": {
     "image/png": "[encoded data removed]"
    }
   },
   "cell_type": "markdown",
   "metadata": {},
   "source": [
    "![image.png](attachment:image.png)"
   ]
  },
  {
   "cell_type": "markdown",
   "metadata": {},
   "source": [
    "#### 判断二叉树是否是对称树，比如有两个节点n1, n2，我们需要比较n1的左子节点的值和n2的右子节点的值是否相等，同时还要比较n1的右子节点的值和n2的左子结点的值是否相等，以此类推比较完所有的左右两个节点。"
   ]
  },
  {
   "cell_type": "code",
   "execution_count": null,
   "metadata": {},
   "outputs": [],
   "source": [
    "/**\n",
    " * Definition for a binary tree node.\n",
    " * struct TreeNode {\n",
    " *     int val;\n",
    " *     TreeNode *left;\n",
    " *     TreeNode *right;\n",
    " *     TreeNode(int x) : val(x), left(NULL), right(NULL) {}\n",
    " * };\n",
    " */\n",
    "class Solution {\n",
    "public:\n",
    "    bool isSymmetric(TreeNode* root) {\n",
    "        //时间复杂度O(n)，空间复杂度O(n)\n",
    "        if(!root)\n",
    "            return true;\n",
    "        return isSymmetric(root->left,root->right);\n",
    "    }\n",
    "    \n",
    "    bool isSymmetric(TreeNode *left,TreeNode *right){\n",
    "        if(!left&&!right)\n",
    "            return true;\n",
    "        if((left&&!right)||(!left&&right)||(left->val!=right->val))\n",
    "            return false;\n",
    "        return isSymmetric(left->left,right->right)&&isSymmetric(left->right,right->left);\n",
    "            \n",
    "    }\n",
    "    \n",
    "};"
   ]
  },
  {
   "cell_type": "markdown",
   "metadata": {},
   "source": [
    " 迭代写法需要借助两个队列queue来实现，我们首先判空，如果root为空，直接返回true。否则将root的左右两个子结点分别装入两个队列，然后开始循环，循环条件是两个队列都不为空。在while循环中，我们首先分别将两个队列中的队首元素取出来，如果两个都是空结点，那么直接跳过，因为我们还没有比较完，有可能某个结点没有左子结点，但是右子结点仍然存在，所以这里只能continue。然后再看，如果有一个为空，另一个不为空，那么此时对称性已经被破坏了，不用再比下去了，直接返回false。若两个结点都存在，但是其结点值不同，这也破坏了对称性，返回false。否则的话将node1的左子结点和右子结点排入队列1，注意这里要将node2的右子结点和左子结点排入队列2，注意顺序的对应问题。最后循环结束后直接返回true，这里不必再去check两个队列是否同时为空，因为循环结束后只可能是两个队列均为空的情况，其他情况比如一空一不空的直接在循环内部就返回false了，参见代码如下："
   ]
  },
  {
   "cell_type": "code",
   "execution_count": null,
   "metadata": {},
   "outputs": [],
   "source": [
    "class Solution {\n",
    "public:\n",
    "    bool isSymmetric(TreeNode* root) {\n",
    "        if (!root) return true;\n",
    "        queue<TreeNode*> q1, q2;\n",
    "        q1.push(root->left);\n",
    "        q2.push(root->right);\n",
    "        while (!q1.empty() && !q2.empty()) {\n",
    "            TreeNode *node1 = q1.front(); \n",
    "            q1.pop();\n",
    "            TreeNode *node2 = q2.front(); \n",
    "            q2.pop();\n",
    "            if (!node1 && !node2) \n",
    "                continue;\n",
    "            if((node1 && !node2) || (!node1 && node2)) \n",
    "                return false;\n",
    "            if (node1->val != node2->val) \n",
    "                return false;\n",
    "            q1.push(node1->left);\n",
    "            q1.push(node1->right);\n",
    "            q2.push(node2->right);\n",
    "            q2.push(node2->left);\n",
    "        }\n",
    "        return true;\n",
    "    }\n",
    "};"
   ]
  },
  {
   "cell_type": "markdown",
   "metadata": {},
   "source": [
    "## 98. 验证二叉搜索树"
   ]
  },
  {
   "cell_type": "markdown",
   "metadata": {},
   "source": [
    "#### 给定一个二叉树，判断其是否是一个有效的二叉搜索树。\n",
    "\n",
    "假设一个二叉搜索树具有如下特征：\n",
    "\n",
    "节点的左子树只包含小于当前节点的数。\n",
    "节点的右子树只包含大于当前节点的数。\n",
    "所有左子树和右子树自身必须也是二叉搜索树。\n",
    "示例 1:\n",
    "\n",
    "输入:\n",
    "    2\n",
    "   / \\\n",
    "  1   3\n",
    "输出: true"
   ]
  },
  {
   "cell_type": "code",
   "execution_count": null,
   "metadata": {},
   "outputs": [],
   "source": [
    "/**\n",
    " * Definition for a binary tree node.\n",
    " * struct TreeNode {\n",
    " *     int val;\n",
    " *     TreeNode *left;\n",
    " *     TreeNode *right;\n",
    " *     TreeNode(int x) : val(x), left(NULL), right(NULL) {}\n",
    " * };\n",
    " */\n",
    "class Solution {\n",
    "public:\n",
    "    bool isValidBST(TreeNode* root) {\n",
    "        //时间复杂度O(n)，空间复杂度O(n)\n",
    "        return isValidDF(root,LONG_MIN,LONG_MAX);\n",
    "    }\n",
    "    bool isValidDF(TreeNode *root,long mn,long mx){\n",
    "        if(!root)\n",
    "            return true;\n",
    "        if(root->val<=mn||root->val>=mx)\n",
    "            return false;\n",
    "        return isValidDF(root->right,root->val,mx)&&isValidDF(root->left,mn,root->val);\n",
    "    }\n",
    "    \n",
    "};"
   ]
  },
  {
   "cell_type": "code",
   "execution_count": null,
   "metadata": {},
   "outputs": [],
   "source": [
    "// Recursion\n",
    "class Solution {\n",
    "public:\n",
    "    bool isValidBST(TreeNode* root) {\n",
    "        if (!root) return true;\n",
    "        vector<int> vals;\n",
    "        inorder(root, vals);\n",
    "        for (int i = 0; i < vals.size() - 1; ++i) {\n",
    "            if (vals[i] >= vals[i + 1]) return false;\n",
    "        }\n",
    "        return true;\n",
    "    }\n",
    "    //中序遍历后检查是否是升序\n",
    "    void inorder(TreeNode* root, vector<int>& vals) {\n",
    "        if (!root) return;\n",
    "        inorder(root->left, vals);\n",
    "        vals.push_back(root->val);\n",
    "        inorder(root->right, vals);\n",
    "    }\n",
    "};"
   ]
  },
  {
   "cell_type": "code",
   "execution_count": null,
   "metadata": {},
   "outputs": [],
   "source": [
    "class Solution {\n",
    "public:\n",
    "    bool isValidBST(TreeNode* root) {\n",
    "        stack<TreeNode*> s;\n",
    "        TreeNode *p = root, *pre = NULL;\n",
    "        while (p || !s.empty()) {\n",
    "            while (p) {\n",
    "                s.push(p);\n",
    "                p = p->left;\n",
    "            }\n",
    "            p = s.top(); s.pop();\n",
    "            if (pre && p->val <= pre->val) return false; //非递归的中序遍历，并在遍历过程中作判别。\n",
    "            pre = p;\n",
    "            p = p->right;\n",
    "        }\n",
    "        return true;\n",
    "    }\n",
    "};"
   ]
  },
  {
   "cell_type": "markdown",
   "metadata": {},
   "source": [
    "## 230. 二叉搜索树中第K小的元素"
   ]
  },
  {
   "cell_type": "markdown",
   "metadata": {},
   "source": [
    "### 给定一个二叉搜索树，编写一个函数 kthSmallest 来查找其中第 k 个最小的元素。\n",
    "\n",
    "说明：\n",
    "你可以假设 k 总是有效的，1 ≤ k ≤ 二叉搜索树元素个数。\n"
   ]
  },
  {
   "cell_type": "code",
   "execution_count": null,
   "metadata": {},
   "outputs": [],
   "source": [
    "/**\n",
    " * Definition for a binary tree node.\n",
    " * struct TreeNode {\n",
    " *     int val;\n",
    " *     TreeNode *left;\n",
    " *     TreeNode *right;\n",
    " *     TreeNode(int x) : val(x), left(NULL), right(NULL) {}\n",
    " * };\n",
    " */\n",
    "class Solution {\n",
    "public:\n",
    "    int kthSmallest(TreeNode* root, int k) {\n",
    "        //时间复杂度O(n)，空间复杂度O(n)\n",
    "        int count=0;\n",
    "        stack<TreeNode*> q;\n",
    "        TreeNode *cur=root;\n",
    "        while(cur||!q.empty()){\n",
    "            while(cur){\n",
    "                q.push(cur);\n",
    "                cur=cur->left;\n",
    "            }\n",
    "            cur=q.top();\n",
    "            q.pop();\n",
    "            ++count;\n",
    "            if(count==k)//中序遍历过程中计数，返回第k个值。\n",
    "                return cur->val;\n",
    "            cur=cur->right;\n",
    "        }\n",
    "        return 0;\n",
    "    }\n",
    "    \n",
    "};"
   ]
  },
  {
   "cell_type": "code",
   "execution_count": null,
   "metadata": {},
   "outputs": [],
   "source": []
  },
  {
   "cell_type": "code",
   "execution_count": null,
   "metadata": {},
   "outputs": [],
   "source": []
  },
  {
   "cell_type": "code",
   "execution_count": null,
   "metadata": {},
   "outputs": [],
   "source": []
  },
  {
   "cell_type": "code",
   "execution_count": null,
   "metadata": {},
   "outputs": [],
   "source": []
  },
  {
   "cell_type": "code",
   "execution_count": null,
   "metadata": {},
   "outputs": [],
   "source": []
  },
  {
   "cell_type": "code",
   "execution_count": null,
   "metadata": {},
   "outputs": [],
   "source": []
  }
 ],
 "metadata": {
  "kernelspec": {
   "display_name": "C++11",
   "language": "C++11",
   "name": "xeus-cling-cpp11"
  },
  "language_info": {
   "codemirror_mode": "text/x-c++src",
   "file_extension": ".cpp",
   "mimetype": "text/x-c++src",
   "name": "c++",
   "version": "-std=c++11"
  }
 },
 "nbformat": 4,
 "nbformat_minor": 2
}
