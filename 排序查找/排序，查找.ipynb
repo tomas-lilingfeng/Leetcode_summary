{
 "cells": [
  {
   "cell_type": "markdown",
   "metadata": {},
   "source": [
    "## 31. 下一个排列\n",
    "实现获取下一个排列的函数，算法需要将给定数字序列重新排列成字典序中下一个更大的排列。\n",
    "\n",
    "如果不存在下一个更大的排列，则将数字重新排列成最小的排列（即升序排列）。\n",
    "\n",
    "必须原地修改，只允许使用额外常数空间。\n",
    "\n",
    "以下是一些例子，输入位于左侧列，其相应输出位于右侧列。 1,2,3 → 1,3,2 3,2,1 → 1,2,3 1,1,5 → 1,5,1\n",
    "\n",
    "需要明白字典序的变化过程"
   ]
  },
  {
   "cell_type": "markdown",
   "metadata": {},
   "source": [
    "需要明白字典序的变化过程"
   ]
  },
  {
   "cell_type": "code",
   "execution_count": null,
   "metadata": {},
   "outputs": [],
   "source": [
    "class Solution {\n",
    "public:\n",
    "    void nextPermutation(vector<int>& nums) {\n",
    "        int n=nums.size(),i=n-2,j=n-1;\n",
    "        while(i>=0&&nums[i]>=nums[i+1])\n",
    "            --i;\n",
    "        if(i>=0){\n",
    "            while(nums[j]<=nums[i])\n",
    "                --j;\n",
    "            swap(nums[i],nums[j]);\n",
    "        }\n",
    "        reverse(nums.begin()+i+1,nums.end());\n",
    "    }\n",
    "};"
   ]
  },
  {
   "cell_type": "markdown",
   "metadata": {},
   "source": [
    "## 56. 合并区间\n",
    "给出一个区间的集合，请合并所有重叠的区间。\n",
    "\n",
    "示例 1:\n",
    "\n",
    "输入: [[1,3],[2,6],[8,10],[15,18]] 输出: [[1,6],[8,10],[15,18]] 解释: 区间 [1,3] 和 [2,6] 重叠, 将它们合并为 [1,6]. 示例 2:\n",
    "\n",
    "输入: [[1,4],[4,5]] 输出: [[1,5]] 解释: 区间 [1,4] 和 [4,5] 可被视为重叠区间。"
   ]
  },
  {
   "cell_type": "code",
   "execution_count": null,
   "metadata": {},
   "outputs": [],
   "source": [
    "class Solution {\n",
    "public:\n",
    "    vector<vector<int>> merge(vector<vector<int>>& intervals) {\n",
    "        if(intervals.empty())\n",
    "            return {};\n",
    "        sort(intervals.begin(),intervals.end());   //先排序\n",
    "        vector<vector<int>> res{intervals[0]};\n",
    "        for(int i=1;i<intervals.size();++i){\n",
    "            if(res.back()[1]<intervals[i][0]){      //当区间的左边界大于上一个区间的右边界时，将该区间加入结果\n",
    "                res.push_back(intervals[i]);        \n",
    "            }\n",
    "            else{\n",
    "                res.back()[1]=max(res.back()[1],intervals[i][1]);     //小于的，比较两个区间的右边界，选择较大的边界\n",
    "            }\n",
    "            \n",
    "        }\n",
    "        return res;\n",
    "        \n",
    "    }\n",
    "};"
   ]
  },
  {
   "cell_type": "markdown",
   "metadata": {},
   "source": [
    "## 60. 第k个排列\n",
    "给出集合 [1,2,3,…,n]，其所有元素共有 n! 种排列。\n",
    "\n",
    "按大小顺序列出所有排列情况，并一一标记，当 n = 3 时, 所有排列如下：\n",
    "\n",
    "\"123\" \"132\" \"213\" \"231\" \"312\" \"321\" 给定 n 和 k，返回第 k 个排列。\n",
    "\n",
    "说明：\n",
    "\n",
    "给定 n 的范围是 [1, 9]。 给定 k 的范围是[1, n!]。 示例 1:\n",
    "\n",
    "输入: n = 3, k = 3 输出: \"213\" 示例 2:\n",
    "\n",
    "输入: n = 4, k = 9 输出: \"2314\""
   ]
  },
  {
   "cell_type": "code",
   "execution_count": null,
   "metadata": {},
   "outputs": [],
   "source": [
    "class Solution {\n",
    "public:\n",
    "    string getPermutation(int n, int k) {//需要找到排列的规律\n",
    "        string res;\n",
    "        string num=\"123456789\";\n",
    "        vector<int> f(n,1);\n",
    "        for(int i=1;i<n;++i)\n",
    "            f[i]=f[i-1]*i;\n",
    "            --k;\n",
    "        for(int i=n;i>=1;--i){\n",
    "            int j=k/f[i-1];       \n",
    "            k%=f[i-1];\n",
    "            res.push_back(num[j]);\n",
    "            num.erase(j,1);\n",
    "        }\n",
    "        return res;\n",
    "    }\n",
    "};"
   ]
  },
  {
   "cell_type": "markdown",
   "metadata": {},
   "source": [
    "## 378. 有序矩阵中第K小的元素\n",
    "给定一个 n x n 矩阵，其中每行和每列元素均按升序排序，找到矩阵中第k小的元素。 请注意，它是排序后的第k小元素，而不是第k个元素。\n",
    "\n",
    "示例:\n",
    "\n",
    "matrix = [ [ 1, 5, 9], [10, 11, 13], [12, 13, 15] ], k = 8,\n",
    "\n",
    "返回 13。 说明: 你可以假设 k 的值永远是有效的, 1 ≤ k ≤ n2 。"
   ]
  },
  {
   "cell_type": "code",
   "execution_count": null,
   "metadata": {},
   "outputs": [],
   "source": [
    "class Solution {\n",
    "public:\n",
    "    int kthSmallest(vector<vector<int>>& matrix, int k) {\n",
    "        \n",
    "        int left=matrix[0][0],right=matrix.back().back();\n",
    "       \n",
    "        while(left<right){\n",
    "            int mid=left+(right-left)/2;\n",
    "            int cnt=0;\n",
    "            for(int i=0;i<matrix.size();i++){\n",
    "                cnt += upper_bound(matrix[i].begin(), matrix[i].end(), mid) - matrix[i].begin(); \n",
    "                //我们使用 upper_bound，这个函数是查找第一个大于目标数的元素，如果目标数在比该行的尾元素大，\n",
    "                //则 upper_bound 返回该行元素的个数，如果目标数比该行首元素小，则 upper_bound 返回0\n",
    "            }\n",
    "            if(k>cnt)\n",
    "                left=mid+1;\n",
    "            else\n",
    "                right=mid;// 我们遍历完所有的行可以找出中间数是第几小的数，然后k比较，\n",
    "                           //进行二分查找，left 和 right 最终会相等，并且会变成数组中第k小的数字。\n",
    "        }    \n",
    "        \n",
    "    \n",
    "        return left;\n",
    "        \n",
    "        \n",
    "    }\n",
    "};"
   ]
  },
  {
   "cell_type": "code",
   "execution_count": null,
   "metadata": {},
   "outputs": [],
   "source": [
    "class Solution {\n",
    "public:\n",
    "    int kthSmallest(vector<vector<int>>& matrix, int k) {\n",
    "        priority_queue<int> q;\n",
    "        for(int i=0;i<matrix.size();i++){\n",
    "            for(int j=0;j<matrix[0].size();j++){\n",
    "                q.emplace(matrix[i][j]);//利用最大堆的特性来返回第k小的数\n",
    "                if(q.size()>k)\n",
    "                    q.pop();\n",
    "            }\n",
    "        }\n",
    "        return q.top();\n",
    "        \n",
    "    }\n",
    "};"
   ]
  },
  {
   "cell_type": "code",
   "execution_count": null,
   "metadata": {},
   "outputs": [],
   "source": []
  },
  {
   "cell_type": "code",
   "execution_count": null,
   "metadata": {},
   "outputs": [],
   "source": []
  },
  {
   "cell_type": "code",
   "execution_count": null,
   "metadata": {},
   "outputs": [],
   "source": []
  },
  {
   "cell_type": "code",
   "execution_count": null,
   "metadata": {},
   "outputs": [],
   "source": []
  },
  {
   "cell_type": "code",
   "execution_count": null,
   "metadata": {},
   "outputs": [],
   "source": []
  },
  {
   "cell_type": "code",
   "execution_count": null,
   "metadata": {},
   "outputs": [],
   "source": []
  },
  {
   "cell_type": "code",
   "execution_count": null,
   "metadata": {},
   "outputs": [],
   "source": []
  },
  {
   "cell_type": "code",
   "execution_count": null,
   "metadata": {},
   "outputs": [],
   "source": []
  },
  {
   "cell_type": "code",
   "execution_count": null,
   "metadata": {},
   "outputs": [],
   "source": []
  }
 ],
 "metadata": {
  "kernelspec": {
   "display_name": "C++11",
   "language": "C++11",
   "name": "xeus-cling-cpp11"
  },
  "language_info": {
   "codemirror_mode": "text/x-c++src",
   "file_extension": ".cpp",
   "mimetype": "text/x-c++src",
   "name": "c++",
   "version": "-std=c++11"
  }
 },
 "nbformat": 4,
 "nbformat_minor": 2
}
