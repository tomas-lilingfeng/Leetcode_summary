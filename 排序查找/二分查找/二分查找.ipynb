{
 "cells": [
  {
   "cell_type": "markdown",
   "metadata": {},
   "source": [
    " 二分算法所操作的区间，是左闭右开，还是左闭右闭，需要在循环体跳出判断中，以及每次修改left,，right区间值这两个地方保持一致，否则就可能出错。"
   ]
  },
  {
   "cell_type": "markdown",
   "metadata": {},
   "source": [
    "## 问题1\n",
    "\n",
    "给定一个有序的数组，查找value是否在数组中，不存在返回-1。"
   ]
  },
  {
   "cell_type": "code",
   "execution_count": null,
   "metadata": {},
   "outputs": [],
   "source": [
    "int BinarySearch(int array[], int n, int value)\n",
    "{\n",
    "    int left = 0;\n",
    "    int right = n - 1;\n",
    "    //如果这里是int right = n 的话，那么下面有两处地方需要修改，以保证一一对应：\n",
    "    //1、下面循环的条件则是while(left < right)\n",
    "    //2、循环内当 array[middle] > value 的时候，right = mid\n",
    "\n",
    "    while (left <= right)  //循环条件，适时而变\n",
    "    {\n",
    "        int middle = left + ((right - left) >> 1);  //防止溢出，移位也更高效。同时，每次循环都需要更新。\n",
    "        if (array[middle] > value)\n",
    "            right = middle - 1;  //right赋值，适时而变\n",
    "        else if (array[middle] < value)\n",
    "            left = middle + 1;\n",
    "        else\n",
    "            return middle;\n",
    "        //可能会有读者认为刚开始时就要判断相等，但毕竟数组中不相等的情况更多\n",
    "        //如果每次循环都判断一下是否相等，将耗费时间\n",
    "    }\n",
    "    return -1;\n",
    "}"
   ]
  },
  {
   "cell_type": "markdown",
   "metadata": {},
   "source": [
    "## 问题2\n",
    "给定一个有序的数组，查找value第一次出现的下标，不存在返回-1。"
   ]
  },
  {
   "cell_type": "code",
   "execution_count": null,
   "metadata": {},
   "outputs": [],
   "source": [
    "int BinarySearch(int array[], int n, int value)\n",
    "{\n",
    "    int left = 0;\n",
    "    int right = n - 1;\n",
    "\n",
    "    while (left <= right)  \n",
    "    {\n",
    "        int middle = left + ((right - left) >> 1);\n",
    "        if (array[middle] >= value)  //因为是找到最小的等值下标，所以等于号放在这里\n",
    "            right = middle - 1;\n",
    "        else\n",
    "            left = middle + 1;\n",
    "    }\n",
    "    return array[right + 1] == value ? right + 1 : -1;\n",
    "}"
   ]
  },
  {
   "cell_type": "markdown",
   "metadata": {},
   "source": [
    "如果问题改为查找value最后一次出现的下标呢？只需改动两个位置：\n",
    "1.if (array[middle] >= value)中的等号去掉；\n",
    "2.return中right+1改为left-1。"
   ]
  },
  {
   "cell_type": "markdown",
   "metadata": {},
   "source": [
    "## 问题3\n",
    "给定一个有序的数组，查找最接近value且大于value的数的下标（如果该数存在多个，返回第一个下标），不存在返回-1。"
   ]
  },
  {
   "cell_type": "code",
   "execution_count": null,
   "metadata": {},
   "outputs": [],
   "source": [
    "int BinarySearch(int array[], int n, int value)\n",
    "{\n",
    "    int left = 0;\n",
    "    int right = n - 1;\n",
    "\n",
    "    while (left <= right)  \n",
    "    {\n",
    "        int middle = left + ((right - left) >> 1);\n",
    "        if (array[middle] > value)\n",
    "            right = middle - 1;\n",
    "        else\n",
    "            left = middle + 1;\n",
    "    }\n",
    "    return array[right + 1] > value ? right + 1 : -1;\n",
    "}"
   ]
  },
  {
   "cell_type": "markdown",
   "metadata": {},
   "source": [
    " 如果问题改为查找最接近value且小于value的数的下标（如果该数存在多个，返回最后一个下标）呢？只需改动两个位置：\n",
    "1.if (array[middle] > value)加入一个等号；\n",
    "2.return array[right + 1] > value ? right + 1 : -1;改为return array[left-1] < value ? left - 1 : -1;。"
   ]
  },
  {
   "cell_type": "markdown",
   "metadata": {},
   "source": [
    "二分算法所操作的区间，是左闭右开，还是左闭右闭，需要在循环体跳出判断中，以及每次修改left,，right区间值这两个地方保持一致，否则就可能出错。"
   ]
  },
  {
   "cell_type": "code",
   "execution_count": null,
   "metadata": {},
   "outputs": [],
   "source": []
  },
  {
   "cell_type": "code",
   "execution_count": null,
   "metadata": {},
   "outputs": [],
   "source": []
  }
 ],
 "metadata": {
  "kernelspec": {
   "display_name": "C++11",
   "language": "C++11",
   "name": "xeus-cling-cpp11"
  },
  "language_info": {
   "codemirror_mode": "text/x-c++src",
   "file_extension": ".cpp",
   "mimetype": "text/x-c++src",
   "name": "c++",
   "version": "-std=c++11"
  }
 },
 "nbformat": 4,
 "nbformat_minor": 2
}
