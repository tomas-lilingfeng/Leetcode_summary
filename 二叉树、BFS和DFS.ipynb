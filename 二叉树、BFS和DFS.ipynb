{
 "cells": [
  {
   "cell_type": "markdown",
   "metadata": {},
   "source": [
    "## 总结：\n",
    "广度优先搜索算法（Breadth-First-Search，缩写为 BFS），是一种利用队列实现的搜索算法。简单来说，其搜索过程和 “湖面丢进一块石头激起层层涟漪” 类似。\n",
    "\n",
    "深度优先搜索算法（Depth-First-Search，缩写为 DFS），是一种利用递归实现的搜索算法。简单来说，其搜索过程和 “不撞南墙不回头” 类似。\n",
    "\n",
    "BFS 的重点在于队列，而 DFS 的重点在于递归。\n",
    "\n",
    "BFS 常用于找单一的最短路线，它的特点是 \"搜到就是最优解\"，而 DFS 用于找所有解的问题，它的空间效率高，而且找到的不一定是最优解，必须记录并完成整个搜索，故一般情况下，深搜需要非常高效的剪枝。\n",
    "\n",
    "## [理解动态规划、BFS和DFS](https://www.jianshu.com/p/a46ee4ed2a8f)\n",
    "\n",
    "### 动态规划：把已经知道的最好的路径存起来，下次遇到可以直接用。\n",
    "### BFS:\n",
    "所以，BFS也就是开始说的两步：\n",
    "\n",
    "1、构建图：用相邻表构建，用到了字典的知识\n",
    "2、BFS搜索，主要是理解两点：一、搜索思想，搜索完第k层以后，才会搜索第k+1层。二、追踪节点，就是上面的发现节点以后的四小步：若是白节点b，变灰-->当前节点a设置为节点b的父节点-->该节点距离设置为sa+1-->把b添加到队尾。\n",
    "\n",
    "理顺了，BFS也就理解了。\n",
    "另外，BFS还能够让我们从树的任一节点出发，沿着父节点返回到根节点，从而得到从这个节点的词到根节点的词的最短词梯。\n",
    "\n",
    "\n",
    "### DFS: \n",
    "也是说的两步走：\n",
    "\n",
    "1、建立图\n",
    "2、用栈的思想，探索一个节点a，就标记为灰色然后入栈，继续探索下面的节点b，b的深度为sa+1，b入栈，标记为灰色。若是探索完b返回false，那么就将b弹出，b变回白色。再探索a的另一个相邻点b1。\n",
    "3、直到探索的点的深度达到要求。"
   ]
  },
  {
   "cell_type": "markdown",
   "metadata": {},
   "source": [
    "## 572. 另一个树的子树"
   ]
  },
  {
   "cell_type": "markdown",
   "metadata": {},
   "source": [
    "### 给定两个非空二叉树 s 和 t，检验 s 中是否包含和 t 具有相同结构和节点值的子树。s 的一个子树包括 s 的一个节点和这个节点的所有子孙。s 也可以看做它自身的一棵子树。\n"
   ]
  },
  {
   "cell_type": "markdown",
   "metadata": {},
   "source": [
    "#### Same Tree：\n",
    "这道题让我们求一个数是否是另一个树的子树，从题目中的第二个例子中可以看出，子树必须是从叶结点开始的，中间某个部分的不能算是子树，那么我们转换一下思路，是不是从s的某个结点开始，跟t的所有结构都一样，那么问题就转换成了判断两棵树是否相同，也就是Same Tree的问题了，这点想通了其实代码就很好写了，用递归来写十分的简洁，我们先从s的根结点开始，跟t比较，如果两棵树完全相同，那么返回true，否则就分别对s的左子结点和右子结点调用递归再次来判断是否相同，只要有一个返回true了，就表示可以找得到。\n",
    "\n"
   ]
  },
  {
   "cell_type": "code",
   "execution_count": null,
   "metadata": {},
   "outputs": [],
   "source": [
    "/**\n",
    " * Definition for a binary tree node.\n",
    " * struct TreeNode {\n",
    " *     int val;\n",
    " *     TreeNode *left;\n",
    " *     TreeNode *right;\n",
    " *     TreeNode(int x) : val(x), left(NULL), right(NULL) {}\n",
    " * };\n",
    " */\n",
    "class Solution {\n",
    "public:\n",
    "    bool isSubtree(TreeNode* s, TreeNode* t) {\n",
    "        //时间复杂度O(n^2)，空间复杂度O(n)\n",
    "        if(!s)\n",
    "            return false;\n",
    "        if(isSameTree(s,t))\n",
    "            return true;       \n",
    "        return isSubtree(s->left,t)||isSubtree(s->right,t);\n",
    "    }\n",
    "    bool isSameTree(TreeNode* s,TreeNode* t){\n",
    "        if(!s&&!t)\n",
    "            return true;\n",
    "        if(!s||!t)\n",
    "            return false;\n",
    "        if(s->val!=t->val)\n",
    "            return false;\n",
    "        \n",
    "        return isSameTree(s->left,t->left)&&isSameTree(s->right,t->right);\n",
    "    }\n",
    "    \n",
    "};"
   ]
  },
  {
   "cell_type": "markdown",
   "metadata": {},
   "source": [
    "#### 序列化判断是否是子串：\n",
    "思路是对s和t两棵树分别进行序列化，各生成一个字符串，如果t的字符串是s的子串的话，就说明t是s的子树，但是需要注意的是，为了避免出现[12], [2], 这种情况，虽然2也是12的子串，但是[2]却不是[12]的子树，所以我们再序列化的时候要特殊处理一下，就是在每个结点值前面都加上一个字符，比如','，来分隔开，那么[12]序列化后就是\",12,#\"，而[2]序列化之后就是\",2,#\"，这样就可以完美的解决之前的问题了，参见代码如下："
   ]
  },
  {
   "cell_type": "code",
   "execution_count": null,
   "metadata": {},
   "outputs": [],
   "source": [
    "class Solution {\n",
    "public:\n",
    "    bool isSubtree(TreeNode* s, TreeNode* t) {\n",
    "        ostringstream os1, os2;\n",
    "        serialize(s, os1);\n",
    "        serialize(t, os2);\n",
    "        return os1.str().find(os2.str()) != string::npos;\n",
    "    }\n",
    "    void serialize(TreeNode* node, ostringstream& os) {\n",
    "        if (!node) os << \",#\";\n",
    "        else {\n",
    "            os << \",\" << node->val;\n",
    "            serialize(node->left, os);\n",
    "            serialize(node->right, os);\n",
    "        }\n",
    "    }\n",
    "};\n"
   ]
  },
  {
   "cell_type": "markdown",
   "metadata": {},
   "source": [
    "## 二叉树的序列化和去序列化\n",
    "序列化就是将一个数据结构或物体转化为一个位序列，可以存进一个文件或者内存缓冲器中，然后通过网络连接在相同的或者另一个电脑环境中被还原，还原的过程叫做去序列化。现在让我们来序列化和去序列化一个二叉树，并给了我们例子。这题有两种解法，分别为先序遍历的递归解法和层序遍历的非递归解法。先来看先序遍历的递归解法，非常的简单易懂，我们需要接入输入和输出字符串流istringstream和ostringstream，对于序列化，我们从根节点开始，如果节点存在，则将值存入输出字符串流，然后分别对其左右子节点递归调用序列化函数即可。对于去序列化，我们先读入第一个字符，以此生成一个根节点，然后再对根节点的左右子节点递归调用去序列化函数即可，参见代码如下："
   ]
  },
  {
   "cell_type": "code",
   "execution_count": null,
   "metadata": {},
   "outputs": [],
   "source": [
    "class Codec {\n",
    "public:\n",
    "    // Encodes a tree to a single string.\n",
    "    string serialize(TreeNode* root) {\n",
    "        ostringstream out;\n",
    "        serialize(root, out);\n",
    "        return out.str();\n",
    "    }\n",
    "    // Decodes your encoded data to tree.\n",
    "    TreeNode* deserialize(string data) {\n",
    "        istringstream in(data);\n",
    "        return deserialize(in);\n",
    "    }\n",
    "private:\n",
    "    void serialize(TreeNode *root, ostringstream &out) {\n",
    "        if (root) {\n",
    "            out << root->val << ' ';\n",
    "            serialize(root->left, out);\n",
    "            serialize(root->right, out);\n",
    "        } else {\n",
    "            out << \"# \";\n",
    "        }\n",
    "    }\n",
    "    TreeNode* deserialize(istringstream &in) {\n",
    "        string val;\n",
    "        in >> val;\n",
    "        if (val == \"#\") return nullptr;\n",
    "        TreeNode *root = new TreeNode(stoi(val));\n",
    "        root->left = deserialize(in);\n",
    "        root->right = deserialize(in);\n",
    "        return root;\n",
    "    }\n",
    "};"
   ]
  },
  {
   "cell_type": "markdown",
   "metadata": {},
   "source": [
    "## 78. 子集"
   ]
  },
  {
   "cell_type": "markdown",
   "metadata": {},
   "source": [
    "### 给定一组不含重复元素的整数数组 nums，返回该数组所有可能的子集（幂集）。\n",
    "\n",
    "### 说明：解集不能包含重复的子集。"
   ]
  },
  {
   "cell_type": "markdown",
   "metadata": {},
   "source": [
    "#### 输入: nums = [1,2,3]\n",
    "#### 输出:\n",
    "[\n",
    "  [3],\n",
    "  [1],\n",
    "  [2],\n",
    "  [1,2,3],\n",
    "  [1,3],\n",
    "  [2,3],\n",
    "  [1,2],\n",
    "  []\n",
    "]\n"
   ]
  },
  {
   "cell_type": "markdown",
   "metadata": {},
   "source": [
    "### 下面来看递归的解法，相当于一种深度优先搜索，参见网友 [JustDoIt的博客](https://www.cnblogs.com/TenosDoIt/p/3451902.html)，由于原集合每一个数字只有两种状态，要么存在，要么不存在，那么在构造子集时就有选择和不选择两种情况，所以可以构造一棵二叉树，左子树表示选择该层处理的节点，右子树表示不选择，最终的叶节点就是所有子集合，树的结构如下：\n",
    "\n"
   ]
  },
  {
   "cell_type": "code",
   "execution_count": null,
   "metadata": {},
   "outputs": [],
   "source": [
    "class Solution {\n",
    "public:\n",
    "    vector<vector<int>> subsets(vector<int>& nums) {\n",
    "        //时间复杂度O(2^n)，空间复杂度O(2^n)\n",
    "        vector<vector<int>> res;\n",
    "        vector<int> tmp;\n",
    "        sort(nums.begin(),nums.end());\n",
    "        getSubsets(nums,0,tmp,res);\n",
    "        return res;\n",
    "    }\n",
    "//     void getSubsets(vector<int> &nums,int pos,vector<int>& tmp,vector<vector<int>>& res){\n",
    "//         res.push_back(tmp);  //不加nums[i]\n",
    "//         for(int i=pos;i<nums.size();++i){\n",
    "//             tmp.push_back(nums[i]);    //加nums[i]\n",
    "//             getSubsets(nums,i+1,tmp,res);\n",
    "//             tmp.pop_back();\n",
    "//         }\n",
    "//     }\n",
    "     void getSubsets(vector<int> &nums,int pos,vector<int>& tmp,vector<vector<int>>& res){\n",
    "        if(pos==nums.size()){\n",
    "            res.push_back(tmp);\n",
    "            return;\n",
    "        }\n",
    "        tmp.push_back(nums[i]);    //加nums[i]\n",
    "        getSubsets(nums,i+1,tmp,res);\n",
    "        tmp.pop_back();\n",
    "        getSubsets(nums,i+1,tmp,res);\n",
    "    }\n",
    "    \n",
    "};"
   ]
  },
  {
   "cell_type": "markdown",
   "metadata": {},
   "source": [
    "### 非递归：\n",
    " 我们可以一位一位的往上叠加，比如对于题目中给的例子 [1,2,3] 来说，最开始是空集，那么我们现在要处理1，就在空集上加1，为 [1]，现在我们有两个自己 [] 和 [1]，下面我们来处理2，我们在之前的子集基础上，每个都加个2，可以分别得到 [2]，[1, 2]，那么现在所有的子集合为 [], [1], [2], [1, 2]，同理处理3的情况可得 [3], [1, 3], [2, 3], [1, 2, 3], 再加上之前的子集就是所有的子集合了，代码如下："
   ]
  },
  {
   "cell_type": "code",
   "execution_count": null,
   "metadata": {},
   "outputs": [],
   "source": [
    "class Solution {\n",
    "public:\n",
    "    vector<vector<int> > subsets(vector<int> &S) {\n",
    "        vector<vector<int> > res(1);\n",
    "        sort(S.begin(), S.end());\n",
    "        for (int i = 0; i < S.size(); ++i) {\n",
    "            int size = res.size();\n",
    "            for (int j = 0; j < size; ++j) {\n",
    "                res.push_back(res[j]);\n",
    "                res.back().push_back(S[i]);\n",
    "            }\n",
    "        }\n",
    "        return res;\n",
    "    }\n",
    "};"
   ]
  },
  {
   "cell_type": "markdown",
   "metadata": {},
   "source": [
    "## 51. N皇后"
   ]
  },
  {
   "cell_type": "markdown",
   "metadata": {},
   "source": [
    "### n 皇后问题研究的是如何将 n 个皇后放置在 n×n 的棋盘上，并且使皇后彼此之间不能相互攻击。\n",
    "给定一个整数 n，返回所有不同的 n 皇后问题的解决方案。\n",
    "\n",
    "每一种解法包含一个明确的 n 皇后问题的棋子放置方案，该方案中 'Q' 和 '.' 分别代表了皇后和空位。\n",
    "\n",
    "输入: 4\n",
    "输出: [\n",
    " [\".Q..\",  \n",
    "  \"...Q\",\n",
    "  \"Q...\",\n",
    "  \"..Q.\"],// 解法 1\n",
    "\n",
    " [\"..Q.\",  \n",
    "  \"Q...\",\n",
    "  \"...Q\",\n",
    "  \".Q..\"]// 解法 2\n",
    "]\n",
    "\n",
    "\n"
   ]
  },
  {
   "cell_type": "code",
   "execution_count": null,
   "metadata": {},
   "outputs": [],
   "source": [
    "class Solution {\n",
    "public:\n",
    "    vector<vector<string>> solveNQueens(int n) {\n",
    "        //时间复杂度O(n^3)，空间复杂度O(n^4)\n",
    "        vector<vector<string>> res;\n",
    "        vector<string> queens(n,string(n,'.'));\n",
    "        insertqueens(0,queens,res);\n",
    "        return res;\n",
    "    }\n",
    "    \n",
    "    void insertqueens(int row,vector<string>& queens,vector<vector<string>> &res){\n",
    "        int n=queens.size();\n",
    "        if(row==n){\n",
    "            res.push_back(queens);   //结果加入遍历完所有位置的queens\n",
    "            return;\n",
    "        }\n",
    "        for(int i=0;i<n;++i){  //遍历queens[row][:]\n",
    "            if(isthere(queens,row,i)){  //如果queens[row][i]满足规则，则做好标记并进入下一行遍历\n",
    "                queens[row][i]='Q';            \n",
    "                insertqueens(row+1,queens,res);  \n",
    "                queens[row][i]='.';  //消除当前标记，以便对queens[row][i+1]作判断\n",
    "            }\n",
    "        }\n",
    "    }\n",
    "    \n",
    "    bool isthere(vector<string>& queens,int row,int col){  //判断queens[row][col]是否满足规则\n",
    "        for(int i=0;i<row;++i){  //竖\n",
    "            if(queens[i][col]=='Q')\n",
    "                return false;\n",
    "        }\n",
    "        // for(int j=0;j<col;j++){ //横  因为消除了标记，所以不用判断必为‘.’\n",
    "        //     if(queens[row][j]=='Q')\n",
    "        //         return false;\n",
    "        // }\n",
    "        for(int i=row-1,j=col-1;i>=0&&j>=0;--i,--j){ //左上\n",
    "            if(queens[i][j]=='Q')\n",
    "                return false;\n",
    "        }\n",
    "        for(int i=row-1,j=col+1;i>=0&&j<queens.size();--i,++j){ //右上\n",
    "            if(queens[i][j]=='Q')\n",
    "                return false;\n",
    "        }\n",
    "        return true;\n",
    "        \n",
    "    }\n",
    "};"
   ]
  }
 ],
 "metadata": {
  "kernelspec": {
   "display_name": "C++11",
   "language": "C++11",
   "name": "xeus-cling-cpp11"
  },
  "language_info": {
   "codemirror_mode": "text/x-c++src",
   "file_extension": ".cpp",
   "mimetype": "text/x-c++src",
   "name": "c++",
   "version": "-std=c++11"
  }
 },
 "nbformat": 4,
 "nbformat_minor": 2
}
