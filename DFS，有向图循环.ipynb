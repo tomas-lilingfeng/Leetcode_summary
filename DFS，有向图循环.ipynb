{
 "cells": [
  {
   "cell_type": "markdown",
   "metadata": {},
   "source": [
    "# 总结：\n",
    "#### 主要考察了DFS，\n",
    "#### 有向图是否有循环：定义二维数组 graph 来表示这个有向图，一维数组 in 来表示每个顶点的入度。我们开始先根据输入来建立这个有向图，并将入度数组也初始化好。然后我们定义一个 queue 变量，将所有入度为0的点放入队列中，然后开始遍历队列，从 graph 里遍历其连接的点，每到达一个新节点，将其入度减一，如果此时该点入度为0，则放入队列末尾。直到遍历完队列中所有的值，若此时还有节点的入度不为0，则说明环存在"
   ]
  },
  {
   "cell_type": "markdown",
   "metadata": {},
   "source": [
    "## 113. 路径总和 II"
   ]
  },
  {
   "cell_type": "markdown",
   "metadata": {},
   "source": [
    "####  给定一个二叉树和一个目标和，找到所有从根节点到叶子节点路径总和等于给定目标和的路径。\n",
    "\n",
    "说明: 叶子节点是指没有子节点的节点。\n",
    "\n",
    "示例:\n",
    "给定如下二叉树，以及目标和 sum = 22\n",
    "\n",
    "              5\n",
    "             / \\\n",
    "            4   8\n",
    "           /   / \\\n",
    "          11  13  4\n",
    "         /  \\    / \\\n",
    "        7    2  5   1\n",
    "\n",
    "\n",
    "返回:\n",
    "\n",
    "[\n",
    "   [5,4,11,2],\n",
    "   [5,8,4,5]\n",
    "]"
   ]
  },
  {
   "cell_type": "markdown",
   "metadata": {},
   "source": [
    "需要用深度优先搜索DFS，只不过数据结构相对复杂一点，需要用到二维的vector，而且每当DFS搜索到新节点时，都要保存该节点。而且每当找出一条路径之后，都将这个保存为一维vector的路径保存到最终结果二位vector中。并且，每当DFS搜索到子节点，发现不是路径和时，返回上一个结点时，需要把该节点从一维vector中移除。代码如下："
   ]
  },
  {
   "cell_type": "code",
   "execution_count": null,
   "metadata": {},
   "outputs": [],
   "source": [
    "/**\n",
    " * Definition for a binary tree node.\n",
    " * struct TreeNode {\n",
    " *     int val;\n",
    " *     TreeNode *left;\n",
    " *     TreeNode *right;\n",
    " *     TreeNode(int x) : val(x), left(NULL), right(NULL) {}\n",
    " * };\n",
    " */\n",
    "class Solution {\n",
    "public:\n",
    "    vector<vector<int>> pathSum(TreeNode* root, int sum) {\n",
    "        //时间复杂度O(n)，空间复杂度O(n)\n",
    "        vector<vector<int>> res;\n",
    "        vector<int> tmp;\n",
    "        findpath(root,sum,tmp,res);\n",
    "        \n",
    "        return res;\n",
    "        \n",
    "    }\n",
    "    void findpath(TreeNode* node,int sum,vector<int>& tmp,vector<vector<int>>& res){\n",
    "        if(!node)\n",
    "            return ;\n",
    "        tmp.push_back(node->val);//每当DFS搜索到新节点时，都要保存该节点。\n",
    "        if(sum==node->val && !node->left && !node->right){//判断该结点是否为叶子节点且路径和是否为sum\n",
    "            res.push_back(tmp);   \n",
    "        }\n",
    "        findpath(node->left,sum-node->val,tmp,res);\n",
    "        findpath(node->right,sum-node->val,tmp,res);\n",
    "        tmp.pop_back();   //每当DFS搜索到子节点，发现不是路径和时，返回上一个结点时，需要把该节点从一维vector中移除。\n",
    "    }\n",
    "    \n",
    "};"
   ]
  },
  {
   "cell_type": "code",
   "execution_count": null,
   "metadata": {},
   "outputs": [],
   "source": [
    "class Solution {\n",
    "public:\n",
    "    vector<vector<int> > pathSum(TreeNode *root, int sum) {\n",
    "        vector<vector<int>> res;\n",
    "        vector<TreeNode*> s;\n",
    "        TreeNode *cur = root, *pre = NULL;\n",
    "        int val = 0;\n",
    "        while (cur || !s.empty()) {\n",
    "            while (cur) {\n",
    "                s.push_back(cur);\n",
    "                val += cur->val;\n",
    "                cur = cur->left;\n",
    "            }\n",
    "            cur = s.back(); \n",
    "            if (!cur->left && !cur->right && val == sum) {\n",
    "                vector<int> v;\n",
    "                for (auto it : s) {\n",
    "                    v.push_back(it->val);\n",
    "                }\n",
    "                res.push_back(v);\n",
    "            }\n",
    "            if (cur->right && cur->right != pre) cur = cur->right;\n",
    "            else {\n",
    "                pre = cur;\n",
    "                val -= cur->val;\n",
    "                s.pop_back();\n",
    "                cur = NULL;\n",
    "            }\n",
    "        }\n",
    "        return res;\n",
    "    }\n",
    "};\n"
   ]
  },
  {
   "cell_type": "markdown",
   "metadata": {},
   "source": [
    "## 114. 二叉树展开为链表"
   ]
  },
  {
   "cell_type": "markdown",
   "metadata": {},
   "source": [
    "## 给定一个二叉树，原地将它展开为链表。\n",
    "\n",
    "例如，给定二叉树\n",
    "    1\n",
    "   / \\\n",
    "  2   5\n",
    " / \\   \\\n",
    "3   4   6\n",
    "\n",
    "1\n",
    " \\\n",
    "  2\n",
    "   \\\n",
    "    3\n",
    "     \\\n",
    "      4\n",
    "       \\\n",
    "        5\n",
    "         \\\n",
    "          6"
   ]
  },
  {
   "cell_type": "markdown",
   "metadata": {},
   "source": [
    " 这个方法是从根节点开始出发，先检测其左子结点是否存在，如存在则将根节点和其右子节点断开，将左子结点及其后面所有结构一起连到原右子节点的位置，把原右子节点连到元左子结点最后面的右子节点之后。代码如下："
   ]
  },
  {
   "cell_type": "code",
   "execution_count": null,
   "metadata": {},
   "outputs": [],
   "source": [
    "/**\n",
    " * Definition for a binary tree node.\n",
    " * struct TreeNode {\n",
    " *     int val;\n",
    " *     TreeNode *left;\n",
    " *     TreeNode *right;\n",
    " *     TreeNode(int x) : val(x), left(NULL), right(NULL) {}\n",
    " * };\n",
    " */\n",
    "class Solution {\n",
    "public:\n",
    "    void flatten(TreeNode* root) {\n",
    "        //时间复杂度O(n)，空间复杂度O(1)\n",
    "        TreeNode *cur=root;\n",
    "        while(cur){\n",
    "            if(cur->left){\n",
    "                TreeNode *p=cur->left;\n",
    "                while(p->right)\n",
    "                    p=p->right;\n",
    "                p->right=cur->right;\n",
    "                cur->right=cur->left;\n",
    "                cur->left=NULL;\n",
    "                \n",
    "            }\n",
    "            cur=cur->right;\n",
    "        }\n",
    "        \n",
    "        \n",
    "    }\n",
    "};"
   ]
  },
  {
   "cell_type": "markdown",
   "metadata": {},
   "source": [
    "## 207. 课程表"
   ]
  },
  {
   "cell_type": "code",
   "execution_count": null,
   "metadata": {},
   "outputs": [],
   "source": [
    "现在你总共有 n 门课需要选，记为 0 到 n-1。\n",
    "\n",
    "在选修某些课程之前需要一些先修课程。 例如，想要学习课程 0 ，你需要先完成课程 1 ，我们用一个匹配来表示他们: [0,1]\n",
    "\n",
    "给定课程总量以及它们的先决条件，判断是否可能完成所有课程的学习？\n",
    "\n",
    "示例 1:\n",
    "\n",
    "输入: 2, [[1,0]] \n",
    "输出: true\n",
    "解释: 总共有 2 门课程。学习课程 1 之前，你需要完成课程 0。所以这是可能的。\n"
   ]
  },
  {
   "cell_type": "markdown",
   "metadata": {},
   "source": [
    " 我们定义二维数组 graph 来表示这个有向图，一维数组 in 来表示每个顶点的入度。我们开始先根据输入来建立这个有向图，并将入度数组也初始化好。然后我们定义一个 queue 变量，将所有入度为0的点放入队列中，然后开始遍历队列，从 graph 里遍历其连接的点，每到达一个新节点，将其入度减一，如果此时该点入度为0，则放入队列末尾。直到遍历完队列中所有的值，若此时还有节点的入度不为0，则说明环存在，返回 false，反之则返回 true。"
   ]
  },
  {
   "cell_type": "code",
   "execution_count": null,
   "metadata": {},
   "outputs": [],
   "source": [
    "class Solution {\n",
    "public:\n",
    "    bool canFinish(int numCourses, vector<vector<int>>& prerequisites) {\n",
    "        //时间复杂度O(n)，空间复杂度O(n^2)\n",
    "        vector<vector<int>> graph(numCourses,vector<int>());\n",
    "        vector<int> into(numCourses);\n",
    "        for(auto a : prerequisites){\n",
    "            graph[a[1]].push_back(a[0]); //构建二维数组来表示有向图\n",
    "            ++into[a[0]];  //into 表示入度\n",
    "        }\n",
    "        queue<int> q;\n",
    "        for(int i=0;i<numCourses;++i){\n",
    "            if(into[i]==0)\n",
    "                q.push(i);  //将入度为0的顶点放入队列\n",
    "        }\n",
    "        while(!q.empty()){   //遍历队列，将其连接点的入度减一，如此时该点入度为0加入队列\n",
    "            int t=q.front();    \n",
    "            q.pop();\n",
    "            for(auto a:graph[t]){\n",
    "                --into[a];\n",
    "                if(into[a]==0)\n",
    "                    q.push(a);\n",
    "            }\n",
    "        }\n",
    "        for(int i=0;i<numCourses;++i){\n",
    "            if(into[i]!=0)    //有顶点入度不为0，则表示有向图中有循环\n",
    "                return false;\n",
    "        }\n",
    "        \n",
    "        return true;\n",
    "        \n",
    "    }\n",
    "};"
   ]
  },
  {
   "cell_type": "code",
   "execution_count": null,
   "metadata": {},
   "outputs": [],
   "source": []
  },
  {
   "cell_type": "code",
   "execution_count": null,
   "metadata": {},
   "outputs": [],
   "source": []
  },
  {
   "cell_type": "code",
   "execution_count": null,
   "metadata": {},
   "outputs": [],
   "source": []
  },
  {
   "cell_type": "code",
   "execution_count": null,
   "metadata": {},
   "outputs": [],
   "source": []
  },
  {
   "cell_type": "code",
   "execution_count": null,
   "metadata": {},
   "outputs": [],
   "source": []
  },
  {
   "cell_type": "code",
   "execution_count": null,
   "metadata": {},
   "outputs": [],
   "source": []
  }
 ],
 "metadata": {
  "kernelspec": {
   "display_name": "C++11",
   "language": "C++11",
   "name": "xeus-cling-cpp11"
  },
  "language_info": {
   "codemirror_mode": "text/x-c++src",
   "file_extension": ".cpp",
   "mimetype": "text/x-c++src",
   "name": "c++",
   "version": "-std=c++11"
  }
 },
 "nbformat": 4,
 "nbformat_minor": 2
}
