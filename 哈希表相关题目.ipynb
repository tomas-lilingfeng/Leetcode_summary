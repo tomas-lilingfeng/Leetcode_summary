{
 "cells": [
  {
   "cell_type": "markdown",
   "metadata": {},
   "source": [
    "## 387. 字符串中的第一个唯一字符\n",
    "给定一个字符串，找到它的第一个不重复的字符，并返回它的索引。如果不存在，则返回 -1。\n",
    "\n",
    "案例:\n",
    "\n",
    "s = \"leetcode\"\n",
    "返回 0.\n",
    "\n",
    "s = \"loveleetcode\",\n",
    "返回 2.\n",
    "注意事项：您可以假定该字符串只包含小写字母。"
   ]
  },
  {
   "cell_type": "markdown",
   "metadata": {},
   "source": [
    "### 建立哈希表，对S字符串中的每个字符计数，找到第一个计数为1的字符"
   ]
  },
  {
   "cell_type": "code",
   "execution_count": null,
   "metadata": {},
   "outputs": [],
   "source": [
    "class Solution {\n",
    "public:\n",
    "    int firstUniqChar(string s) {\n",
    "        //时间复杂度O(n)，空间复杂度O(n)\n",
    "        unordered_map<char,int> m;\n",
    "        for(auto a :s)\n",
    "            ++m[a];\n",
    "        for(int i=0;i<s.size();i++){\n",
    "            if(m[s[i]]==1)\n",
    "                return i;\n",
    "        }\n",
    "        return -1;\n",
    "        \n",
    "    }\n",
    "};"
   ]
  },
  {
   "cell_type": "markdown",
   "metadata": {},
   "source": [
    "## 567. 字符串的排列\n",
    "\n",
    "给定两个字符串 s1 和 s2，写一个函数来判断 s2 是否包含 s1 的排列。\n",
    "\n",
    "换句话说，第一个字符串的排列之一是第二个字符串的子串。\n",
    "\n",
    "示例1:\n",
    "\n",
    "输入: s1 = \"ab\" s2 = \"eidbaooo\"\n",
    "输出: True\n",
    "解释: s2 包含 s1 的排列之一 (\"ba\").\n",
    " \n",
    "\n",
    "示例2:\n",
    "\n",
    "输入: s1= \"ab\" s2 = \"eidboaoo\"\n",
    "输出: False\n",
    " \n",
    "\n",
    "注意：\n",
    "\n",
    "输入的字符串只包含小写字母\n",
    "两个字符串的长度都在 [1, 10,000] 之间\n",
    "\n"
   ]
  },
  {
   "cell_type": "markdown",
   "metadata": {},
   "source": [
    "### 思路：建立哈希表，维护一个大小等于S1的滑动窗口，比较S1的哈希表和滑动窗口内的哈希表是否相等"
   ]
  },
  {
   "cell_type": "code",
   "execution_count": null,
   "metadata": {},
   "outputs": [],
   "source": [
    "class Solution {\n",
    "public:\n",
    "    bool checkInclusion(string s1, string s2) {\n",
    "        //时间复杂度O(n)，空间复杂度O(n)\n",
    "        vector<int> m1(128),m2(128);\n",
    "        int n1=s1.size(),n2=s2.size();\n",
    "        if(n2<n1)\n",
    "            return false;\n",
    "        for(int i=0; i<n1;i++){\n",
    "            ++m1[s1[i]];\n",
    "            ++m2[s2[i]];\n",
    "        }\n",
    "        if(m1==m2)\n",
    "            return true;\n",
    "        for(int i=n1;i<n2;i++){\n",
    "            ++m2[s2[i]];\n",
    "            --m2[s2[i-n1]];\n",
    "            if(m1==m2)\n",
    "                return true;\n",
    "        }\n",
    "        return false;\n",
    "        \n",
    "    }\n",
    "};"
   ]
  },
  {
   "cell_type": "markdown",
   "metadata": {},
   "source": [
    "## 76. 最小覆盖子串\n",
    "给你一个字符串 S、一个字符串 T，请在字符串 S 里面找出：包含 T 所有字母的最小子串。\n",
    "\n",
    "示例：\n",
    "\n",
    "输入: S = \"ADOBECODEBANC\", T = \"ABC\"\n",
    "输出: \"BANC\"\n",
    "说明：\n",
    "\n",
    "- 如果 S 中不存这样的子串，则返回空字符串 \"\"。\n",
    "- 如果 S 中存在这样的子串，我们保证它是唯一的答案。\n",
    "\n"
   ]
  },
  {
   "cell_type": "markdown",
   "metadata": {},
   "source": [
    "解题思路：\n",
    "- 我们最开始先扫描一遍T，把对应的字符及其出现的次数存到 HashMap 中。\n",
    "\n",
    "- 然后开始遍历S，就把遍历到的字母对应的 HashMap 中的 value 减一，如果减1后仍大于等于0，cnt 自增1。\n",
    "\n",
    "- 如果 cnt 等于T串长度时，开始循环，纪录一个字串并更新最小字串值。然后将子窗口的左边界向右移，如果某个移除掉的字母是T串中不可缺少的字母，那么 cnt 自减1，表示此时T串并没有完全匹配。"
   ]
  },
  {
   "cell_type": "code",
   "execution_count": null,
   "metadata": {},
   "outputs": [],
   "source": [
    "class Solution {\n",
    "public:\n",
    "    string minWindow(string s, string t) {\n",
    "        //时间复杂度O(n^2)，空间复杂度O(n)\n",
    "        string res=\"\";\n",
    "        unordered_map<char,int> m;\n",
    "        int left=0,cnt=0,minlen=INT_MAX;\n",
    "        for(auto a:t)\n",
    "            ++m[a];\n",
    "        for(int i=0;i<s.size();++i){\n",
    "            if(--m[s[i]]>=0)\n",
    "                cnt++;\n",
    "            while(cnt==t.size()){\n",
    "                if(minlen>i-left+1){  //维护一个最小长度minlen\n",
    "                    minlen=i-left+1;\n",
    "                    res=s.substr(left,minlen);\n",
    "                }\n",
    "                if(++m[s[left]]>0)\n",
    "                    --cnt;\n",
    "                ++left;\n",
    "                \n",
    "            }\n",
    "        }\n",
    "        return res;\n",
    "        \n",
    "        \n",
    "    }\n",
    "};"
   ]
  },
  {
   "cell_type": "code",
   "execution_count": null,
   "metadata": {},
   "outputs": [],
   "source": []
  },
  {
   "cell_type": "code",
   "execution_count": null,
   "metadata": {},
   "outputs": [],
   "source": []
  },
  {
   "cell_type": "code",
   "execution_count": null,
   "metadata": {},
   "outputs": [],
   "source": []
  },
  {
   "cell_type": "code",
   "execution_count": null,
   "metadata": {},
   "outputs": [],
   "source": []
  },
  {
   "cell_type": "code",
   "execution_count": null,
   "metadata": {},
   "outputs": [],
   "source": []
  },
  {
   "cell_type": "code",
   "execution_count": null,
   "metadata": {},
   "outputs": [],
   "source": []
  },
  {
   "cell_type": "code",
   "execution_count": null,
   "metadata": {},
   "outputs": [],
   "source": []
  },
  {
   "cell_type": "code",
   "execution_count": null,
   "metadata": {},
   "outputs": [],
   "source": []
  },
  {
   "cell_type": "code",
   "execution_count": null,
   "metadata": {},
   "outputs": [],
   "source": []
  },
  {
   "cell_type": "code",
   "execution_count": null,
   "metadata": {},
   "outputs": [],
   "source": []
  },
  {
   "cell_type": "code",
   "execution_count": null,
   "metadata": {},
   "outputs": [],
   "source": []
  }
 ],
 "metadata": {
  "kernelspec": {
   "display_name": "C++11",
   "language": "C++11",
   "name": "xeus-cling-cpp11"
  },
  "language_info": {
   "codemirror_mode": "text/x-c++src",
   "file_extension": ".cpp",
   "mimetype": "text/x-c++src",
   "name": "c++",
   "version": "-std=c++11"
  }
 },
 "nbformat": 4,
 "nbformat_minor": 2
}
