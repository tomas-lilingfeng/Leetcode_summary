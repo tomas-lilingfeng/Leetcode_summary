{
 "cells": [
  {
   "cell_type": "markdown",
   "metadata": {},
   "source": [
    "## 题目：56. 合并区间\n",
    "#### 给出一个区间的集合，请合并所有重叠的区间。"
   ]
  },
  {
   "cell_type": "markdown",
   "metadata": {},
   "source": [
    "##### 输入: [[1,3],[2,6],[8,10],[15,18]]\n",
    "##### 输出: [[1,6],[8,10],[15,18]]\n",
    "##### 解释: 区间 [1,3] 和 [2,6] 重叠, 将它们合并为 [1,6].\n"
   ]
  },
  {
   "cell_type": "markdown",
   "metadata": {},
   "source": [
    "#### 解题思路：这道和之前那道 Insert Interval 很类似，这次题目要求我们合并区间，之前那题明确了输入区间集是有序的，而这题没有，所以我们首先要做的就是给区间集排序，由于我们要排序的是个结构体，所以我们要定义自己的 comparator，才能用 sort 来排序，我们以 start 的值从小到大来排序，排完序我们就可以开始合并了，首先把第一个区间存入结果中，然后从第二个开始遍历区间集，如果结果中最后一个区间和遍历的当前区间无重叠，直接将当前区间存入结果中，如果有重叠，将结果中最后一个区间的 end 值更新为结果中最后一个区间的 end 和当前 end 值之中的较大值，然后继续遍历区间集，以此类推可以得到最终结果，代码如下：\n",
    "\n"
   ]
  },
  {
   "cell_type": "code",
   "execution_count": null,
   "metadata": {},
   "outputs": [],
   "source": [
    "class Solution {\n",
    "public:\n",
    "    vector<vector<int>> merge(vector<vector<int>>& intervals) {\n",
    "        if(intervals.empty())\n",
    "            return {};\n",
    "        sort(intervals.begin(),intervals.end());//以start的值从小到大来排序\n",
    "        vector<vector<int>> res{intervals[0]};   //将第一个区间存入结果中\n",
    "        for(int i=1;i<intervals.size();++i){   //从第二个区间开始遍历，合并区间\n",
    "            if(res.back()[1]<intervals[i][0]){   //比较结果中的最后一个区间与遍历的当前区间是否重合\n",
    "                res.push_back(intervals[i]);   //当res.back()[1]<intervals[i][0]时，不重合，将当前区间加入结果中。\n",
    "            }\n",
    "            else{\n",
    "                res.back()[1]=max(res.back()[1],intervals[i][1]);//有重合，更新结果中的最后一个区间\n",
    "            }\n",
    "            \n",
    "        }\n",
    "        return res;\n",
    "        \n",
    "    }\n",
    "};"
   ]
  },
  {
   "cell_type": "markdown",
   "metadata": {},
   "source": [
    "#### 总结：对于区间是否重合这个问题，需要考虑区间的start和end两个元素，先排序然后只需比较结果最后区间的end与当前区间start，是个不错的思路，尽量把问题简单化\n",
    "******"
   ]
  },
  {
   "cell_type": "markdown",
   "metadata": {},
   "source": [
    "## 题目：57. 插入区间\n",
    "\n",
    "#### 给出一个无重叠的 ，按照区间起始端点排序的区间列表。\n",
    "#### 在列表中插入一个新的区间，你需要确保列表中的区间仍然有序且不重叠（如果有必要的话，可以合并区间）。\n",
    "\n",
    "\n",
    "\n"
   ]
  },
  {
   "cell_type": "markdown",
   "metadata": {},
   "source": [
    "#### 输入: intervals = [[1,3],[6,9]], newInterval = [2,5]\n",
    "#### 输出: [[1,5],[6,9]]"
   ]
  },
  {
   "cell_type": "markdown",
   "metadata": {},
   "source": [
    " 解题思路：这道题让我们在一系列非重叠的区间中插入一个新的区间，可能还需要和原有的区间合并，我们可以对给定的区间集进行一个一个的遍历比较，那么会有两种情况，重叠或是不重叠，不重叠的情况最好，直接将新区间插入到对应的位置即可，重叠的情况比较复杂，有时候会有多个重叠，我们需要更新新区间的范围以便包含所有重叠，之后将新区间加入结果 res，最后将后面的区间再加入结果 res 即可。具体思路是，我们用一个变量 cur 来遍历区间，如果当前 cur 区间的结束位置小于要插入的区间的起始位置的话，说明没有重叠，则将 cur 区间加入结果 res 中，然后 cur 自增1。直到有 cur 越界或有重叠 while 循环退出，然后再用一个 while 循环处理所有重叠的区间，每次用取两个区间起始位置的较小值，和结束位置的较大值来更新要插入的区间，然后 cur 自增1。直到 cur 越界或者没有重叠时 while 循环退出。之后将更新好的新区间加入结果 res，然后将 cur 之后的区间再加入结果 res 中即可，参见代码如下："
   ]
  },
  {
   "cell_type": "code",
   "execution_count": null,
   "metadata": {},
   "outputs": [],
   "source": [
    "class Solution {\n",
    "public:\n",
    "    vector<vector<int>> insert(vector<vector<int>>& intervals, vector<int>& newInterval) {\n",
    "        vector<vector<int>> res;\n",
    "        int n=intervals.size(),cur=0;\n",
    "        while(cur<n&&intervals[cur][1]<newInterval[0]){  //先将区间.end小于new.start的加入结果中\n",
    "            res.push_back(intervals[cur++]);\n",
    "        }\n",
    "        //剩余的为区间.end>new.start,对于.start<=new.end的比较--即排除不再new重叠区间\n",
    "        while(cur<n&&intervals[cur][0]<=newInterval[1]){\n",
    "            newInterval[0]=min(newInterval[0],intervals[cur][0]);//区间融合，取start最小值\n",
    "            newInterval[1]=max(newInterval[1],intervals[cur][1]);//取end最大值\n",
    "            ++cur;\n",
    "        }\n",
    "        res.push_back(newInterval);\n",
    "        while(cur<n){\n",
    "            res.push_back(intervals[cur++]);\n",
    "        }\n",
    "        return res;\n",
    "            \n",
    "    }\n",
    "};"
   ]
  },
  {
   "cell_type": "markdown",
   "metadata": {},
   "source": [
    "#### 总结：尽量把问题作分割，这里将问题分为重叠区域和非重叠区域，各有各的处理方式\n",
    "*****\n"
   ]
  },
  {
   "cell_type": "markdown",
   "metadata": {},
   "source": [
    "## 题目：58. 最后一个单词的长度\n",
    "#### 给定一个仅包含大小写字母和空格 ' ' 的字符串，返回其最后一个单词的长度。\n",
    "\n",
    "#### 如果不存在最后一个单词，请返回 0 。\n",
    " \n",
    "#### 说明：一个单词是指由字母组成，但不包含任何空格的字符串。\n"
   ]
  },
  {
   "cell_type": "markdown",
   "metadata": {},
   "source": [
    "#### 输入: \"Hello World\"\n",
    "#### 输出: 5"
   ]
  },
  {
   "cell_type": "markdown",
   "metadata": {},
   "source": [
    "#### 由于我们只关于最后一个单词的长度，所以开头有多少个空格起始我们并不在意，我们从字符串末尾开始，先将末尾的空格都去掉，然后开始找非空格的字符的长度即可，参见代码如下："
   ]
  },
  {
   "cell_type": "code",
   "execution_count": null,
   "metadata": {},
   "outputs": [],
   "source": [
    "class Solution {\n",
    "public:\n",
    "    int lengthOfLastWord(string s) {\n",
    "        int right=s.size()-1,res=0;\n",
    "        while(right>=0&&s[right]==' '){ //忽略字符串尾部空格\n",
    "            --right;\n",
    "        }\n",
    "        while(right>=0&&s[right]!=' '){ //对尾部非空格字符计数\n",
    "            --right;\n",
    "            ++res;\n",
    "        }\n",
    "        return res;\n",
    "    }\n",
    "};"
   ]
  },
  {
   "cell_type": "markdown",
   "metadata": {},
   "source": [
    "#### 总结：对于字符串要时常想到指针\n",
    "*****"
   ]
  },
  {
   "cell_type": "markdown",
   "metadata": {},
   "source": [
    "## 题目：59. 螺旋矩阵 II\n",
    "#### 给定一个正整数 n，生成一个包含 1 到 n2 所有元素，且元素按顺时针顺序螺旋排列的正方形矩阵。\n",
    "\n",
    "#### 输入: 3\n",
    "#### 输出:$\\left[ \\begin{matrix} 1 & 2 & 3\\\\ 8 & 9 & 4 \\\\ 7 & 6 & 5 \\end{matrix} \\right]$\n"
   ]
  },
  {
   "cell_type": "markdown",
   "metadata": {},
   "source": [
    " 此题跟之前那道 Spiral Matrix 本质上没什么区别，就相当于个类似逆运算的过程，这道题是要按螺旋的顺序来填数，由于给定矩形是个正方形，我们计算环数时用$n / 2$来计算，若$n$为奇数时，此时最中间的那个点没有被算在环数里，所以最后需要单独赋值，还是下标转换问题是难点，参考之前 Spiral Matrix 的讲解来转换下标吧，代码如下："
   ]
  },
  {
   "cell_type": "code",
   "execution_count": null,
   "metadata": {},
   "outputs": [],
   "source": [
    "class Solution {\n",
    "public:\n",
    "    vector<vector<int>> generateMatrix(int n) {\n",
    "        vector<vector<int>> res(n,vector<int>(n,0));\n",
    "        int val=1,p=n;\n",
    "        for(int i=0;i<n/2;++i,p-=2){\n",
    "            for(int col=i;col<i+p;++col){\n",
    "                res[i][col]=val++;\n",
    "            }\n",
    "            for(int row=i+1;row<i+p;++row){\n",
    "                res[row][i+p-1]=val++;\n",
    "            }\n",
    "            for(int col=i+p-2;col>=i;--col){\n",
    "                res[i+p-1][col]=val++;\n",
    "            }\n",
    "            for(int row=i+p-2;row>i;--row){\n",
    "                res[row][i]=val++;\n",
    "            }\n",
    "        }\n",
    "        if(n%2)\n",
    "            res[n/2][n/2]=val;\n",
    "        return res;\n",
    "    }\n",
    "    \n",
    "};"
   ]
  },
  {
   "cell_type": "markdown",
   "metadata": {},
   "source": [
    "## 题目：54. 螺旋矩阵\n",
    "#### 给定一个包含 m x n 个元素的矩阵（m 行, n 列），请按照顺时针螺旋顺序，返回矩阵中的所有元素。\n",
    "\n"
   ]
  },
  {
   "cell_type": "markdown",
   "metadata": {},
   "source": [
    "#### 输入:$\\left[\\begin{matrix}1&2&3\\\\4&5&6\\\\7&8&9 \\end{matrix}\\right]$\n",
    "#### 输出: $[1,2,3,6,9,8,7,4,5]$"
   ]
  },
  {
   "cell_type": "markdown",
   "metadata": {},
   "source": [
    "这道题让我们搓一个螺旋丸，将一个矩阵按照螺旋顺序打印出来，我们只能一条边一条边的打印，首先我们要从给定的mxn的矩阵中算出按螺旋顺序有几个环，注意最终间的环可以是一个数字，也可以是一行或者一列。环数的计算公式是 min(m, n) / 2，知道了环数，我们可以对每个环的边按顺序打印，比如对于题目中给的那个例子，个边生成的顺序是(用颜色标记了数字) Red -> Green -> Blue -> Yellow -> Black \n",
    "\n",
    "\n",
    "<font color=#FF0000>1 </font> <font color=#FF0000>2</font>    <font color=#FF0000>3</font>   \n",
    "\n",
    "<font color=#FFFF00>4</font>　<font color=#>5</font>　<font color=#008000> 6 </font>\n",
    "\n",
    "<font color=#0000FF>7</font> 　<font color=#0000FF>8</font> 　<font color=#008000> 9 </font>\n",
    "\n",
    " \n",
    "\n",
    "我们定义p，q为当前环的高度和宽度，当p或者q为1时，表示最后一个环只有一行或者一列，可以跳出循环。此题的难点在于下标的转换，如何正确的转换下标是解此题的关键，我们可以对照着上面的3x3的例子来完成下标的填写，代码如下："
   ]
  },
  {
   "cell_type": "code",
   "execution_count": null,
   "metadata": {},
   "outputs": [],
   "source": [
    "class Solution {\n",
    "public:\n",
    "    vector<int> spiralOrder(vector<vector<int> > &matrix) {\n",
    "        if (matrix.empty() || matrix[0].empty()) return {};\n",
    "        int m = matrix.size(), n = matrix[0].size();\n",
    "        vector<int> res;\n",
    "        int c = m > n ? (n + 1) / 2 : (m + 1) / 2; //c表示遍历的环数，考虑奇数的情况\n",
    "        int p = m, q = n;  //遍历每一环的个数 \n",
    "        for (int i = 0; i < c; ++i, p -= 2, q -= 2) {\n",
    "            for (int col = i; col < i + q; ++col)    //Red  上行  [i , i+q) \n",
    "                res.push_back(matrix[i][col]);\n",
    "            for (int row = i + 1; row < i + p; ++row)  //Green  右列 [i+1 , i+p)\n",
    "                res.push_back(matrix[row][i + q - 1]);\n",
    "            if (p == 1 || q == 1) break;  //\n",
    "            for (int col = i + q - 2; col >= i; --col)//Blue 下行 [i , i+q-2]\n",
    "                res.push_back(matrix[i + p - 1][col]);\n",
    "            for (int row = i + p - 2; row > i; --row) //yellow 左列 (i , i+p-1]\n",
    "                res.push_back(matrix[row][i]);\n",
    "        }\n",
    "        return res;\n",
    "    }\n",
    "};"
   ]
  },
  {
   "cell_type": "markdown",
   "metadata": {},
   "source": [
    "#### 总结：这两道题都是和螺旋矩阵相关的，涉及到对二维数组下标的应用，\n",
    "#### 有多个参数，c、p=m、q=n  1:col->i-i+q  2:row:i+1 -> i+p 3: col:i+q-2->i  4:row: i+p-2 -> i"
   ]
  },
  {
   "cell_type": "code",
   "execution_count": null,
   "metadata": {},
   "outputs": [],
   "source": []
  },
  {
   "cell_type": "code",
   "execution_count": null,
   "metadata": {},
   "outputs": [],
   "source": []
  },
  {
   "cell_type": "code",
   "execution_count": null,
   "metadata": {},
   "outputs": [],
   "source": []
  },
  {
   "cell_type": "code",
   "execution_count": null,
   "metadata": {},
   "outputs": [],
   "source": []
  },
  {
   "cell_type": "code",
   "execution_count": null,
   "metadata": {},
   "outputs": [],
   "source": []
  }
 ],
 "metadata": {
  "kernelspec": {
   "display_name": "C++11 [conda env:root]",
   "language": "C++11",
   "name": "conda-root-xeus-cling-cpp11"
  },
  "language_info": {
   "codemirror_mode": "text/x-c++src",
   "file_extension": ".cpp",
   "mimetype": "text/x-c++src",
   "name": "c++",
   "version": "-std=c++11"
  }
 },
 "nbformat": 4,
 "nbformat_minor": 2
}
