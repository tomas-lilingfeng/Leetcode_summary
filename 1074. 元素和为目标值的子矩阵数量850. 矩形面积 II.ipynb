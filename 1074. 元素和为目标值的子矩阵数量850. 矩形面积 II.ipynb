{
 "cells": [
  {
   "cell_type": "code",
   "execution_count": null,
   "metadata": {},
   "outputs": [],
   "source": []
  },
  {
   "cell_type": "markdown",
   "metadata": {},
   "source": [
    "## 1074. 元素和为目标值的子矩阵数量\n",
    "给出矩阵 matrix 和目标值 target，返回元素总和等于目标值的非空子矩阵的数量。\n",
    "\n",
    "子矩阵 x1, y1, x2, y2 是满足 x1 <= x <= x2 且 y1 <= y <= y2 的所有单元 matrix[x][y] 的集合。\n",
    "\n",
    "如果 (x1, y1, x2, y2) 和 (x1', y1', x2', y2') 两个子矩阵中部分坐标不同（如：x1 != x1'），那么这两个子矩阵也不同。\n",
    "\n",
    " \n",
    "\n",
    "示例 1：\n",
    "\n",
    "输入：matrix = [[0,1,0],[1,1,1],[0,1,0]], target = 0\n",
    "输出：4\n",
    "解释：四个只含 0 的 1x1 子矩阵。\n",
    "示例 2：\n",
    "\n",
    "输入：matrix = [[1,-1],[-1,1]], target = 0\n",
    "输出：5\n",
    "解释：两个 1x2 子矩阵，加上两个 2x1 子矩阵，再加上一个 2x2 子矩阵。\n",
    "\n"
   ]
  },
  {
   "cell_type": "code",
   "execution_count": null,
   "metadata": {},
   "outputs": [],
   "source": [
    "class Solution {\n",
    "public:\n",
    "    int numSubmatrixSumTarget(vector<vector<int>>& matrix, int target) {\n",
    "             int n = matrix.size();\n",
    "        int m = matrix[0].size();\n",
    "        int ans = 0;\n",
    "        for(int i = 0; i < n; i++){    //矩阵求和（0，0）--（i,j）\n",
    "            for(int j = 0; j < m; j++){\n",
    "                if(i){\n",
    "                    matrix[i][j] += matrix[i - 1][j];\n",
    "                }\n",
    "                if(j){\n",
    "                    matrix[i][j] += matrix[i][j - 1];\n",
    "                }\n",
    "                if(i && j){\n",
    "                    matrix[i][j] -= matrix[i - 1][j - 1];//去重\n",
    "                }\n",
    "            }\n",
    "        }\n",
    "        for(int i = 0; i < n; i++){\n",
    "            for(int j = i; j < n; j++){\n",
    "                unordered_map<int, int> bag;\n",
    "                bag[0] = 1;\n",
    "                for(int k = 0; k < m; k++){\n",
    "                    int current = matrix[j][k] - (i == 0 ? 0 : matrix[i - 1][k]);\n",
    "                    unordered_map<int, int>::iterator it = bag.find(current-target);\n",
    "                    if(it != bag.end()){\n",
    "                        ans += it->second;\n",
    "                    }\n",
    "                    it = bag.find(current);\n",
    "                    if(it != bag.end()){\n",
    "                        it->second++;\n",
    "                    }\n",
    "                    else{\n",
    "                        bag.insert({current, 1});\n",
    "                    }\n",
    "                }\n",
    "            }\n",
    "        }\n",
    "        return ans;\n",
    "    }\n",
    "};"
   ]
  },
  {
   "cell_type": "markdown",
   "metadata": {},
   "source": [
    "## 850. 矩形面积 II\n",
    "\n",
    "我们给出了一个（轴对齐的）矩形列表 rectangles 。 对于 rectangle[i] = [x1, y1, x2, y2]，其中（x1，y1）是矩形 i 左下角的坐标，（x2，y2）是该矩形右上角的坐标。\n",
    "\n",
    "找出平面中所有矩形叠加覆盖后的总面积。 由于答案可能太大，请返回它对 10 ^ 9 + 7 取模的结果。\n",
    "\n",
    "示例 1：\n",
    "\n",
    "输入：[[0,0,2,2],[1,0,2,3],[1,0,3,1]]\n",
    "输出：6\n",
    "解释：如图所示。\n",
    "示例 2：\n",
    "\n",
    "输入：[[0,0,1000000000,1000000000]]\n",
    "输出：49\n",
    "解释：答案是 10^18 对 (10^9 + 7) 取模的结果， 即 (10^9)^2 → (-7)^2 = 49 。\n",
    " "
   ]
  },
  {
   "cell_type": "code",
   "execution_count": null,
   "metadata": {},
   "outputs": [],
   "source": [
    "class Solution {\n",
    "public:\n",
    "    int rectangleArea(vector<vector<int>>& rectangles) {\n",
    "    set<int> x_axis, y_axis;    \n",
    "    for(auto r : rectangles)    \n",
    "    {\n",
    "        x_axis.insert(r[0]);    x_axis.insert(r[2]);\n",
    "        y_axis.insert(r[1]);    y_axis.insert(r[3]);\n",
    "    }\n",
    "    vector<int> x(x_axis.begin(), x_axis.end()), y(y_axis.begin(), y_axis.end());\n",
    "    int x_len = x.size(), y_len = y.size();    \n",
    "    vector<vector<int> > m(x_len, vector<int>(y_len, 0));\n",
    "    int res = 0;\n",
    "    for(auto r : rectangles)\n",
    "        for(auto xite = find(x.begin(), x.end(), r[0]); *xite != r[2]; xite++)        \n",
    "            for(auto yite = find(y.begin(), y.end(), r[1]); *yite != r[3]; yite++)\n",
    "                if(m[xite - begin(x)][yite - begin(y)]++ == 0)  \n",
    "                    res = (res + (long long)(*(xite + 1) - *xite) * (*(yite + 1) - *yite)) % 1000000007;      \n",
    "    return res;\n",
    "    }\n",
    "};"
   ]
  },
  {
   "cell_type": "code",
   "execution_count": null,
   "metadata": {},
   "outputs": [],
   "source": []
  },
  {
   "cell_type": "code",
   "execution_count": null,
   "metadata": {},
   "outputs": [],
   "source": []
  },
  {
   "cell_type": "code",
   "execution_count": null,
   "metadata": {},
   "outputs": [],
   "source": []
  },
  {
   "cell_type": "code",
   "execution_count": null,
   "metadata": {},
   "outputs": [],
   "source": []
  }
 ],
 "metadata": {
  "kernelspec": {
   "display_name": "C++11",
   "language": "C++11",
   "name": "xeus-cling-cpp11"
  },
  "language_info": {
   "codemirror_mode": "text/x-c++src",
   "file_extension": ".cpp",
   "mimetype": "text/x-c++src",
   "name": "c++",
   "version": "-std=c++11"
  }
 },
 "nbformat": 4,
 "nbformat_minor": 2
}
