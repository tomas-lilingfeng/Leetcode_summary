{
 "cells": [
  {
   "cell_type": "markdown",
   "metadata": {},
   "source": [
    "## 一、相向双指针\n",
    "两根指针一头一尾，向中间靠拢直到相遇，时间复杂度 O(n) Two Sum 类：哈希表和双指针，双指针更快 Partition 类：\n",
    "\n",
    "partition模板：\n",
    "\n",
    "例如：快排"
   ]
  },
  {
   "cell_type": "code",
   "execution_count": null,
   "metadata": {},
   "outputs": [],
   "source": [
    "while left <= right:\n",
    "    while left <= right and nums[left] 应该在左侧:\n",
    "        left +=1 \n",
    "    while left <= right and nums[right] 应该在右侧:\n",
    "        right -=1\n",
    "    if left <= right:\n",
    "        # 找到了一个不该在左侧的不该在右侧的，交换他们\n",
    "        nums[left], nums[right] = nums[right], nums[left]\n",
    "        left += 1\n",
    "        right -= 1"
   ]
  },
  {
   "cell_type": "markdown",
   "metadata": {},
   "source": [
    "## 二、同向双指针\n",
    "两根指针一前一后，直到前面的指针走过头，时间复杂度 O(n)\n",
    "### 例如：滑动窗口、快慢指针、两个有序数组作比较。\n",
    "\n"
   ]
  },
  {
   "cell_type": "markdown",
   "metadata": {},
   "source": [
    "## Q&A\n",
    "1.如果需要保证最少修改次数如何做？\n",
    "\n",
    "使用 Partition 的方法可以做到交换次数最优\n",
    "\n",
    "2.不需要维持相对顺序 vs 需要维持相对顺序 算法有什么区别？\n",
    "\n",
    "不需要维护相对顺序，可以使用 Partition 的方法，时空复杂度和交换次数都是最优的 需要维护相对顺序的，只能使用同向双指针的方法，时空复杂度最优，但是交换次数不是最优 的\n"
   ]
  },
  {
   "cell_type": "markdown",
   "metadata": {},
   "source": [
    "## 350. 两个数组的交集 II\n",
    "给定两个数组，编写一个函数来计算它们的交集。\n",
    "\n",
    "示例 1:\n",
    "\n",
    "输入: nums1 = [1,2,2,1], nums2 = [2,2]\n",
    "输出: [2,2]"
   ]
  },
  {
   "cell_type": "markdown",
   "metadata": {},
   "source": [
    "- 1：可用哈希表来建立nums1中字符和其出现个数之间的映射, 然后遍历nums2数组，如果当前字符在哈希表中的个数大于0，则将此字符加入结果res中，然后哈希表的对应值自减1。\n",
    "- 2：先给两个数组排序，然后用两个指针分别指向两个数组的起始位置，如果两个指针指的数字相等，则存入结果中，两个指针均自增1，如果第一个指针指的数字大，则第二个指针自增1，反之亦然，"
   ]
  },
  {
   "cell_type": "code",
   "execution_count": null,
   "metadata": {},
   "outputs": [],
   "source": [
    "class Solution {\n",
    "public:\n",
    "//     vector<int> intersect(vector<int>& nums1, vector<int>& nums2) {\n",
    "//         map<int,int> m;\n",
    "//         vector<int> res;\n",
    "//         for(auto a :nums1)\n",
    "//             ++m[a];\n",
    "//         for(auto b:nums2){\n",
    "//             if(m[b]>0){\n",
    "//                 res.push_back(b);\n",
    "//                 m[b]--;\n",
    "//             }\n",
    "//         }\n",
    "//         return res;\n",
    "        \n",
    "//     }\n",
    "    vector<int> intersect(vector<int>& nums1, vector<int>& nums2) {\n",
    "        vector<int> res;\n",
    "        sort(nums1.begin(),nums1.end());\n",
    "        sort(nums2.begin(),nums2.end());\n",
    "        \n",
    "        int nums1_p=0,nums2_p=0;\n",
    "        while(nums1_p<nums1.size()&&nums2_p<nums2.size()){\n",
    "            if(nums1[nums1_p]==nums2[nums2_p]){\n",
    "                res.push_back(nums1[nums1_p]);\n",
    "                nums1_p++;\n",
    "                nums2_p++;\n",
    "            }\n",
    "            else if(nums1[nums1_p]<nums2[nums2_p]){\n",
    "                nums1_p++;\n",
    "            }\n",
    "            else{\n",
    "                nums2_p++;\n",
    "            }\n",
    "        }\n",
    "        return res;\n",
    "        \n",
    "        \n",
    "    }\n",
    "    \n",
    "};"
   ]
  },
  {
   "cell_type": "markdown",
   "metadata": {},
   "source": [
    "## 209. 长度最小的子数组\n",
    "给定一个含有 n 个正整数的数组和一个正整数 s ，找出该数组中满足其和 ≥ s 的长度最小的连续子数组。如果不存在符合条件的连续子数组，返回 0。\n",
    "\n",
    "示例: \n",
    "\n",
    "输入: s = 7, nums = [2,3,1,2,4,3]\n",
    "输出: 2\n",
    "解释: 子数组 [4,3] 是该条件下的长度最小的连续子数组。\n",
    " "
   ]
  },
  {
   "cell_type": "markdown",
   "metadata": {},
   "source": [
    "### 定义两个指针 left 和 right，分别记录子数组的左右的边界位置，然后我们让 right 向右移，直到子数组和大于等于给定值或者 right 达到数组末尾，此时我们更新最短距离，并且将 left 像右移一位，然后再 sum 中减去移去的值，然后重复上面的步骤，直到 right 到达末尾，且 left 到达临界位置，即要么到达边界，要么再往右移动，和就会小于给定值。"
   ]
  },
  {
   "cell_type": "code",
   "execution_count": null,
   "metadata": {},
   "outputs": [],
   "source": [
    "class Solution {\n",
    "public:\n",
    "    int minSubArrayLen(int s, vector<int>& nums) {\n",
    "        if(nums.empty())\n",
    "            return 0;\n",
    "        int cnt=INT_MAX;\n",
    "        int n=nums.size();\n",
    "        int pre=0,cur=0;\n",
    "        while(cur<n){\n",
    "            if(s>nums[cur]){\n",
    "                s-=nums[cur++];\n",
    "            }\n",
    "            else{\n",
    "                cnt=min(cnt,cur-pre+1);                \n",
    "                if(cur>pre)\n",
    "                    s+=nums[pre++];\n",
    "                else\n",
    "                    cur++;\n",
    "            }\n",
    "        }\n",
    "        return cnt==INT_MAX?0:cnt;\n",
    "    }\n",
    "};"
   ]
  },
  {
   "cell_type": "markdown",
   "metadata": {},
   "source": [
    "## 76. 最小覆盖子串\n",
    "给你一个字符串 S、一个字符串 T，请在字符串 S 里面找出：包含 T 所有字母的最小子串。\n",
    "\n",
    "示例：\n",
    "\n",
    "输入: S = \"ADOBECODEBANC\", T = \"ABC\"\n",
    "输出: \"BANC\"\n",
    "\n",
    "说明：\n",
    "\n",
    "如果 S 中不存这样的子串，则返回空字符串 \"\"。\n",
    "如果 S 中存在这样的子串，我们保证它是唯一的答案。"
   ]
  },
  {
   "cell_type": "markdown",
   "metadata": {},
   "source": [
    "- 我们最开始先扫描一遍T，把对应的字符及其出现的次数存到 HashMap 中。\n",
    "\n",
    "- 然后开始遍历S，就把遍历到的字母对应的 HashMap 中的 value 减一，如果减1后仍大于等于0，cnt 自增1。\n",
    "\n",
    "- 如果 cnt 等于T串长度时，开始循环，纪录一个字串并更新最小字串值。然后将子窗口的左边界向右移，如果某个移除掉的字母是T串中不可缺少的字母，那么 cnt 自减1，表示此时T串并没有完全匹配。"
   ]
  },
  {
   "cell_type": "code",
   "execution_count": null,
   "metadata": {},
   "outputs": [],
   "source": [
    "class Solution {\n",
    "public:\n",
    "    string minWindow(string s, string t) {\n",
    "        string res=\"\";\n",
    "        unordered_map<char,int> letterCnt;\n",
    "        int left=0,cnt=0,minlen=INT_MAX;\n",
    "        for(char c:t)  //我们最开始先扫描一遍T，把对应的字符及其出现的次数存到 HashMap 中。\n",
    "            ++letterCnt[c];\n",
    "        for(int i=0;i<s.size();++i){\n",
    "            if(--letterCnt[s[i]]>=0)//然后开始遍历S，就把遍历到的字母对应的 HashMap 中的 value 减一\n",
    "                ++cnt;   //如果减1后仍大于等于0，cnt 自增1\n",
    "            while(cnt==t.size()){  //如果 cnt 等于T串长度时，开始循环，\n",
    "                if(minlen>i-left+1){\n",
    "                    minlen=i-left+1;    //纪录一个字串并更新最小字串值\n",
    "                    res=s.substr(left,minlen);//纪录一个字串并更新最小字串值\n",
    "                }\n",
    "                if(++letterCnt[s[left]]>0)//，如果某个移除掉的字母是T串中不可缺少的字母，\n",
    "                    --cnt;         //那么 cnt 自减1\n",
    "                ++left;            //然后将子窗口的左边界向右移\n",
    "            }\n",
    "        }\n",
    "        return res;\n",
    "    }\n",
    "};"
   ]
  },
  {
   "cell_type": "code",
   "execution_count": null,
   "metadata": {},
   "outputs": [],
   "source": []
  },
  {
   "cell_type": "code",
   "execution_count": null,
   "metadata": {},
   "outputs": [],
   "source": []
  }
 ],
 "metadata": {
  "kernelspec": {
   "display_name": "C++11",
   "language": "C++11",
   "name": "xeus-cling-cpp11"
  },
  "language_info": {
   "codemirror_mode": "text/x-c++src",
   "file_extension": ".cpp",
   "mimetype": "text/x-c++src",
   "name": "c++",
   "version": "-std=c++11"
  }
 },
 "nbformat": 4,
 "nbformat_minor": 2
}
