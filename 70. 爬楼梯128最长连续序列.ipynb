{
 "cells": [
  {
   "cell_type": "markdown",
   "metadata": {},
   "source": [
    "## 70. 爬楼梯\n",
    "假设你正在爬楼梯。需要 n 阶你才能到达楼顶。\n",
    "\n",
    "每次你可以爬 1 或 2 个台阶。你有多少种不同的方法可以爬到楼顶呢？\n",
    "\n",
    "注意：给定 n 是一个正整数。\n",
    "\n",
    "示例 1：\n",
    "\n",
    "输入： 2\n",
    "输出： 2\n",
    "解释： 有两种方法可以爬到楼顶。\n",
    "1.  1 阶 + 1 阶\n",
    "2.  2 阶\n",
    "示例 2：\n",
    "\n",
    "输入： 3\n",
    "输出： 3\n",
    "解释： 有三种方法可以爬到楼顶。\n",
    "1.  1 阶 + 1 阶 + 1 阶\n",
    "2.  1 阶 + 2 阶\n",
    "3.  2 阶 + 1 阶\n",
    "\n",
    "\n"
   ]
  },
  {
   "cell_type": "code",
   "execution_count": null,
   "metadata": {},
   "outputs": [],
   "source": [
    "class Solution {\n",
    "public:\n",
    "    int climbStairs(int n) {\n",
    "        //时间复杂度O(n)，空间复杂度O(1)\n",
    "        int a1=0,a2=1,sum;\n",
    "        for(int i=1;i<=n;i++){\n",
    "            sum=a1+a2;\n",
    "            a1=a2;\n",
    "            a2=sum;    //其实就是斐波拉锲数列  f(n)=f(n-1)+f(n-2)\n",
    "        }\n",
    "        return sum;\n",
    "    }\n",
    "};"
   ]
  },
  {
   "cell_type": "markdown",
   "metadata": {},
   "source": [
    "## 128. 最长连续序列\n",
    "\n",
    "给定一个未排序的整数数组，找出最长连续序列的长度。\n",
    "\n",
    "要求算法的时间复杂度为 O(n)。\n",
    "\n",
    "示例:\n",
    "\n",
    "输入: [100, 4, 200, 1, 3, 2]\n",
    "输出: 4\n",
    "解释: 最长连续序列是 [1, 2, 3, 4]。它的长度为 4。\n"
   ]
  },
  {
   "cell_type": "code",
   "execution_count": null,
   "metadata": {},
   "outputs": [],
   "source": [
    "class Solution {\n",
    "public:\n",
    "    int longestConsecutive(vector<int>& nums) {\n",
    "        //时间复杂度O(n)，空间复杂度O(n)\n",
    "        int res=0;\n",
    "        unordered_set<int> m(nums.begin(),nums.end());  //建立一个集合\n",
    "        for(int  a : nums){\n",
    "            if(!m.count(a))     \n",
    "                continue;    //跳过被删除的元素\n",
    "            int left=a-1,right=a+1;\n",
    "            while(m.count(left))      //遍历nums ,  对其中每一个元素遍历左右序列  \n",
    "                m.erase(left--);     //  遍历一次后删除这个元素，避免重复计算\n",
    "            while(m.count(right))\n",
    "                m.erase(right++);\n",
    "            res=max(res,right-left-1);  //保存最大序列长度\n",
    "        }\n",
    "        return res;\n",
    "        \n",
    "    }\n",
    "};"
   ]
  },
  {
   "cell_type": "code",
   "execution_count": null,
   "metadata": {},
   "outputs": [],
   "source": []
  },
  {
   "cell_type": "code",
   "execution_count": null,
   "metadata": {},
   "outputs": [],
   "source": []
  },
  {
   "cell_type": "code",
   "execution_count": null,
   "metadata": {},
   "outputs": [],
   "source": []
  },
  {
   "cell_type": "code",
   "execution_count": null,
   "metadata": {},
   "outputs": [],
   "source": []
  },
  {
   "cell_type": "code",
   "execution_count": null,
   "metadata": {},
   "outputs": [],
   "source": []
  },
  {
   "cell_type": "code",
   "execution_count": null,
   "metadata": {},
   "outputs": [],
   "source": []
  },
  {
   "cell_type": "code",
   "execution_count": null,
   "metadata": {},
   "outputs": [],
   "source": []
  },
  {
   "cell_type": "code",
   "execution_count": null,
   "metadata": {},
   "outputs": [],
   "source": []
  },
  {
   "cell_type": "code",
   "execution_count": null,
   "metadata": {},
   "outputs": [],
   "source": []
  },
  {
   "cell_type": "code",
   "execution_count": null,
   "metadata": {},
   "outputs": [],
   "source": []
  },
  {
   "cell_type": "code",
   "execution_count": null,
   "metadata": {},
   "outputs": [],
   "source": []
  },
  {
   "cell_type": "code",
   "execution_count": null,
   "metadata": {},
   "outputs": [],
   "source": []
  },
  {
   "cell_type": "code",
   "execution_count": null,
   "metadata": {},
   "outputs": [],
   "source": []
  }
 ],
 "metadata": {
  "kernelspec": {
   "display_name": "C++11",
   "language": "C++11",
   "name": "xeus-cling-cpp11"
  },
  "language_info": {
   "codemirror_mode": "text/x-c++src",
   "file_extension": ".cpp",
   "mimetype": "text/x-c++src",
   "name": "c++",
   "version": "-std=c++11"
  }
 },
 "nbformat": 4,
 "nbformat_minor": 2
}
