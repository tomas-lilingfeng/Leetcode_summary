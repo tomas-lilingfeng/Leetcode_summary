{
 "cells": [
  {
   "cell_type": "code",
   "execution_count": null,
   "metadata": {},
   "outputs": [],
   "source": []
  },
  {
   "cell_type": "markdown",
   "metadata": {},
   "source": [
    "## 146. LRU缓存机制\n",
    "\n",
    "运用你所掌握的数据结构，设计和实现一个  LRU (最近最少使用) 缓存机制。它应该支持以下操作： 获取数据 get 和 写入数据 put 。\n",
    "\n",
    "获取数据 get(key) - 如果密钥 (key) 存在于缓存中，则获取密钥的值（总是正数），否则返回 -1。\n",
    "写入数据 put(key, value) - 如果密钥不存在，则写入其数据值。当缓存容量达到上限时，它应该在写入新数据之前删除最近最少使用的数据值，从而为新的数据值留出空间。\n",
    "\n",
    "进阶:\n",
    "\n",
    "你是否可以在 O(1) 时间复杂度内完成这两种操作？\n",
    "\n",
    "示例:\n",
    "\n",
    "LRUCache cache = new LRUCache( 2 /* 缓存容量 */ );\n",
    "\n",
    "cache.put(1, 1);\n",
    "cache.put(2, 2);\n",
    "cache.get(1);       // 返回  1\n",
    "cache.put(3, 3);    // 该操作会使得密钥 2 作废\n",
    "cache.get(2);       // 返回 -1 (未找到)\n",
    "cache.put(4, 4);    // 该操作会使得密钥 1 作废\n",
    "cache.get(1);       // 返回 -1 (未找到)\n",
    "cache.get(3);       // 返回  3\n",
    "cache.get(4);       // 返回  4\n",
    "\n",
    "\n"
   ]
  },
  {
   "cell_type": "markdown",
   "metadata": {},
   "source": [
    "我们需要三个私有变量，nums, l和m，其中 nums 是缓存器的容量大小，l是保存缓存器内容的列表，m是 HashMap，保存关键值 key 和缓存器各项的迭代器之间映射，方便我们以 O(1) 的时间内找到目标项。\n",
    "- get:我们在 HashMap 中查找给定的 key，若不存在直接返回 -1。如果存在则将此项移到顶部，这里我们使用 C++ STL 中的函数 splice，专门移动链表中的一个或若干个结点到某个特定的位置，这里我们就只移动 key 对应的迭代器到列表的开头，然后返回 value。\n",
    "- put:我们也是现在 HashMap 中查找给定的 key，如果存在就删掉原有项，并在顶部插入新来项，然后判断是否溢出，若溢出则删掉底部项(最不常用项)。"
   ]
  },
  {
   "cell_type": "code",
   "execution_count": null,
   "metadata": {},
   "outputs": [],
   "source": [
    "class LRUCache {\n",
    "public:\n",
    "    LRUCache(int capacity) {\n",
    "        nums=capacity;\n",
    "    }\n",
    "    \n",
    "    int get(int key) {\n",
    "        auto it=m.find(key);\n",
    "        if(it==m.end())\n",
    "            return -1;\n",
    "        l.splice(l.begin(),l,it->second);\n",
    "        return it->second->second;\n",
    "    }\n",
    "    \n",
    "    void put(int key, int value) {\n",
    "        auto it=m.find(key);\n",
    "        if(it!=m.end())\n",
    "            l.erase(it->second);\n",
    "        l.push_front(make_pair(key,value));\n",
    "        m[key]=l.begin();\n",
    "        if(m.size()>nums){\n",
    "            int k=l.rbegin()->first;\n",
    "            l.pop_back();\n",
    "            m.erase(k);\n",
    "        }\n",
    "    }\n",
    "private:\n",
    "    int nums;\n",
    "    list<pair<int,int>> l;\n",
    "    map<int,list<pair<int,int>>::iterator> m;\n",
    "    \n",
    "};"
   ]
  },
  {
   "cell_type": "markdown",
   "metadata": {},
   "source": [
    "## 380. 常数时间插入、删除和获取随机元素\n",
    "\n",
    "设计一个支持在平均 时间复杂度 O(1) 下，执行以下操作的数据结构。\n",
    "\n",
    "insert(val)：当元素 val 不存在时，向集合中插入该项。\n",
    "remove(val)：元素 val 存在时，从集合中移除该项。\n",
    "getRandom：随机返回现有集合中的一项。每个元素应该有相同的概率被返回。\n",
    "示例 :\n",
    "\n",
    "// 初始化一个空的集合。\n",
    "RandomizedSet randomSet = new RandomizedSet();\n",
    "\n",
    "// 向集合中插入 1 。返回 true 表示 1 被成功地插入。\n",
    "randomSet.insert(1);\n",
    "\n",
    "// 返回 false ，表示集合中不存在 2 。\n",
    "randomSet.remove(2);\n",
    "\n",
    "// 向集合中插入 2 。返回 true 。集合现在包含 [1,2] 。\n",
    "randomSet.insert(2);\n",
    "\n",
    "// getRandom 应随机返回 1 或 2 。\n",
    "randomSet.getRandom();\n",
    "\n",
    "// 从集合中移除 1 ，返回 true 。集合现在包含 [2] 。\n",
    "randomSet.remove(1);\n",
    "\n",
    "// 2 已在集合中，所以返回 false 。\n",
    "randomSet.insert(2);\n",
    "\n",
    "// 由于 2 是集合中唯一的数字，getRandom 总是返回 2 。\n",
    "randomSet.getRandom();\n",
    "\n"
   ]
  },
  {
   "cell_type": "markdown",
   "metadata": {},
   "source": [
    "此题的正确解法是利用到了一个一维数组和一个 HashMap，其中数组用来保存数字，HashMap 用来建立每个数字和其在数组中的位置之间的映射，\n",
    "- 对于插入操作，我们先看这个数字是否已经在 HashMap 中存在，如果存在的话直接返回 false，不存在的话，我们将其插入到数组的末尾，然后建立数字和其位置的映射。\n",
    "- 删除操作是比较 tricky 的，我们还是要先判断其是否在 HashMap 里，如果没有，直接返回 false。由于 HashMap 的删除是常数时间的，而数组并不是，为了使数组删除也能常数级，我们实际上将要删除的数字和数组的最后一个数字调换个位置，然后修改对应的 HashMap 中的值，这样我们只需要删除数组的最后一个元素即可，保证了常数时间内的删除。\n",
    "- 返回随机数对于数组来说就很简单了，我们只要随机生成一个位置，返回该位置上的数字即可"
   ]
  },
  {
   "cell_type": "code",
   "execution_count": null,
   "metadata": {},
   "outputs": [],
   "source": [
    "class RandomizedSet {\n",
    "public:\n",
    "    /** Initialize your data structure here. */\n",
    "    RandomizedSet() {\n",
    "        \n",
    "    }\n",
    "    \n",
    "    /** Inserts a value to the set. Returns true if the set did not already contain the specified element. */\n",
    "    bool insert(int val) {\n",
    "        if(m.count(val)){\n",
    "            return false;\n",
    "        }\n",
    "        nums.push_back(val);\n",
    "        m[val]=nums.size()-1;\n",
    "        return true;\n",
    "    }\n",
    "    \n",
    "    /** Removes a value from the set. Returns true if the set contained the specified element. */\n",
    "    bool remove(int val) {\n",
    "        if(!m.count(val))\n",
    "            return false;\n",
    "        int last=nums.back();\n",
    "        m[last]=m[val];        //修改对应的hashmap中的位置值\n",
    "        nums[m[val]]=last;\n",
    "        nums.pop_back();\n",
    "        m.erase(val);\n",
    "        return true;\n",
    "    }\n",
    "    \n",
    "    /** Get a random element from the set. */\n",
    "    int getRandom() {\n",
    "        return nums[rand()%nums.size()];\n",
    "    }\n",
    "private:\n",
    "    vector<int> nums;\n",
    "    unordered_map<int,int> m;\n",
    "};\n",
    "\n",
    "/**\n",
    " * Your RandomizedSet object will be instantiated and called as such:\n",
    " * RandomizedSet* obj = new RandomizedSet();\n",
    " * bool param_1 = obj->insert(val);\n",
    " * bool param_2 = obj->remove(val);\n",
    " * int param_3 = obj->getRandom();\n",
    " */"
   ]
  },
  {
   "cell_type": "code",
   "execution_count": null,
   "metadata": {},
   "outputs": [],
   "source": []
  },
  {
   "cell_type": "code",
   "execution_count": null,
   "metadata": {},
   "outputs": [],
   "source": []
  },
  {
   "cell_type": "code",
   "execution_count": null,
   "metadata": {},
   "outputs": [],
   "source": []
  },
  {
   "cell_type": "code",
   "execution_count": null,
   "metadata": {},
   "outputs": [],
   "source": []
  },
  {
   "cell_type": "code",
   "execution_count": null,
   "metadata": {},
   "outputs": [],
   "source": []
  },
  {
   "cell_type": "code",
   "execution_count": null,
   "metadata": {},
   "outputs": [],
   "source": []
  },
  {
   "cell_type": "code",
   "execution_count": null,
   "metadata": {},
   "outputs": [],
   "source": []
  },
  {
   "cell_type": "code",
   "execution_count": null,
   "metadata": {},
   "outputs": [],
   "source": []
  },
  {
   "cell_type": "code",
   "execution_count": null,
   "metadata": {},
   "outputs": [],
   "source": []
  }
 ],
 "metadata": {
  "kernelspec": {
   "display_name": "C++11",
   "language": "C++11",
   "name": "xeus-cling-cpp11"
  },
  "language_info": {
   "codemirror_mode": "text/x-c++src",
   "file_extension": ".cpp",
   "mimetype": "text/x-c++src",
   "name": "c++",
   "version": "-std=c++11"
  }
 },
 "nbformat": 4,
 "nbformat_minor": 2
}
