{
 "cells": [
  {
   "cell_type": "markdown",
   "metadata": {},
   "source": [
    "# 总结：回顾Two Sum的变种题目和复习动态回归。"
   ]
  },
  {
   "cell_type": "markdown",
   "metadata": {},
   "source": [
    "## 382. 三角形计数\n",
    "中文English\n",
    "给定一个整数数组，在该数组中，寻找三个数，分别代表三角形三条边的长度，问，可以寻找到多少组这样的三个数来组成三角形？\n",
    "\n",
    "样例\n",
    "样例 1:\n",
    "\n",
    "输入: [3, 4, 6, 7]\n",
    "输出: 3\n",
    "解释:\n",
    "可以组成的是 (3, 4, 6), \n",
    "           (3, 6, 7),\n",
    "           (4, 6, 7)\n",
    "样例 2:\n",
    "\n",
    "输入: [4, 4, 4, 4]\n",
    "输出: 4\n",
    "解释:\n",
    "任何三个数都可以构成三角形\n",
    "所以答案为 C(3, 4) = 4"
   ]
  },
  {
   "cell_type": "markdown",
   "metadata": {},
   "source": [
    "要构成三角形，则任意两边之和要大于第三边。\n",
    "\n",
    "先排序，然后 i 不断向右遍历，\n",
    "\n",
    "因为排序过了，所以只要找 0 到 i - 1 中 有哪些两数组合的和大于nums[i]\n",
    "\n",
    "就变成two sum的题了"
   ]
  },
  {
   "cell_type": "code",
   "execution_count": null,
   "metadata": {},
   "outputs": [],
   "source": [
    "class Solution {\n",
    "public:\n",
    "    /**\n",
    "     * @param S: A list of integers\n",
    "     * @return: An integer\n",
    "     */\n",
    "    int triangleCount(vector<int> &S) {\n",
    "        // write your code here\n",
    "        if(S.size()<3)\n",
    "        return 0;\n",
    "        int res=0;\n",
    "        sort(S.begin(),S.end());\n",
    "        for(int right=2;right<S.size();right++){\n",
    "            int left=0,mid=right-1;\n",
    "            while(left<mid){\n",
    "                if(S[left]+S[mid]>S[right]){\n",
    "                    res+=mid-left;  //因为已经排过序，所以此时left可以取值为left,left+1....mid-1  共有mid-left个可能\n",
    "                    mid--;  //  此时将mid左移一位，查看left可能的取值数量\n",
    "                }\n",
    "                else{\n",
    "                    left++;  // 找到能使mid和right 成立的最短第三边 \n",
    "                }\n",
    "                \n",
    "            }\n",
    "    \n",
    "        }\n",
    "    return res;\n",
    "        \n",
    "    }\n",
    "    \n",
    "};"
   ]
  },
  {
   "cell_type": "markdown",
   "metadata": {},
   "source": [
    "## 中文English\n",
    "设计b并实现一个 TwoSum 类。他需要支持以下操作:add 和 find。\n",
    "add -把这个数添加到内部的数据结构。\n",
    "find -是否存在任意一对数字之和等于这个值\n",
    "\n",
    "样例\n",
    "样例 1:\n",
    "\n",
    "add(1);add(3);add(5);\n",
    "find(4)//返回true\n",
    "find(7)//返回false"
   ]
  },
  {
   "cell_type": "markdown",
   "metadata": {},
   "source": [
    "- 就是two sum 的数据结构实现，注意map的遍历方法a.first和a.second"
   ]
  },
  {
   "cell_type": "code",
   "execution_count": null,
   "metadata": {},
   "outputs": [],
   "source": [
    "class TwoSum {\n",
    "public:\n",
    "    /**\n",
    "     * @param number: An integer\n",
    "     * @return: nothing\n",
    "     */\n",
    "    void add(int number) {\n",
    "        // write your code here\n",
    "        m[number]++;\n",
    "    }\n",
    "\n",
    "    /**\n",
    "     * @param value: An integer\n",
    "     * @return: Find if there exists any pair of numbers which sum is equal to the value.\n",
    "     */\n",
    "    bool find(int value) {\n",
    "        // write your code here\n",
    "        for (auto a : m) {\n",
    "            int t = value - a.first;\n",
    "            if ((t != a.first && m.count(t)) || (t == a.first && a.second > 1)) {\n",
    "                return true;\n",
    "            }\n",
    "        }\n",
    "        return false;\n",
    "        \n",
    "  \n",
    "    }\n",
    "    private:\n",
    "    map<int,int>m;\n",
    "    \n",
    "    \n",
    "};\n"
   ]
  },
  {
   "cell_type": "markdown",
   "metadata": {},
   "source": [
    "## 63. 不同路径 II\n",
    "一个机器人位于一个 m x n 网格的左上角 （起始点在下图中标记为“Start” ）。\n",
    "\n",
    "机器人每次只能向下或者向右移动一步。机器人试图达到网格的右下角（在下图中标记为“Finish”）。\n",
    "\n",
    "现在考虑网格中有障碍物。那么从左上角到右下角将会有多少条不同的路径？\n",
    "\n",
    "网格中的障碍物和空位置分别用 1 和 0 来表示。\n",
    "\n",
    "说明：m 和 n 的值均不超过 100。\n",
    "\n",
    "示例 1:\n",
    "\n",
    "输入:\n",
    "[\n",
    "  [0,0,0],\n",
    "  [0,1,0],\n",
    "  [0,0,0]\n",
    "]\n",
    "- 输出: 2\n",
    "- 解释:\n",
    "3x3 网格的正中间有一个障碍物。\n",
    "- 从左上角到右下角一共有 2 条不同的路径：\n",
    "1. 向右 -> 向右 -> 向下 -> 向下\n",
    "2. 向下 -> 向下 -> 向右 -> 向右\n",
    "\n"
   ]
  },
  {
   "cell_type": "code",
   "execution_count": null,
   "metadata": {},
   "outputs": [],
   "source": [
    "class Solution {\n",
    "public:\n",
    "    int uniquePathsWithObstacles(vector<vector<int>>& obstacleGrid) {\n",
    "            if(obstacleGrid.empty()||obstacleGrid[0].empty()||obstacleGrid[0][0]==1){\n",
    "                    return 0;\n",
    "            }\n",
    "            int m=obstacleGrid.size(),n=obstacleGrid[0].size();\n",
    "            vector<vector<long>> dp(m+1,vector<long>(n+1,0));\n",
    "            dp[0][1]=1;\n",
    "            for(int i=1;i<=m;i++){\n",
    "                    for(int j=1;j<=n;j++){\n",
    "                            if(obstacleGrid[i-1][j-1]!=0)  //当遇到障碍跳过，即设路径数为0\n",
    "                                    continue;\n",
    "                            dp[i][j]=dp[i][j-1]+dp[i-1][j];\n",
    "                    }\n",
    "                    \n",
    "            }\n",
    "            return dp[m][n];\n",
    "        \n",
    "    }\n",
    "};"
   ]
  },
  {
   "cell_type": "code",
   "execution_count": null,
   "metadata": {},
   "outputs": [],
   "source": []
  }
 ],
 "metadata": {
  "kernelspec": {
   "display_name": "C++11",
   "language": "C++11",
   "name": "xeus-cling-cpp11"
  },
  "language_info": {
   "codemirror_mode": "text/x-c++src",
   "file_extension": ".cpp",
   "mimetype": "text/x-c++src",
   "name": "c++",
   "version": "-std=c++11"
  }
 },
 "nbformat": 4,
 "nbformat_minor": 2
}
