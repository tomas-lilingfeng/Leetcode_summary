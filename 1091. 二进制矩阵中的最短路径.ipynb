{
 "cells": [
  {
   "cell_type": "code",
   "execution_count": null,
   "metadata": {},
   "outputs": [],
   "source": []
  },
  {
   "cell_type": "markdown",
   "metadata": {},
   "source": [
    "## 354. 俄罗斯套娃信封问题\n",
    "给定一些标记了宽度和高度的信封，宽度和高度以整数对形式 (w, h) 出现。当另一个信封的宽度和高度都比这个信封大的时候，这个信封就可以放进另一个信封里，如同俄罗斯套娃一样。\n",
    "\n",
    "请计算最多能有多少个信封能组成一组“俄罗斯套娃”信封（即可以把一个信封放到另一个信封里面）。\n",
    "\n",
    "说明:\n",
    "不允许旋转信封。\n",
    "\n",
    "示例:\n",
    "\n",
    "输入: envelopes = [[5,4],[6,4],[6,7],[2,3]]\n",
    "输出: 3 \n",
    "解释: 最多信封的个数为 3, 组合为: [2,3] => [5,4] => [6,7]。\n",
    "\n"
   ]
  },
  {
   "cell_type": "markdown",
   "metadata": {},
   "source": [
    "典型的动态规划问题。"
   ]
  },
  {
   "cell_type": "code",
   "execution_count": null,
   "metadata": {},
   "outputs": [],
   "source": [
    "class Solution {\n",
    "public:\n",
    "    int maxEnvelopes(vector<vector<int>>& envelopes) {\n",
    "        int res=0,n=envelopes.size();\n",
    "        vector<int> dp(n,1);\n",
    "        sort(envelopes.begin(),envelopes.end());\n",
    "        for(int i=0;i<n;i++){\n",
    "                for(int j=0;j<i;j++){\n",
    "                        if(envelopes[i][0]>envelopes[j][0] && envelopes[i][1]>envelopes[j][1]){\n",
    "                                dp[i]=max(dp[i],dp[j]+1);    //使用dp来记录信封内能装的信封数，遍历i之前的信封，更新第i个信封\n",
    "                    }\n",
    "                }\n",
    "                res=max(res,dp[i]);  //记录最大值\n",
    "        }\n",
    "        return res;   \n",
    "    }\n",
    "};"
   ]
  },
  {
   "cell_type": "markdown",
   "metadata": {},
   "source": [
    "## 1091. 二进制矩阵中的最短路径\n",
    "在一个 N × N 的方形网格中，每个单元格有两种状态：空（0）或者阻塞（1）。\n",
    "\n",
    "一条从左上角到右下角、长度为 k 的畅通路径，由满足下述条件的单元格 C_1, C_2, ..., C_k 组成：\n",
    "\n",
    "相邻单元格 C_i 和 C_{i+1} 在八个方向之一上连通（此时，C_i 和 C_{i+1} 不同且共享边或角）\n",
    "C_1 位于 (0, 0)（即，值为 grid[0][0]）\n",
    "C_k 位于 (N-1, N-1)（即，值为 grid[N-1][N-1]）\n",
    "如果 C_i 位于 (r, c)，则 grid[r][c] 为空（即，grid[r][c] == 0）\n",
    "返回这条从左上角到右下角的最短畅通路径的长度。如果不存在这样的路径，返回 -1 。\n",
    "\n",
    "\n"
   ]
  },
  {
   "cell_type": "code",
   "execution_count": null,
   "metadata": {},
   "outputs": [],
   "source": [
    "class Solution {\n",
    "public:\n",
    "    int shortestPathBinaryMatrix(vector<vector<int>>& grid) {\n",
    "        if (grid.empty()) \n",
    "                return -1;\n",
    "        int r = grid.size(), c = grid[0].size();\n",
    "        if (grid[0][0] == 1 || grid[r-1][c-1] == 1) //若起点或终点为1，返回-1\n",
    "                return -1;\n",
    "        deque<vector<int>> q;\n",
    "        q.push_back({0, 0, 1});\n",
    "        while (q.size()){\n",
    "                auto pre = q.front();\n",
    "                q.pop_front();\n",
    "                if (pre[0] == r-1 && pre[1] == c-1) \n",
    "                        return pre[2];\n",
    "                for (int i = 0; i < 8; ++i) {\n",
    "                        int nx = pre[0] + dire[i][0];\n",
    "                        int ny = pre[1] + dire[i][1];\n",
    "                        if (nx >= 0 && nx < r && ny >= 0 && ny < c && grid[nx][ny] == 0 ) {\n",
    "                                q.push_back({nx, ny, pre[2]+1}); //如果满足条件，则记录状态并加入到队列中\n",
    "                                grid[nx][ny] = 1;//将该点设为阻塞状态\n",
    "                    }\n",
    "            }\n",
    "        }\n",
    "        return -1;\n",
    "    }\n",
    "private://定义八个方向\n",
    "    int dire[8][2] = {{1, 0}, {-1, 0}, {0, 1}, {0, -1}, {1, 1}, {1, -1}, {-1, 1}, {-1, -1}};\n",
    "};"
   ]
  },
  {
   "cell_type": "code",
   "execution_count": null,
   "metadata": {},
   "outputs": [],
   "source": []
  },
  {
   "cell_type": "code",
   "execution_count": null,
   "metadata": {},
   "outputs": [],
   "source": []
  },
  {
   "cell_type": "code",
   "execution_count": null,
   "metadata": {},
   "outputs": [],
   "source": []
  },
  {
   "cell_type": "code",
   "execution_count": null,
   "metadata": {},
   "outputs": [],
   "source": []
  }
 ],
 "metadata": {
  "kernelspec": {
   "display_name": "C++11",
   "language": "C++11",
   "name": "xeus-cling-cpp11"
  },
  "language_info": {
   "codemirror_mode": "text/x-c++src",
   "file_extension": ".cpp",
   "mimetype": "text/x-c++src",
   "name": "c++",
   "version": "-std=c++11"
  }
 },
 "nbformat": 4,
 "nbformat_minor": 2
}
