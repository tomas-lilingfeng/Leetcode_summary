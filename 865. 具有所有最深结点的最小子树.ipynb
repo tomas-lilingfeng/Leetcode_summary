{
 "cells": [
  {
   "cell_type": "markdown",
   "metadata": {},
   "source": [
    "## 865. 具有所有最深结点的最小子树\n",
    "给定一个根为 root 的二叉树，每个结点的深度是它到根的最短距离。\n",
    "\n",
    "如果一个结点在整个树的任意结点之间具有最大的深度，则该结点是最深的。\n",
    "\n",
    "一个结点的子树是该结点加上它的所有后代的集合。\n",
    "\n",
    "返回能满足“以该结点为根的子树中包含所有最深的结点”这一条件的具有最大深度的结点。\n",
    "\n",
    " \n",
    "\n",
    "示例：\n",
    "\n",
    "输入：[3,5,1,6,2,0,8,null,null,7,4]\n",
    "输出：[2,7,4]\n",
    "\n"
   ]
  },
  {
   "cell_type": "markdown",
   "metadata": {},
   "source": [
    "子树的最大深度很重要，对于一棵完全二叉树来说，根结点的左右子树的最大深度一定是相同的，此时直接返回根结点即可。若左右子树的最大深度不同，则最深结点一定位于深度大的子树中，可以对其调用递归函数。所以只需要写一个计算最大深度的递归函数，来计算左右子树的最大深度差，再根据这个差值来决定对谁调用当前的递归函数，两个递归函数相互缠绕"
   ]
  },
  {
   "cell_type": "code",
   "execution_count": null,
   "metadata": {},
   "outputs": [],
   "source": [
    "/**\n",
    " * Definition for a binary tree node.\n",
    " * struct TreeNode {\n",
    " *     int val;\n",
    " *     TreeNode *left;\n",
    " *     TreeNode *right;\n",
    " *     TreeNode(int x) : val(x), left(NULL), right(NULL) {}\n",
    " * };\n",
    " */\n",
    "class Solution {\n",
    "public:\n",
    "    TreeNode* subtreeWithAllDeepest(TreeNode* root) {\n",
    "        int len=deep(root->left)-deep(root->right);\n",
    "        return (len==0)?root:subtreeWithAllDeepest(len>0?root->left:root->right);\n",
    "    }\n",
    "    int deep(TreeNode* node){\n",
    "        if(!node)\n",
    "            return 0;\n",
    "        else\n",
    "            return max(deep(node->left),deep(node->right))+1;\n",
    "    }\n",
    "    \n",
    "};"
   ]
  },
  {
   "cell_type": "code",
   "execution_count": null,
   "metadata": {},
   "outputs": [],
   "source": []
  },
  {
   "cell_type": "code",
   "execution_count": null,
   "metadata": {},
   "outputs": [],
   "source": []
  },
  {
   "cell_type": "code",
   "execution_count": null,
   "metadata": {},
   "outputs": [],
   "source": []
  }
 ],
 "metadata": {
  "kernelspec": {
   "display_name": "C++11",
   "language": "C++11",
   "name": "xeus-cling-cpp11"
  },
  "language_info": {
   "codemirror_mode": "text/x-c++src",
   "file_extension": ".cpp",
   "mimetype": "text/x-c++src",
   "name": "c++",
   "version": "-std=c++11"
  }
 },
 "nbformat": 4,
 "nbformat_minor": 2
}
