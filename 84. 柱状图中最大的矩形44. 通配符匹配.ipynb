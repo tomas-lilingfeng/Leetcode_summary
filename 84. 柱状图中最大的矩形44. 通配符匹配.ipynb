{
 "cells": [
  {
   "cell_type": "code",
   "execution_count": null,
   "metadata": {},
   "outputs": [],
   "source": []
  },
  {
   "attachments": {},
   "cell_type": "markdown",
   "metadata": {},
   "source": [
    "## 84. 柱状图中最大的矩形\n",
    "给定 n 个非负整数，用来表示柱状图中各个柱子的高度。每个柱子彼此相邻，且宽度为 1 。\n",
    "\n",
    "求在该柱状图中，能够勾勒出来的矩形的最大面积。\n",
    "\n",
    "以上是柱状图的示例，其中每个柱子的宽度为 1，给定的高度为 [2,1,5,6,2,3]。\n",
    "\n",
    "图中阴影部分为所能勾勒出的最大矩形面积，其面积为 10 个单位。\n",
    "\n",
    "示例:\n",
    "\n",
    "输入: [2,1,5,6,2,3]\n",
    "输出: 10\n",
    "\n"
   ]
  },
  {
   "cell_type": "code",
   "execution_count": null,
   "metadata": {},
   "outputs": [],
   "source": [
    "class Solution {\n",
    "public:\n",
    "    int largestRectangleArea(vector<int>& heights) {\n",
    "        int res=0;\n",
    "        for(int i=0;i<heights.size();i++){\n",
    "            if(i+1<heights.size()&&heights[i]<=heights[i+1]){   // 找到递增序列的最后一个值 （这样排除了一部分不必要的搜索）\n",
    "                continue;\n",
    "            }\n",
    "            int minH=heights[i];    \n",
    "            for(int j=i;j>=0;--j){     \n",
    "                minH=min(minH,heights[j]);     \n",
    "                int area=minH*(i-j+1);      //向前遍历，得到各个位置所能组成的矩形面积\n",
    "                res=max(area,res);     //将最大面积的矩形保存下来\n",
    "            }\n",
    "                \n",
    "        }\n",
    "        \n",
    "        return res;\n",
    "    }\n",
    "};"
   ]
  },
  {
   "cell_type": "markdown",
   "metadata": {},
   "source": [
    "## 44. 通配符匹配\n",
    "给定一个字符串 (s) 和一个字符模式 (p) ，实现一个支持 '?' 和 '*' 的通配符匹配。\n",
    "\n",
    "'?' 可以匹配任何单个字符。\n",
    "'*' 可以匹配任意字符串（包括空字符串）。\n",
    "两个字符串完全匹配才算匹配成功。\n",
    "\n",
    "说明:\n",
    "\n",
    "s 可能为空，且只包含从 a-z 的小写字母。\n",
    "p 可能为空，且只包含从 a-z 的小写字母，以及字符 ? 和 *。\n",
    "\n",
    "* 示例 1:\n",
    "\n",
    "输入:\n",
    "s = \"aa\"\n",
    "p = \"a\"\n",
    "输出: false\n",
    "解释: \"a\" 无法匹配 \"aa\" 整个字符串。\n",
    "\n"
   ]
  },
  {
   "cell_type": "code",
   "execution_count": null,
   "metadata": {},
   "outputs": [],
   "source": [
    "class Solution {\n",
    "public:\n",
    "    bool isMatch(string s, string p) {\n",
    "        int i=0,j=0,istar=-1,jstar=-1;\n",
    "        while(i<s.size()){\n",
    "            if(s[i]==p[j] || p[j]=='?'){    //当对应的字符相同或p的字符为'?'时，s和p的指针都指向下一个位置\n",
    "                i++;  j++;\n",
    "            }\n",
    "            else if(p[j]=='*'){      //如果p的字符为'*'时，通过istar和jstar来记录*匹配的位置，且j指向下一个位置直到不是*号为止  \n",
    "                istar=i;  \n",
    "                jstar=j;\n",
    "                ++j;\n",
    "            }\n",
    "            else if(istar>=0){     // 当出现了*，且s[i]和p[j]不能匹配时，只能认为s[i]与p[j-1]那个*号匹配\n",
    "                istar++;    //此时记录下S当前字符与*匹配的位置\n",
    "                i=istar;        \n",
    "                j=jstar+1;     //此时p的指针指向*下一个位置\n",
    "            }\n",
    "            else  return false;     //当没有出现*且s[i]!=p[j]&&p[j]!='?'时，匹配失败\n",
    "        }\n",
    "        while(j<p.size()&&p[j]=='*')  ++j;   //检查p是否还有未匹配的非*字符\n",
    "        return j==p.size();   \n",
    "    \n",
    "    \n",
    "    \n",
    "    \n",
    "    }   \n",
    "};"
   ]
  },
  {
   "cell_type": "code",
   "execution_count": null,
   "metadata": {},
   "outputs": [],
   "source": []
  },
  {
   "cell_type": "code",
   "execution_count": null,
   "metadata": {},
   "outputs": [],
   "source": []
  },
  {
   "cell_type": "code",
   "execution_count": null,
   "metadata": {},
   "outputs": [],
   "source": []
  }
 ],
 "metadata": {
  "kernelspec": {
   "display_name": "C++11",
   "language": "C++11",
   "name": "xeus-cling-cpp11"
  },
  "language_info": {
   "codemirror_mode": "text/x-c++src",
   "file_extension": ".cpp",
   "mimetype": "text/x-c++src",
   "name": "c++",
   "version": "-std=c++11"
  }
 },
 "nbformat": 4,
 "nbformat_minor": 2
}
