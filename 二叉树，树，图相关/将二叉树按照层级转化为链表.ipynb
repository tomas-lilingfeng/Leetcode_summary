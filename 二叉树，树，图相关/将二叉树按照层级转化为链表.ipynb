{
 "cells": [
  {
   "cell_type": "markdown",
   "metadata": {},
   "source": [
    "# 总结：BFS、DFS和DP需要重点关注"
   ]
  },
  {
   "cell_type": "markdown",
   "metadata": {},
   "source": [
    "## 754. 到达终点数字"
   ]
  },
  {
   "cell_type": "markdown",
   "metadata": {},
   "source": [
    "### 在一根无限长的数轴上，你站在0的位置。终点在target的位置。\n",
    "\n",
    "每次你可以选择向左或向右移动。第 n 次移动（从 1 开始），可以走 n 步。\n",
    "\n",
    "返回到达终点需要的最小移动次数。\n",
    "\n",
    "输入: target = 2\n",
    "输出: 3\n",
    "解释:\n",
    "第一次移动，从 0 到 1 。\n",
    "第二次移动，从 1 到 -1 。\n",
    "第三次移动，从 -1 到 2 。"
   ]
  },
  {
   "cell_type": "code",
   "execution_count": null,
   "metadata": {},
   "outputs": [],
   "source": [
    "class Solution {\n",
    "public:\n",
    "    int reachNumber(int target) {\n",
    "        //时间复杂度O(n)，空间复杂度O(1)\n",
    "        target=abs(target);\n",
    "        int res=0,sum=0;\n",
    "        while(sum<target||(sum-target)%2==1){//当sum>=target且sum与target的差值为偶数时跳出循环\n",
    "            res++;\n",
    "            sum+=res;\n",
    "        }\n",
    "        return res;\n",
    "    }\n",
    "};"
   ]
  },
  {
   "cell_type": "markdown",
   "metadata": {},
   "source": [
    "## 242. 将二叉树按照层级转化为链表\n",
    "中文English\n",
    "给一棵二叉树，设计一个算法为每一层的节点建立一个链表。也就是说，如果一棵二叉树有 D 层，那么你需要创建 D 条链表。\n",
    "\n",
    "样例\n",
    "样例 1:\n",
    "\n",
    "输入: {1,2,3,4}\n",
    "输出: [1->null,2->3->null,4->null]\n",
    "解释: \n",
    "        1\n",
    "       / \\\n",
    "      2   3\n",
    "     /\n",
    "    4\n",
    "样例 2:\n",
    "\n",
    "输入: {1,#,2,3}\n",
    "输出: [1->null,2->null,3->null]\n",
    "解释: \n",
    "    1\n",
    "     \\\n",
    "      2\n",
    "     /\n",
    "    3"
   ]
  },
  {
   "cell_type": "code",
   "execution_count": null,
   "metadata": {},
   "outputs": [],
   "source": [
    "/**\n",
    " * Definition of TreeNode:\n",
    " * class TreeNode {\n",
    " * public:\n",
    " *     int val;\n",
    " *     TreeNode *left, *right;\n",
    " *     TreeNode(int val) {\n",
    " *         this->val = val;\n",
    " *         this->left = this->right = NULL;\n",
    " *     }\n",
    " * }\n",
    " * Definition for singly-linked list.\n",
    " * struct ListNode {\n",
    " *     int val;\n",
    " *     ListNode *next;\n",
    " *     ListNode(int x) : val(x), next(NULL) {}\n",
    " * };\n",
    " */\n",
    "\n",
    " \n",
    "class Solution {\n",
    "public:\n",
    "    /**\n",
    "     * @param root the root of binary tree\n",
    "     * @return a lists of linked list\n",
    "     */\n",
    "    vector<ListNode*> binaryTreeToLists(TreeNode* root) {\n",
    "        // Write your code here\n",
    "        if(!root)\n",
    "        return vector<ListNode*>();\n",
    "        \n",
    "        queue<TreeNode *> q;\n",
    "        q.push(root);\n",
    "        vector<ListNode *> res;\n",
    "        ListNode *cur;\n",
    "        while(!q.empty()){\n",
    "            int n=q.size();\n",
    "            ListNode *p=new ListNode(-1);\n",
    "            cur=p;\n",
    "            \n",
    "            for(int i=0;i<n;i++){\n",
    "                TreeNode * treenode=q.front();\n",
    "                q.pop();\n",
    "                \n",
    "                cur->next=new ListNode(treenode->val);\n",
    "                cur=cur->next;\n",
    "                if(treenode->left){\n",
    "                    q.push(treenode->left);\n",
    "                }\n",
    "                if(treenode->right){\n",
    "                    q.push(treenode->right);\n",
    "                }\n",
    "                \n",
    "                \n",
    "            }\n",
    "            \n",
    "            cur->next=NULL;\n",
    "            res.push_back(p->next);\n",
    "            \n",
    "            \n",
    "        }\n",
    "        return res;\n",
    "    }\n",
    "};"
   ]
  },
  {
   "cell_type": "markdown",
   "metadata": {},
   "source": [
    "## 62. 不同路径"
   ]
  },
  {
   "cell_type": "markdown",
   "metadata": {},
   "source": [
    "一个机器人位于一个 m x n 网格的左上角 （起始点在下图中标记为“Start” ）。\n",
    "\n",
    "机器人每次只能向下或者向右移动一步。机器人试图达到网格的右下角（在下图中标记为“Finish”）。\n",
    "\n",
    "问总共有多少条不同的路径？\n",
    "\n",
    "说明：m 和 n 的值均不超过 100。\n",
    "\n",
    "示例 1:\n",
    "\n",
    "输入: m = 3, n = 2\n",
    "输出: 3\n",
    "解释:\n",
    "从左上角开始，总共有 3 条路径可以到达右下角。\n",
    "1. 向右 -> 向右 -> 向下\n",
    "2. 向右 -> 向下 -> 向右\n",
    "3. 向下 -> 向右 -> 向右\n",
    "\n",
    " "
   ]
  },
  {
   "cell_type": "code",
   "execution_count": null,
   "metadata": {},
   "outputs": [],
   "source": [
    "class Solution {\n",
    "public:\n",
    "    int uniquePaths(int m, int n) {\n",
    "        //时间复杂度O(mn)，空间复杂度O(mn)\n",
    "        \n",
    "        vector<vector<int>> dp(n,vector<int>(m));\n",
    "        for(int i=0;i<n;++i)\n",
    "            dp[i][0]=1;\n",
    "        for(int j=1;j<m;++j)\n",
    "            dp[0][j]=1;\n",
    "        for(int i=1;i<n;++i){\n",
    "            for(int j=1;j<m;++j){\n",
    "                dp[i][j]=dp[i][j-1]+dp[i-1][j];   //当前路径等于上一格路径数加左一格路径数\n",
    "            }\n",
    "        }\n",
    "        return dp[n-1][m-1];\n",
    "        \n",
    "    }\n",
    "};\n",
    "\n",
    "\n",
    " "
   ]
  },
  {
   "cell_type": "code",
   "execution_count": null,
   "metadata": {},
   "outputs": [],
   "source": []
  },
  {
   "cell_type": "code",
   "execution_count": null,
   "metadata": {},
   "outputs": [],
   "source": []
  },
  {
   "cell_type": "code",
   "execution_count": null,
   "metadata": {},
   "outputs": [],
   "source": []
  },
  {
   "cell_type": "code",
   "execution_count": null,
   "metadata": {},
   "outputs": [],
   "source": []
  },
  {
   "cell_type": "code",
   "execution_count": null,
   "metadata": {},
   "outputs": [],
   "source": []
  },
  {
   "cell_type": "code",
   "execution_count": null,
   "metadata": {},
   "outputs": [],
   "source": []
  },
  {
   "cell_type": "code",
   "execution_count": null,
   "metadata": {},
   "outputs": [],
   "source": []
  },
  {
   "cell_type": "code",
   "execution_count": null,
   "metadata": {},
   "outputs": [],
   "source": []
  },
  {
   "cell_type": "code",
   "execution_count": null,
   "metadata": {},
   "outputs": [],
   "source": []
  },
  {
   "cell_type": "code",
   "execution_count": null,
   "metadata": {},
   "outputs": [],
   "source": []
  },
  {
   "cell_type": "code",
   "execution_count": null,
   "metadata": {},
   "outputs": [],
   "source": []
  },
  {
   "cell_type": "code",
   "execution_count": null,
   "metadata": {},
   "outputs": [],
   "source": []
  },
  {
   "cell_type": "code",
   "execution_count": null,
   "metadata": {},
   "outputs": [],
   "source": []
  }
 ],
 "metadata": {
  "kernelspec": {
   "display_name": "C++11",
   "language": "C++11",
   "name": "xeus-cling-cpp11"
  },
  "language_info": {
   "codemirror_mode": "text/x-c++src",
   "file_extension": ".cpp",
   "mimetype": "text/x-c++src",
   "name": "c++",
   "version": "-std=c++11"
  }
 },
 "nbformat": 4,
 "nbformat_minor": 2
}
