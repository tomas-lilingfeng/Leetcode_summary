{
 "cells": [
  {
   "cell_type": "markdown",
   "metadata": {},
   "source": [
    "### 总结：\n",
    "#### 二叉树前序中序后序都有（递归、非递归使用栈、线索二叉树）共九种方法；层次遍历有递归和非递归；\n",
    "### 数组、链表转化为平衡二叉树考察二分法（链表使用快慢指针来切分链表）\n",
    "#### 取得二叉树深度可用层次遍历\n",
    "*******"
   ]
  },
  {
   "cell_type": "markdown",
   "metadata": {},
   "source": [
    "## 二叉树前序、中序、后序遍历（递归方法）"
   ]
  },
  {
   "cell_type": "markdown",
   "metadata": {},
   "source": [
    "### 中序："
   ]
  },
  {
   "cell_type": "code",
   "execution_count": null,
   "metadata": {},
   "outputs": [],
   "source": [
    "/**\n",
    " * Definition for a binary tree node.\n",
    " * struct TreeNode {\n",
    " *     int val;\n",
    " *     TreeNode *left;\n",
    " *     TreeNode *right;\n",
    " *     TreeNode(int x) : val(x), left(NULL), right(NULL) {}\n",
    " * };\n",
    " */\n",
    "\n",
    "//中序遍历\n",
    "class Solution {\n",
    "public:\n",
    "    vector<int> inorderTraversal(TreeNode* root) {\n",
    "        //时间复杂度O(n)，空间复杂度O(n)\n",
    "        vector<int> res;\n",
    "        inorder(root,res);\n",
    "        return res;\n",
    "    }\n",
    "    \n",
    "    void inorder(TreeNode* root,vector<int> &res){\n",
    "        if(!root)\n",
    "            return ;\n",
    "        if(root->left)\n",
    "            inorder(root->left,res);\n",
    "        res.push_back(root->val);   //left-->root-->right\n",
    "        if(root->right)\n",
    "            inorder(root->right,res);\n",
    "    }\n",
    "};"
   ]
  },
  {
   "cell_type": "markdown",
   "metadata": {},
   "source": [
    "### 前序："
   ]
  },
  {
   "cell_type": "code",
   "execution_count": null,
   "metadata": {},
   "outputs": [],
   "source": [
    "/**\n",
    " * Definition for a binary tree node.\n",
    " * struct TreeNode {\n",
    " *     int val;\n",
    " *     TreeNode *left;\n",
    " *     TreeNode *right;\n",
    " *     TreeNode(int x) : val(x), left(NULL), right(NULL) {}\n",
    " * };\n",
    " */\n",
    "\n",
    "\n",
    "class Solution {\n",
    "public:\n",
    "    vector<int> inorderTraversal(TreeNode* root) {\n",
    "        //时间复杂度O(n)，空间复杂度O(n)\n",
    "        vector<int> res;\n",
    "        inorder(root,res);\n",
    "        return res;\n",
    "    }\n",
    "    \n",
    "    void inorder(TreeNode* root,vector<int> &res){\n",
    "        if(!root)\n",
    "            return ;\n",
    "        res.push_back(root->val);   //  root-->left-->right\n",
    "        if(root->left)\n",
    "            inorder(root->left,res);\n",
    "        \n",
    "        if(root->right)\n",
    "            inorder(root->right,res);\n",
    "    }\n",
    "};"
   ]
  },
  {
   "cell_type": "markdown",
   "metadata": {},
   "source": [
    "### 后序："
   ]
  },
  {
   "cell_type": "code",
   "execution_count": null,
   "metadata": {},
   "outputs": [],
   "source": [
    "/**\n",
    " * Definition for a binary tree node.\n",
    " * struct TreeNode {\n",
    " *     int val;\n",
    " *     TreeNode *left;\n",
    " *     TreeNode *right;\n",
    " *     TreeNode(int x) : val(x), left(NULL), right(NULL) {}\n",
    " * };\n",
    " */\n",
    "\n",
    "\n",
    "class Solution {\n",
    "public:\n",
    "    vector<int> inorderTraversal(TreeNode* root) {\n",
    "        //时间复杂度O(n)，空间复杂度O(n)\n",
    "        vector<int> res;\n",
    "        inorder(root,res);\n",
    "        return res;\n",
    "    }\n",
    "    \n",
    "    void inorder(TreeNode* root,vector<int> &res){\n",
    "        if(!root)\n",
    "            return ;\n",
    "        if(root->left)\n",
    "            inorder(root->left,res);\n",
    "        \n",
    "        if(root->right)\n",
    "            inorder(root->right,res);\n",
    "        res.push_back(root->val);  //  left-->right-->root\n",
    "    }\n",
    "};"
   ]
  },
  {
   "cell_type": "markdown",
   "metadata": {},
   "source": [
    "## 二叉树前序、中序、后序遍历（非递归方法）"
   ]
  },
  {
   "cell_type": "markdown",
   "metadata": {},
   "source": [
    "### 中序："
   ]
  },
  {
   "cell_type": "code",
   "execution_count": null,
   "metadata": {},
   "outputs": [],
   "source": [
    "class Solution {\n",
    "public:\n",
    "    vector<int> inorderTraversal(TreeNode *root) {\n",
    "        vector<int> res;\n",
    "        stack<TreeNode*> s;\n",
    "        TreeNode *p = root;\n",
    "        while (p || !s.empty()) {\n",
    "            while (p) {\n",
    "                s.push(p);\n",
    "                p = p->left;\n",
    "            }\n",
    "            p = s.top(); s.pop();\n",
    "            res.push_back(p->val);//left---root---right\n",
    "            p = p->right;\n",
    "        }\n",
    "        return res;\n",
    "    }\n",
    "};"
   ]
  },
  {
   "cell_type": "markdown",
   "metadata": {},
   "source": [
    "### 前序："
   ]
  },
  {
   "cell_type": "code",
   "execution_count": null,
   "metadata": {},
   "outputs": [],
   "source": [
    "class Solution {\n",
    "public:\n",
    "    vector<int> inorderTraversal(TreeNode *root) {\n",
    "        vector<int> res;\n",
    "        stack<TreeNode*> s;\n",
    "        TreeNode *p = root;\n",
    "        while (p || !s.empty()) {\n",
    "            while (p) {\n",
    "                s.push(p);\n",
    "                res.push_back(p->val);//root---left---right\n",
    "                p = p->left;\n",
    "            }\n",
    "            p = s.top();\n",
    "            s.pop();\n",
    "            \n",
    "            p = p->right;\n",
    "        }\n",
    "        return res;\n",
    "    }\n",
    "};"
   ]
  },
  {
   "cell_type": "markdown",
   "metadata": {},
   "source": [
    "### 后序："
   ]
  },
  {
   "cell_type": "code",
   "execution_count": null,
   "metadata": {},
   "outputs": [],
   "source": [
    "class Solution {\n",
    "public:\n",
    "    vector<int> postorderTraversal(TreeNode* root) {\n",
    "        if (!root) return {};\n",
    "        vector<int> res;\n",
    "        stack<TreeNode*> s{{root}};\n",
    "        \n",
    "        while (!s.empty()) {\n",
    "            TreeNode *t = s.top(); \n",
    "            s.pop();\n",
    "            res.insert(res.begin(), t->val);\n",
    "            if (t->left) \n",
    "                s.push(t->left);\n",
    "            if (t->right) \n",
    "                s.push(t->right);\n",
    "        }\n",
    "        return res;\n",
    "    }\n",
    "};\n"
   ]
  },
  {
   "cell_type": "markdown",
   "metadata": {},
   "source": [
    "## 二叉树前序、中序、后序遍历（Morris Traversal）（非递归不用栈方法）"
   ]
  },
  {
   "cell_type": "markdown",
   "metadata": {},
   "source": [
    "### 中序："
   ]
  },
  {
   "cell_type": "code",
   "execution_count": null,
   "metadata": {},
   "outputs": [],
   "source": [
    "// 本方法中，我们使用一种新的数据结构：线索二叉树。方法如下：\n",
    "// Step 1: 将当前节点current初始化为根节点\n",
    "// Step 2: While current不为空，\n",
    "// 若current没有左子节点\n",
    "//     a. 将current添加到输出\n",
    "//     b. 进入右子树，亦即, current = current.right\n",
    "// 否则\n",
    "//     a. 在current的左子树中，令current成为最右侧节点的右子节点\n",
    "//     b. 进入左子树，亦即，current = current.left\n",
    "// Non-recursion and no stack\n",
    "class Solution {\n",
    "public:\n",
    "    vector<int> inorderTraversal(TreeNode *root) {\n",
    "        vector<int> res;\n",
    "        TreeNode *cur=root;\n",
    "        TreeNode *pre;\n",
    "        while(cur){\n",
    "            if(!cur->left){\n",
    "                res.push_back(cur->val);\n",
    "                cur=cur->right;\n",
    "            }\n",
    "            else{\n",
    "                pre=cur->left;\n",
    "                while(pre->right!=NULL){\n",
    "                    pre=pre->right;\n",
    "                }\n",
    "                pre->right=cur;\n",
    "                \n",
    "                TreeNode *tmp=cur;\n",
    "                cur=cur->left;\n",
    "                tmp->left=NULL;\n",
    "                \n",
    "                \n",
    "            }\n",
    "        }\n",
    "        return res;\n",
    "        \n",
    "        \n",
    "        \n",
    "    }\n",
    "};"
   ]
  },
  {
   "cell_type": "markdown",
   "metadata": {},
   "source": [
    "### 二叉树层次遍历："
   ]
  },
  {
   "cell_type": "code",
   "execution_count": null,
   "metadata": {},
   "outputs": [],
   "source": [
    "/**\n",
    " * Definition for a binary tree node.\n",
    " * struct TreeNode {\n",
    " *     int val;\n",
    " *     TreeNode *left;\n",
    " *     TreeNode *right;\n",
    " *     TreeNode(int x) : val(x), left(NULL), right(NULL) {}\n",
    " * };\n",
    " */\n",
    "class Solution {\n",
    "public:\n",
    "    vector<vector<int>> levelOrder(TreeNode* root) {\n",
    "        //时间复杂度O(n)，空间复杂度O(n)\n",
    "        if(!root)\n",
    "            return {};\n",
    "        vector<vector<int>> res;\n",
    "        queue<TreeNode*>q{{root}};\n",
    "        while(!q.empty()){\n",
    "            vector<int> tmp;\n",
    "            for(int i=q.size();i>0;--i){\n",
    "                TreeNode *t=q.front();\n",
    "                q.pop();\n",
    "                tmp.push_back(t->val);\n",
    "                if(t->left)\n",
    "                    q.push(t->left);\n",
    "                if(t->right)\n",
    "                    q.push(t->right);\n",
    "            }\n",
    "            res.push_back(tmp);\n",
    "        }\n",
    "        \n",
    "        return res;\n",
    "    }\n",
    "};"
   ]
  },
  {
   "cell_type": "markdown",
   "metadata": {},
   "source": [
    "## 104. 二叉树的最大深度\n",
    "#### 给定一个二叉树，找出其最大深度。\n",
    "\n",
    "二叉树的深度为根节点到最远叶子节点的最长路径上的节点数。\n",
    "\n",
    "说明: 叶子节点是指没有子节点的节点。\n",
    "\n",
    "示例：\n",
    "给定二叉树 [3,9,20,null,null,15,7]\n",
    "####     3\n",
    "####     / \\\n",
    "####   9  20\n",
    "####       /  \\\n",
    "####     15  7\n"
   ]
  },
  {
   "cell_type": "code",
   "execution_count": null,
   "metadata": {},
   "outputs": [],
   "source": [
    "/**\n",
    " * Definition for a binary tree node.\n",
    " * struct TreeNode {\n",
    " *     int val;\n",
    " *     TreeNode *left;\n",
    " *     TreeNode *right;\n",
    " *     TreeNode(int x) : val(x), left(NULL), right(NULL) {}\n",
    " * };\n",
    " */\n",
    "class Solution {\n",
    "public:\n",
    "    int maxDepth(TreeNode* root) {\n",
    "        //时间复杂度O(n)，空间复杂度O(n)\n",
    "        if(!root)\n",
    "            return 0;\n",
    "        queue<TreeNode*> q{{root}};\n",
    "        int res=0;\n",
    "        while(!q.empty()){\n",
    "            ++res;\n",
    "            for(int i=q.size();i>0;--i){\n",
    "                TreeNode *t=q.front();\n",
    "                q.pop();\n",
    "                if(t->left)\n",
    "                    q.push(t->left);\n",
    "                if(t->right)\n",
    "                    q.push(t->right);\n",
    "            }\n",
    "        }\n",
    "        return res;\n",
    "    }\n",
    "};"
   ]
  },
  {
   "cell_type": "code",
   "execution_count": null,
   "metadata": {},
   "outputs": [],
   "source": []
  },
  {
   "cell_type": "code",
   "execution_count": null,
   "metadata": {},
   "outputs": [],
   "source": []
  },
  {
   "cell_type": "markdown",
   "metadata": {},
   "source": [
    "## 108. 将有序数组转换为二叉搜索树"
   ]
  },
  {
   "cell_type": "markdown",
   "metadata": {},
   "source": [
    "### 将一个按照升序排列的有序数组，转换为一棵高度平衡二叉搜索树。\n",
    "\n",
    "#### 本题中，一个高度平衡二叉树是指一个二叉树每个节点 的左右两个子树的高度差的绝对值不超过 1。"
   ]
  },
  {
   "cell_type": "code",
   "execution_count": null,
   "metadata": {},
   "outputs": [],
   "source": [
    "/**\n",
    " * Definition for a binary tree node.\n",
    " * struct TreeNode {\n",
    " *     int val;\n",
    " *     TreeNode *left;\n",
    " *     TreeNode *right;\n",
    " *     TreeNode(int x) : val(x), left(NULL), right(NULL) {}\n",
    " * };\n",
    " */\n",
    "class Solution {\n",
    "public:\n",
    "    TreeNode* sortedArrayToBST(vector<int>& nums) {\n",
    "        //时间复杂度O(n)，空间复杂度O(n)\n",
    "        return trans(nums,0,nums.size()-1);\n",
    "    }\n",
    "    TreeNode* trans(vector<int>& nums,int left,int right){\n",
    "        if(left>right)\n",
    "            return NULL;\n",
    "        int mid=left+(right-left)/2;\n",
    "        TreeNode *cur=new TreeNode(nums[mid]);\n",
    "        cur->left=trans(nums,left,mid-1);\n",
    "        cur->right=trans(nums,mid+1,right);\n",
    "        return cur;\n",
    "    }\n",
    "    \n",
    "};"
   ]
  },
  {
   "cell_type": "code",
   "execution_count": null,
   "metadata": {},
   "outputs": [],
   "source": []
  },
  {
   "cell_type": "markdown",
   "metadata": {},
   "source": [
    "## 109. 有序链表转换二叉搜索树"
   ]
  },
  {
   "cell_type": "markdown",
   "metadata": {},
   "source": [
    "### 给定一个单链表，其中的元素按升序排序，将其转换为高度平衡的二叉搜索树。\n",
    "\n",
    "#### 本题中，一个高度平衡二叉树是指一个二叉树每个节点 的左右两个子树的高度差的绝对值不超过 1。\n"
   ]
  },
  {
   "cell_type": "code",
   "execution_count": null,
   "metadata": {},
   "outputs": [],
   "source": [
    "/**\n",
    " * Definition for a binary tree node.\n",
    " * struct TreeNode {\n",
    " *     int val;\n",
    " *     TreeNode *left;\n",
    " *     TreeNode *right;\n",
    " *     TreeNode(int x) : val(x), left(NULL), right(NULL) {}\n",
    " * };\n",
    " */\n",
    "class Solution {\n",
    "public:\n",
    "    TreeNode* sortedListToBST(ListNode* head) {\n",
    "        //时间复杂度O(nlogn)，空间复杂度O(n)\n",
    "        if(!head)\n",
    "            return NULL;\n",
    "        return trans(head,NULL);\n",
    "    }\n",
    "    TreeNode* trans(ListNode* head,ListNode *tail){\n",
    "        if(head==tail)\n",
    "            return NULL;\n",
    "        ListNode *slow=head,*fast=head;\n",
    "        while(fast!=tail&&fast->next!=tail){\n",
    "            slow=slow->next;\n",
    "            fast=fast->next->next;\n",
    "        }\n",
    "        TreeNode *cur=new TreeNode(slow->val);\n",
    "        cur->left=trans(head,slow);\n",
    "        cur->right=trans(slow->next,tail);\n",
    "            \n",
    "        return cur;\n",
    "    }\n",
    "    \n",
    "};"
   ]
  },
  {
   "cell_type": "code",
   "execution_count": null,
   "metadata": {},
   "outputs": [],
   "source": []
  },
  {
   "cell_type": "code",
   "execution_count": null,
   "metadata": {},
   "outputs": [],
   "source": []
  }
 ],
 "metadata": {
  "kernelspec": {
   "display_name": "C++11",
   "language": "C++11",
   "name": "xeus-cling-cpp11"
  },
  "language_info": {
   "codemirror_mode": "text/x-c++src",
   "file_extension": ".cpp",
   "mimetype": "text/x-c++src",
   "name": "c++",
   "version": "-std=c++11"
  }
 },
 "nbformat": 4,
 "nbformat_minor": 2
}
