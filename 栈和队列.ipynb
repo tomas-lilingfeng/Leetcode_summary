{
 "cells": [
  {
   "cell_type": "markdown",
   "metadata": {},
   "source": [
    "## 总结：以下几道题考察了分治；链表，队列和栈。\n",
    "### 队列实现栈：使用两个队列，一个存储栈顶元素，当 push() 操作时，将新数字先加入模拟栈顶元素的队列中，如果此时队列中有数字，则将原本有的数字放入另一个队中，让新数字在这队中，用来模拟栈顶元素。当 top() 操作时，如果模拟栈顶的队中有数字则直接返回，如果没有则到另一个队列中通过平移数字取出最后一个数字加入模拟栈顶的队列中。当 pop() 操作时，先执行下 top() 操作，保证模拟栈顶的队列中有数字，然后再将该数字移除即可。当 empty() 操作时，当两个队列都为空时，栈为空。\n",
    "### 栈实现队列：在插入元素的时候每次都都从前面插入即可，比如如果一个队列是1,2,3,4，那么我们在栈中保存为4,3,2,1，那么返回栈顶元素1，也就是队列的首元素，则问题迎刃而解。所以此题的难度是push函数，我们需要一个辅助栈tmp，把s的元素也逆着顺序存入tmp中，此时加入新元素x，再把tmp中的元素存回来，这样就是我们要的顺序了。"
   ]
  },
  {
   "cell_type": "markdown",
   "metadata": {},
   "source": [
    "## 148. 排序链表"
   ]
  },
  {
   "cell_type": "markdown",
   "metadata": {},
   "source": [
    "#### 在 O(n log n) 时间复杂度和常数级空间复杂度下，对链表进行排序。"
   ]
  },
  {
   "cell_type": "markdown",
   "metadata": {},
   "source": [
    "#### 输入: 4->2->1->3\n",
    "#### 输出: 1->2->3->4\n"
   ]
  },
  {
   "cell_type": "markdown",
   "metadata": {},
   "source": [
    "### 常见排序方法有很多，插入排序，选择排序，堆排序，快速排序，冒泡排序，归并排序，桶排序等等。。它们的时间复杂度不尽相同，而这里题目限定了时间必须为O(nlgn)，符合要求只有快速排序，归并排序，堆排序，而根据单链表的特点，最适于用归并排序。为啥呢？这是由于链表自身的特点决定的，由于不能通过坐标来直接访问元素，所以快排什么的可能不太容易实现（但是被评论区的大神们打脸，还是可以实现的），堆排序的话，如果让新建结点的话，还是可以考虑的，若只能交换结点，最好还是不要用。而归并排序（又称混合排序）因其可以利用递归来交换数字，天然适合链表这种结构。归并排序的核心是一个 merge() 函数，其主要是合并两个有序链表，这个在 LeetCode 中也有单独的题目[ Merge Two Sorted Lists](https://www.cnblogs.com/grandyang/p/4086297.html)。由于两个链表是要有序的才能比较容易 merge，那么对于一个无序的链表，如何才能拆分成有序的两个链表呢？我们从简单来想，什么时候两个链表一定都是有序的？就是当两个链表各只有一个结点的时候，一定是有序的。而归并排序的核心其实是分治法 Divide and Conquer，就是将链表从中间断开，分成两部分，左右两边再分别调用排序的递归函数 sortList()，得到各自有序的链表后，再进行 merge()，这样整体就是有序的了。因为子链表的递归函数中还是会再次拆成两半，当拆到链表只有一个结点时，无法继续拆分了，而这正好满足了前面所说的“一个结点的时候一定是有序的”，这样就可以进行 merge 了。然后再回溯回去，每次得到的都是有序的链表，然后进行 merge，直到还原整个长度。这里将链表从中间断开的方法，采用的就是快慢指针，大家可能对快慢指针找链表中的环比较熟悉，其实找链表中的中点同样好使，因为快指针每次走两步，慢指针每次走一步，当快指针到达链表末尾时，慢指针正好走到中间位置，参见代码如下：\n"
   ]
  },
  {
   "cell_type": "code",
   "execution_count": null,
   "metadata": {},
   "outputs": [],
   "source": [
    "/**\n",
    " * Definition for singly-linked list.\n",
    " * struct ListNode {\n",
    " *     int val;\n",
    " *     ListNode *next;\n",
    " *     ListNode(int x) : val(x), next(NULL) {}\n",
    " * };\n",
    " */\n",
    "class Solution {\n",
    "public:\n",
    "    ListNode* sortList(ListNode* head) {\n",
    "        //时间复杂度O(nlogn)，空间复杂度O(1)\n",
    "        if(!head||!head->next){\n",
    "            return head;\n",
    "        }\n",
    "        ListNode *slow=head,*fast=head,*pre=head;\n",
    "        while(fast&&fast->next){\n",
    "            pre=slow;\n",
    "            slow=slow->next;\n",
    "            fast=fast->next->next;\n",
    "        }\n",
    "        pre->next=NULL;\n",
    "        return merge(sortList(head),sortList(slow));\n",
    "    }\n",
    "    \n",
    "    ListNode* merge(ListNode* l1,ListNode* l2){\n",
    "        ListNode* p=new ListNode(-1);\n",
    "        ListNode* cur=p;\n",
    "        while(l1&&l2){\n",
    "            if(l1->val>l2->val){\n",
    "                cur->next=l2;\n",
    "                l2=l2->next;\n",
    "            }\n",
    "            else{\n",
    "                cur->next=l1;\n",
    "                l1=l1->next;\n",
    "            }\n",
    "            cur=cur->next;\n",
    "        }\n",
    "        cur->next=l1?l1:l2;\n",
    "        return p->next;\n",
    "        \n",
    "    }\n",
    "};"
   ]
  },
  {
   "cell_type": "markdown",
   "metadata": {},
   "source": [
    "*****\n",
    "## 225. 用队列实现栈"
   ]
  },
  {
   "cell_type": "markdown",
   "metadata": {},
   "source": [
    "#### 使用队列实现栈的下列操作：\n",
    "\n",
    "push(x) -- 元素 x 入栈\n",
    "pop() -- 移除栈顶元素\n",
    "top() -- 获取栈顶元素\n",
    "empty() -- 返回栈是否为空\n",
    "注意:\n",
    "\n",
    "你只能使用队列的基本操作-- 也就是 push to back, peek/pop from front, size, 和 is empty 这些操作是合法的。\n",
    "你所使用的语言也许不支持队列。 你可以使用 list 或者 deque（双端队列）来模拟一个队列 , 只要是标准的队列操作即可。\n",
    "你可以假设所有操作都是有效的（例如, 对一个空的栈不会调用 pop 或者 top 操作）。\n"
   ]
  },
  {
   "cell_type": "markdown",
   "metadata": {},
   "source": [
    "#### 这道题让我们用队列来实现栈，队列和栈作为两种很重要的数据结构，它们最显著的区别就是，队列是先进先出，而栈是先进后出。题目要求中又给定了限制条件只能用 queue 的最基本的操作，像 back() 这样的操作是禁止使用的。那么怎么样才能让先进先出的特性模拟出先进后出呢，这里就需要另外一个队列来辅助操作，我们总共需要两个队列，其中一个队列用来放最后加进来的数，模拟栈顶元素。剩下所有的数都按顺序放入另一个队列中。当 push() 操作时，将新数字先加入模拟栈顶元素的队列中，如果此时队列中有数字，则将原本有的数字放入另一个队中，让新数字在这队中，用来模拟栈顶元素。当 top() 操作时，如果模拟栈顶的队中有数字则直接返回，如果没有则到另一个队列中通过平移数字取出最后一个数字加入模拟栈顶的队列中。当 pop() 操作时，先执行下 top() 操作，保证模拟栈顶的队列中有数字，然后再将该数字移除即可。当 empty() 操作时，当两个队列都为空时，栈为空。代码如下："
   ]
  },
  {
   "cell_type": "code",
   "execution_count": null,
   "metadata": {},
   "outputs": [],
   "source": [
    "class MyStack {\n",
    "public:\n",
    "    /** Initialize your data structure here. */\n",
    "    MyStack() {\n",
    "        \n",
    "    }\n",
    "    \n",
    "    /** Push element x onto stack. */\n",
    "    void push(int x) {\n",
    "        //时间复杂度O(1)，空间复杂度O(1)\n",
    "        q2.push(x);\n",
    "        while(q2.size()>1){\n",
    "            q1.push(q2.front());\n",
    "            q2.pop();\n",
    "        }\n",
    "    }\n",
    "    \n",
    "    /** Removes the element on top of the stack and returns that element. */\n",
    "    int pop() {\n",
    "        //时间复杂度O(n)，空间复杂度O(1)\n",
    "        int x=top();\n",
    "        q2.pop();\n",
    "        return x;\n",
    "        \n",
    "    }\n",
    "    \n",
    "    /** Get the top element. */\n",
    "    int top() {\n",
    "        //时间复杂度O(n)，空间复杂度O(1)\n",
    "        if(q2.empty()){\n",
    "            for(int i=0;i<q1.size()-1;++i){\n",
    "                q1.push(q1.front());\n",
    "                q1.pop();\n",
    "            }\n",
    "            q2.push(q1.front());\n",
    "            q1.pop();\n",
    "        }\n",
    "        return q2.front();\n",
    "    }\n",
    "    \n",
    "    /** Returns whether the stack is empty. */\n",
    "    bool empty() {\n",
    "        //时间复杂度O(1)，空间复杂度O(1)\n",
    "        if(q1.empty()&&q2.empty())\n",
    "            return true;\n",
    "        return false;\n",
    "    }\n",
    "private:\n",
    "    queue<int> q1,q2;\n",
    "    \n",
    "\n",
    "};\n",
    "\n",
    "/**\n",
    " * Your MyStack object will be instantiated and called as such:\n",
    " * MyStack* obj = new MyStack();\n",
    " * obj->push(x);\n",
    " * int param_2 = obj->pop();\n",
    " * int param_3 = obj->top();\n",
    " * bool param_4 = obj->empty();\n",
    " */"
   ]
  },
  {
   "cell_type": "markdown",
   "metadata": {},
   "source": [
    "## 232. 用栈实现队列"
   ]
  },
  {
   "cell_type": "markdown",
   "metadata": {},
   "source": [
    "#### 使用栈实现队列的下列操作：\n",
    "\n",
    "push(x) -- 将一个元素放入队列的尾部。\n",
    "pop() -- 从队列首部移除元素。\n",
    "peek() -- 返回队列首部的元素。\n",
    "empty() -- 返回队列是否为空。\n"
   ]
  },
  {
   "cell_type": "markdown",
   "metadata": {},
   "source": [
    "#### 栈和队列的核心不同点就是栈是先进后出，而队列是先进先出，那么我们要用栈的先进后出的特性来模拟出队列的先进先出。那么怎么做呢，其实很简单，只要我们在插入元素的时候每次都都从前面插入即可，比如如果一个队列是1,2,3,4，那么我们在栈中保存为4,3,2,1，那么返回栈顶元素1，也就是队列的首元素，则问题迎刃而解。所以此题的难度是push函数，我们需要一个辅助栈tmp，把s的元素也逆着顺序存入tmp中，此时加入新元素x，再把tmp中的元素存回来，这样就是我们要的顺序了，其他三个操作也就直接调用栈的操作即可，参见代码如下："
   ]
  },
  {
   "cell_type": "code",
   "execution_count": null,
   "metadata": {},
   "outputs": [],
   "source": [
    "class MyQueue {\n",
    "public:\n",
    "    /** Initialize your data structure here. */\n",
    "    MyQueue() {\n",
    "        \n",
    "    }\n",
    "    \n",
    "    /** Push element x to the back of queue. */\n",
    "    void push(int x) {\n",
    "        //时间复杂度O(n)，空间复杂度O(n)\n",
    "        stack<int> tmp;\n",
    "        while(!stk.empty()){\n",
    "            tmp.push(stk.top());\n",
    "            stk.pop();\n",
    "        }\n",
    "        stk.push(x);\n",
    "        while(!tmp.empty()){\n",
    "            stk.push(tmp.top());\n",
    "            tmp.pop();\n",
    "        }\n",
    "    }\n",
    "    \n",
    "    /** Removes the element from in front of queue and returns that element. */\n",
    "    int pop() {\n",
    "        //时间复杂度O(1)，空间复杂度O(1)\n",
    "        int x=stk.top();\n",
    "        stk.pop();\n",
    "        return x;\n",
    "    }\n",
    "    \n",
    "    /** Get the front element. */\n",
    "    int peek() {\n",
    "        //时间复杂度O(1)，空间复杂度O(1)\n",
    "        return stk.top();\n",
    "    }\n",
    "    \n",
    "    /** Returns whether the queue is empty. */\n",
    "    bool empty() {\n",
    "        //时间复杂度O(1)，空间复杂度O(1)\n",
    "        return stk.empty();\n",
    "    }\n",
    "private:\n",
    "    stack<int> stk;\n",
    "    \n",
    "};\n",
    "\n",
    "/**\n",
    " * Your MyQueue object will be instantiated and called as such:\n",
    " * MyQueue* obj = new MyQueue();\n",
    " * obj->push(x);\n",
    " * int param_2 = obj->pop();\n",
    " * int param_3 = obj->peek();\n",
    " * bool param_4 = obj->empty();\n",
    " */"
   ]
  },
  {
   "cell_type": "markdown",
   "metadata": {},
   "source": [
    "## 20. 有效的括号"
   ]
  },
  {
   "cell_type": "markdown",
   "metadata": {},
   "source": [
    "#### 给定一个只包括 '('，')'，'{'，'}'，'['，']' 的字符串，判断字符串是否有效。\n",
    "\n",
    "有效字符串需满足：\n",
    "\n",
    "左括号必须用相同类型的右括号闭合。\n",
    "左括号必须以正确的顺序闭合。\n",
    "注意空字符串可被认为是有效字符串。"
   ]
  },
  {
   "cell_type": "markdown",
   "metadata": {},
   "source": [
    "#### 输入: \"()\"\n",
    "#### 输出: true"
   ]
  },
  {
   "cell_type": "code",
   "execution_count": null,
   "metadata": {},
   "outputs": [],
   "source": [
    "class Solution {\n",
    "public:\n",
    "    bool isValid(string s) {\n",
    "        //时间复杂度O(n)，空间复杂度O(n)\n",
    "        stack<char> st;\n",
    "       \n",
    "        for(int i=0;i<s.size();i++){\n",
    "            \n",
    "            if(s[i]=='('||s[i]=='['||s[i]=='{')\n",
    "                st.push(s[i]);\n",
    "            else{\n",
    "                if(st.empty())\n",
    "                    return false;\n",
    "                if((s[i]==')'&&st.top()!='(')||(s[i]==']'&&st.top()!='[')||(s[i]=='}'&&st.top()!='{'))\n",
    "                    return false;\n",
    "                st.pop();\n",
    "            }\n",
    "            \n",
    "        }\n",
    "        return st.empty();\n",
    "    }\n",
    "};"
   ]
  },
  {
   "cell_type": "code",
   "execution_count": null,
   "metadata": {},
   "outputs": [],
   "source": []
  },
  {
   "cell_type": "code",
   "execution_count": null,
   "metadata": {},
   "outputs": [],
   "source": []
  },
  {
   "cell_type": "code",
   "execution_count": null,
   "metadata": {},
   "outputs": [],
   "source": []
  },
  {
   "cell_type": "code",
   "execution_count": null,
   "metadata": {},
   "outputs": [],
   "source": []
  },
  {
   "cell_type": "code",
   "execution_count": null,
   "metadata": {},
   "outputs": [],
   "source": []
  },
  {
   "cell_type": "code",
   "execution_count": null,
   "metadata": {},
   "outputs": [],
   "source": []
  },
  {
   "cell_type": "code",
   "execution_count": null,
   "metadata": {},
   "outputs": [],
   "source": []
  },
  {
   "cell_type": "code",
   "execution_count": null,
   "metadata": {},
   "outputs": [],
   "source": []
  }
 ],
 "metadata": {
  "kernelspec": {
   "display_name": "C++11",
   "language": "C++11",
   "name": "xeus-cling-cpp11"
  },
  "language_info": {
   "codemirror_mode": "text/x-c++src",
   "file_extension": ".cpp",
   "mimetype": "text/x-c++src",
   "name": "c++",
   "version": "-std=c++11"
  }
 },
 "nbformat": 4,
 "nbformat_minor": 2
}
